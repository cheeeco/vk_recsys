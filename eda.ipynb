{
 "cells": [
  {
   "cell_type": "markdown",
   "metadata": {},
   "source": [
    "download data"
   ]
  },
  {
   "cell_type": "code",
   "execution_count": null,
   "metadata": {},
   "outputs": [],
   "source": [
    "!rm -rf data\n",
    "!wget -P data https://storage.yandexcloud.net/ds-ods/files/data/docs/competitions/VKRecsysChallenge2024/dataset/train_interactions.parquet\n",
    "!wget -P data https://storage.yandexcloud.net/ds-ods/files/files/c1992ccf/users_meta.parquet\n",
    "!wget -P data https://storage.yandexcloud.net/ds-ods/files/files/13b479ed/items_meta.parquet\n",
    "!wget -P data https://storage.yandexcloud.net/ds-ods/files/files/0235d298/test_pairs.csv\n",
    "!wget -P data https://storage.yandexcloud.net/ds-ods/files/files/55b07019/sample_submission.csv"
   ]
  },
  {
   "cell_type": "code",
   "execution_count": null,
   "metadata": {},
   "outputs": [],
   "source": [
    "!wget https://storage.yandexcloud.net/ds-ods/files/files/82d94c5c/baseline.ipynb"
   ]
  }
 ],
 "metadata": {
  "kernelspec": {
   "display_name": "vk_env",
   "language": "python",
   "name": "python3"
  },
  "language_info": {
   "codemirror_mode": {
    "name": "ipython",
    "version": 3
   },
   "file_extension": ".py",
   "mimetype": "text/x-python",
   "name": "python",
   "nbconvert_exporter": "python",
   "pygments_lexer": "ipython3",
   "version": "3.10.12"
  }
 },
 "nbformat": 4,
 "nbformat_minor": 2
}
