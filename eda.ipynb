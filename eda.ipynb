{
 "cells": [
  {
   "cell_type": "markdown",
   "metadata": {},
   "source": [
    "download data"
   ]
  },
  {
   "cell_type": "code",
   "execution_count": null,
   "metadata": {},
   "outputs": [],
   "source": [
    "!rm -rf data\n",
    "!wget -P data https://storage.yandexcloud.net/ds-ods/files/data/docs/competitions/VKRecsysChallenge2024/dataset/train_interactions.parquet\n",
    "!wget -P data https://storage.yandexcloud.net/ds-ods/files/files/c1992ccf/users_meta.parquet\n",
    "!wget -P data https://storage.yandexcloud.net/ds-ods/files/files/13b479ed/items_meta.parquet\n",
    "!wget -P data https://storage.yandexcloud.net/ds-ods/files/files/0235d298/test_pairs.csv\n",
    "!wget -P data https://storage.yandexcloud.net/ds-ods/files/files/55b07019/sample_submission.csv"
   ]
  },
  {
   "cell_type": "code",
   "execution_count": null,
   "metadata": {},
   "outputs": [],
   "source": [
    "!wget https://storage.yandexcloud.net/ds-ods/files/files/82d94c5c/baseline.ipynb"
   ]
  },
  {
   "cell_type": "markdown",
   "metadata": {},
   "source": [
    "install libraries"
   ]
  },
  {
   "cell_type": "code",
   "execution_count": 1,
   "metadata": {},
   "outputs": [
    {
     "name": "stderr",
     "output_type": "stream",
     "text": [
      "/home/sokolov/.local/lib/python3.10/site-packages/tqdm/auto.py:21: TqdmWarning: IProgress not found. Please update jupyter and ipywidgets. See https://ipywidgets.readthedocs.io/en/stable/user_install.html\n",
      "  from .autonotebook import tqdm as notebook_tqdm\n"
     ]
    }
   ],
   "source": [
    "import numpy as np\n",
    "import pandas as pd\n",
    "import implicit\n",
    "import matplotlib.pyplot as plt\n",
    "from tqdm import tqdm\n",
    "from pathlib import Path\n",
    "from scipy.sparse import coo_matrix\n",
    "from sklearn.model_selection import train_test_split"
   ]
  },
  {
   "cell_type": "markdown",
   "metadata": {},
   "source": [
    "read data"
   ]
  },
  {
   "cell_type": "code",
   "execution_count": 2,
   "metadata": {},
   "outputs": [],
   "source": [
    "data_path = Path(\"./data\")\n",
    "user_item_data_path = data_path / \"train_interactions.parquet\"\n",
    "users_meta_data_path = data_path / \"users_meta.parquet\"\n",
    "items_meta_data_path = data_path / \"items_meta.parquet\"\n",
    "test_pairs_data_path = data_path / \"test_pairs.csv\""
   ]
  },
  {
   "cell_type": "code",
   "execution_count": 3,
   "metadata": {},
   "outputs": [],
   "source": [
    "user_item_data = pd.read_parquet(user_item_data_path)\n",
    "users_meta_data = pd.read_parquet(users_meta_data_path)\n",
    "items_meta_data = pd.read_parquet(items_meta_data_path)\n",
    "test_pairs_data = pd.read_csv(test_pairs_data_path)"
   ]
  },
  {
   "cell_type": "code",
   "execution_count": 4,
   "metadata": {},
   "outputs": [
    {
     "data": {
      "text/html": [
       "<div>\n",
       "<style scoped>\n",
       "    .dataframe tbody tr th:only-of-type {\n",
       "        vertical-align: middle;\n",
       "    }\n",
       "\n",
       "    .dataframe tbody tr th {\n",
       "        vertical-align: top;\n",
       "    }\n",
       "\n",
       "    .dataframe thead th {\n",
       "        text-align: right;\n",
       "    }\n",
       "</style>\n",
       "<table border=\"1\" class=\"dataframe\">\n",
       "  <thead>\n",
       "    <tr style=\"text-align: right;\">\n",
       "      <th></th>\n",
       "      <th>user_id</th>\n",
       "      <th>item_id</th>\n",
       "      <th>timespent</th>\n",
       "      <th>like</th>\n",
       "      <th>dislike</th>\n",
       "      <th>share</th>\n",
       "      <th>bookmarks</th>\n",
       "    </tr>\n",
       "  </thead>\n",
       "  <tbody>\n",
       "    <tr>\n",
       "      <th>0</th>\n",
       "      <td>3810</td>\n",
       "      <td>138979</td>\n",
       "      <td>6</td>\n",
       "      <td>0</td>\n",
       "      <td>0</td>\n",
       "      <td>0</td>\n",
       "      <td>0</td>\n",
       "    </tr>\n",
       "    <tr>\n",
       "      <th>1</th>\n",
       "      <td>101874</td>\n",
       "      <td>331160</td>\n",
       "      <td>6</td>\n",
       "      <td>0</td>\n",
       "      <td>0</td>\n",
       "      <td>0</td>\n",
       "      <td>0</td>\n",
       "    </tr>\n",
       "    <tr>\n",
       "      <th>2</th>\n",
       "      <td>150332</td>\n",
       "      <td>73709</td>\n",
       "      <td>11</td>\n",
       "      <td>0</td>\n",
       "      <td>0</td>\n",
       "      <td>0</td>\n",
       "      <td>0</td>\n",
       "    </tr>\n",
       "    <tr>\n",
       "      <th>3</th>\n",
       "      <td>4982</td>\n",
       "      <td>189745</td>\n",
       "      <td>5</td>\n",
       "      <td>0</td>\n",
       "      <td>0</td>\n",
       "      <td>0</td>\n",
       "      <td>0</td>\n",
       "    </tr>\n",
       "    <tr>\n",
       "      <th>4</th>\n",
       "      <td>149601</td>\n",
       "      <td>289643</td>\n",
       "      <td>1</td>\n",
       "      <td>0</td>\n",
       "      <td>0</td>\n",
       "      <td>1</td>\n",
       "      <td>0</td>\n",
       "    </tr>\n",
       "  </tbody>\n",
       "</table>\n",
       "</div>"
      ],
      "text/plain": [
       "   user_id  item_id  timespent  like  dislike  share  bookmarks\n",
       "0     3810   138979          6     0        0      0          0\n",
       "1   101874   331160          6     0        0      0          0\n",
       "2   150332    73709         11     0        0      0          0\n",
       "3     4982   189745          5     0        0      0          0\n",
       "4   149601   289643          1     0        0      1          0"
      ]
     },
     "execution_count": 4,
     "metadata": {},
     "output_type": "execute_result"
    }
   ],
   "source": [
    "user_item_data.head()"
   ]
  },
  {
   "cell_type": "code",
   "execution_count": 5,
   "metadata": {},
   "outputs": [],
   "source": [
    "ui_train, ui_val = train_test_split(user_item_data,\n",
    "                                    test_size=0.15,\n",
    "                                    random_state=42,\n",
    "                                    shuffle=False)"
   ]
  },
  {
   "cell_type": "code",
   "execution_count": 6,
   "metadata": {},
   "outputs": [],
   "source": [
    "u_train = ui_train.user_id\n",
    "i_train = ui_train.item_id\n",
    "likes_train = ui_train.like\n",
    "dislikes_train = ui_train.dislike"
   ]
  },
  {
   "cell_type": "code",
   "execution_count": 7,
   "metadata": {},
   "outputs": [],
   "source": [
    "sparse_train = coo_matrix((likes_train, (u_train, i_train)))"
   ]
  },
  {
   "cell_type": "code",
   "execution_count": 8,
   "metadata": {},
   "outputs": [
    {
     "name": "stderr",
     "output_type": "stream",
     "text": [
      "/home/sokolov/workspace/vk_recsys/vk_env/lib/python3.10/site-packages/implicit/utils.py:164: ParameterWarning: Method expects CSR input, and was passed coo_matrix instead. Converting to CSR took 4.980337381362915 seconds\n",
      "  warnings.warn(\n",
      "100%|██████████| 15/15 [01:37<00:00,  6.49s/it]\n"
     ]
    }
   ],
   "source": [
    "model = implicit.als.AlternatingLeastSquares(factors=256)\n",
    "model.fit(sparse_train)"
   ]
  },
  {
   "cell_type": "code",
   "execution_count": null,
   "metadata": {},
   "outputs": [],
   "source": [
    "model = model.to_cpu()"
   ]
  },
  {
   "cell_type": "code",
   "execution_count": 12,
   "metadata": {},
   "outputs": [],
   "source": [
    "als_score = (model.user_factors[ui_val['user_id']] * \n",
    "             model.item_factors[ui_val['item_id']]).sum(axis=1)"
   ]
  },
  {
   "cell_type": "code",
   "execution_count": 13,
   "metadata": {},
   "outputs": [],
   "source": [
    "ui_val['als_score'] = als_score"
   ]
  },
  {
   "cell_type": "code",
   "execution_count": 14,
   "metadata": {},
   "outputs": [],
   "source": [
    "ui_val[\"target\"] = ui_val[\"like\"].astype(np.int8) - ui_val[\"dislike\"].astype(np.int8)"
   ]
  },
  {
   "cell_type": "code",
   "execution_count": 15,
   "metadata": {},
   "outputs": [
    {
     "data": {
      "text/plain": [
       "array([ 0,  1, -1], dtype=int8)"
      ]
     },
     "execution_count": 15,
     "metadata": {},
     "output_type": "execute_result"
    }
   ],
   "source": [
    "ui_val[\"target\"].unique()"
   ]
  },
  {
   "cell_type": "code",
   "execution_count": 16,
   "metadata": {},
   "outputs": [
    {
     "data": {
      "image/png": "[encoded data removed]",
      "text/plain": [
       "<Figure size 640x480 with 1 Axes>"
      ]
     },
     "metadata": {},
     "output_type": "display_data"
    }
   ],
   "source": [
    "plt.hist(ui_val[\"als_score\"], bins=50)\n",
    "plt.title(\"ALS score\")\n",
    "plt.yscale(\"log\")\n",
    "plt.show()"
   ]
  },
  {
   "cell_type": "code",
   "execution_count": 17,
   "metadata": {},
   "outputs": [],
   "source": [
    "def compare_score(score1, score2):\n",
    "    if score1 > score2:\n",
    "        return 0\n",
    "    elif score1 == score2:\n",
    "        return 0.5\n",
    "    else:\n",
    "        return 1\n",
    "    \n",
    "def compare_target(target1, target2):\n",
    "    if target1 >= target2:\n",
    "        return 0\n",
    "    else:\n",
    "        return 1"
   ]
  },
  {
   "cell_type": "code",
   "execution_count": 18,
   "metadata": {},
   "outputs": [],
   "source": [
    "def roc_auc_score(y_true, y_score):\n",
    "    num = 0\n",
    "    denom = 0\n",
    "    for i in range(len(y_true)):\n",
    "        for j in range(len(y_true)):\n",
    "            if i == j:\n",
    "                continue\n",
    "            num += compare_score(y_score[i], y_score[j])*compare_target(y_true[i], y_true[j])\n",
    "            denom += compare_target(y_true[i], y_true[j])\n",
    "    return num/denom if denom>0 else None"
   ]
  },
  {
   "cell_type": "code",
   "execution_count": 19,
   "metadata": {},
   "outputs": [],
   "source": [
    "user_id = ui_val.user_id.values\n",
    "sorting_indices = user_id.argsort()\n",
    "user_id = user_id[sorting_indices]\n",
    "target_and_score = ui_val[[\"target\", \"als_score\"]].values\n",
    "groups = np.split(target_and_score, np.unique(user_id, return_index=True)[1][1:])"
   ]
  },
  {
   "cell_type": "code",
   "execution_count": 20,
   "metadata": {},
   "outputs": [
    {
     "name": "stderr",
     "output_type": "stream",
     "text": [
      "100%|██████████| 181721/181721 [48:14<00:00, 62.78it/s] \n"
     ]
    }
   ],
   "source": [
    "roc_auc = []\n",
    "\n",
    "for group in tqdm(groups):\n",
    "    target = group[:,0]\n",
    "    als_score = group[:,1]\n",
    "    roc_auc_ = roc_auc_score(y_true=target,\n",
    "                             y_score=als_score)\n",
    "    if roc_auc_ is not None:\n",
    "        roc_auc.append(roc_auc_)"
   ]
  },
  {
   "cell_type": "code",
   "execution_count": 65,
   "metadata": {},
   "outputs": [],
   "source": [
    "pd.set_option('display.max_rows', None)"
   ]
  },
  {
   "cell_type": "code",
   "execution_count": 93,
   "metadata": {},
   "outputs": [],
   "source": [
    "from lifelines.utils import concordance_index"
   ]
  },
  {
   "cell_type": "code",
   "execution_count": 113,
   "metadata": {},
   "outputs": [
    {
     "name": "stderr",
     "output_type": "stream",
     "text": [
      "100%|██████████| 181721/181721 [01:28<00:00, 2049.75it/s]\n"
     ]
    }
   ],
   "source": [
    "roc_auc = []\n",
    "\n",
    "for group in tqdm(groups):\n",
    "    target = group[:,0]\n",
    "    als_score = group[:,1]\n",
    "    if len(np.unique(target)) == 1:\n",
    "        continue\n",
    "    roc_auc_ = concordance_index(target, als_score)\n",
    "    roc_auc.append(roc_auc_)"
   ]
  },
  {
   "cell_type": "code",
   "execution_count": 112,
   "metadata": {},
   "outputs": [
    {
     "data": {
      "text/plain": [
       "np.float64(0.7771445286584225)"
      ]
     },
     "execution_count": 112,
     "metadata": {},
     "output_type": "execute_result"
    }
   ],
   "source": [
    "np.mean(roc_auc)"
   ]
  },
  {
   "cell_type": "code",
   "execution_count": 73,
   "metadata": {},
   "outputs": [],
   "source": [
    "test_als_score = (model.user_factors[test_pairs_data['user_id']] * \n",
    "                  model.item_factors[test_pairs_data['item_id']]).sum(axis=1)"
   ]
  },
  {
   "cell_type": "code",
   "execution_count": 77,
   "metadata": {},
   "outputs": [],
   "source": [
    "test_pairs_data[\"predict\"] = test_als_score\n",
    "test_pairs_data.to_csv(\"./submission.csv\",index=False)"
   ]
  }
 ],
 "metadata": {
  "kernelspec": {
   "display_name": "vk_env",
   "language": "python",
   "name": "python3"
  },
  "language_info": {
   "codemirror_mode": {
    "name": "ipython",
    "version": 3
   },
   "file_extension": ".py",
   "mimetype": "text/x-python",
   "name": "python",
   "nbconvert_exporter": "python",
   "pygments_lexer": "ipython3",
   "version": "3.10.12"
  }
 },
 "nbformat": 4,
 "nbformat_minor": 2
}
