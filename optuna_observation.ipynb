{
 "cells": [
  {
   "cell_type": "code",
   "execution_count": null,
   "metadata": {},
   "outputs": [
    {
     "name": "stderr",
     "output_type": "stream",
     "text": [
      "/home/sokolov/.local/lib/python3.10/site-packages/tqdm/auto.py:21: TqdmWarning: IProgress not found. Please update jupyter and ipywidgets. See https://ipywidgets.readthedocs.io/en/stable/user_install.html\n",
      "  from .autonotebook import tqdm as notebook_tqdm\n"
     ]
    }
   ],
   "source": [
    "from optuna.storages import RDBStorage"
   ]
  },
  {
   "cell_type": "code",
   "execution_count": null,
   "metadata": {},
   "outputs": [],
   "source": [
    "storage = RDBStorage(\"sqlite:///optuna_study.db\")"
   ]
  },
  {
   "cell_type": "code",
   "execution_count": null,
   "metadata": {},
   "outputs": [],
   "source": [
    "study = storage.get_all_studies()[1]"
   ]
  },
  {
   "cell_type": "code",
   "execution_count": null,
   "metadata": {},
   "outputs": [
    {
     "data": {
      "text/plain": [
       "'als_weighted_optimization'"
      ]
     },
     "metadata": {},
     "output_type": "display_data"
    }
   ],
   "source": [
    "study.study_name"
   ]
  },
  {
   "cell_type": "code",
   "execution_count": null,
   "metadata": {},
   "outputs": [],
   "source": [
    "import optuna"
   ]
  },
  {
   "cell_type": "code",
   "execution_count": null,
   "metadata": {},
   "outputs": [],
   "source": [
    "my_study = optuna.load_study(study_name=study.study_name, storage=storage)"
   ]
  },
  {
   "cell_type": "code",
   "execution_count": null,
   "metadata": {},
   "outputs": [
    {
     "data": {
      "text/plain": [
       "[FrozenTrial(number=0, state=TrialState.COMPLETE, values=[0.5650940919549191], datetime_start=datetime.datetime(2024, 12, 2, 15, 30, 7, 260303), datetime_complete=datetime.datetime(2024, 12, 2, 15, 33, 47, 299331), params={'factors': 106, 'regularization': 2.0035008870185755e-05, 'alpha': 0.8055388568301453, 'iterations': 50, 'use_native': True, 'use_cg': True, 'feedback_preprocessing': 'None'}, user_attrs={}, system_attrs={}, intermediate_values={}, distributions={'factors': IntDistribution(high=256, log=False, low=8, step=1), 'regularization': FloatDistribution(high=0.9, log=True, low=1e-05, step=None), 'alpha': FloatDistribution(high=10.0, log=True, low=0.1, step=None), 'iterations': IntDistribution(high=100, log=False, low=5, step=1), 'use_native': CategoricalDistribution(choices=(True, False)), 'use_cg': CategoricalDistribution(choices=(True, False)), 'feedback_preprocessing': CategoricalDistribution(choices=('bm25_weight', 'tfidf_weight', 'None'))}, trial_id=1, value=None),\n",
       " FrozenTrial(number=1, state=TrialState.COMPLETE, values=[0.5804944863017684], datetime_start=datetime.datetime(2024, 12, 2, 15, 33, 47, 324220), datetime_complete=datetime.datetime(2024, 12, 2, 15, 38, 8, 661471), params={'factors': 74, 'regularization': 0.00014912568096700808, 'alpha': 0.2941594394572203, 'iterations': 91, 'use_native': False, 'use_cg': False, 'feedback_preprocessing': 'bm25_weight'}, user_attrs={}, system_attrs={}, intermediate_values={}, distributions={'factors': IntDistribution(high=256, log=False, low=8, step=1), 'regularization': FloatDistribution(high=0.9, log=True, low=1e-05, step=None), 'alpha': FloatDistribution(high=10.0, log=True, low=0.1, step=None), 'iterations': IntDistribution(high=100, log=False, low=5, step=1), 'use_native': CategoricalDistribution(choices=(True, False)), 'use_cg': CategoricalDistribution(choices=(True, False)), 'feedback_preprocessing': CategoricalDistribution(choices=('bm25_weight', 'tfidf_weight', 'None'))}, trial_id=2, value=None),\n",
       " FrozenTrial(number=2, state=TrialState.COMPLETE, values=[0.5642461003701811], datetime_start=datetime.datetime(2024, 12, 2, 15, 38, 8, 682582), datetime_complete=datetime.datetime(2024, 12, 2, 15, 43, 46, 383024), params={'factors': 113, 'regularization': 0.0026163612558008894, 'alpha': 0.562479223238009, 'iterations': 97, 'use_native': True, 'use_cg': False, 'feedback_preprocessing': 'None'}, user_attrs={}, system_attrs={}, intermediate_values={}, distributions={'factors': IntDistribution(high=256, log=False, low=8, step=1), 'regularization': FloatDistribution(high=0.9, log=True, low=1e-05, step=None), 'alpha': FloatDistribution(high=10.0, log=True, low=0.1, step=None), 'iterations': IntDistribution(high=100, log=False, low=5, step=1), 'use_native': CategoricalDistribution(choices=(True, False)), 'use_cg': CategoricalDistribution(choices=(True, False)), 'feedback_preprocessing': CategoricalDistribution(choices=('bm25_weight', 'tfidf_weight', 'None'))}, trial_id=3, value=None),\n",
       " FrozenTrial(number=3, state=TrialState.COMPLETE, values=[0.5806611257865099], datetime_start=datetime.datetime(2024, 12, 2, 15, 43, 46, 404639), datetime_complete=datetime.datetime(2024, 12, 2, 15, 47, 16, 74181), params={'factors': 57, 'regularization': 0.01628100149679233, 'alpha': 0.6902233449915507, 'iterations': 85, 'use_native': True, 'use_cg': False, 'feedback_preprocessing': 'bm25_weight'}, user_attrs={}, system_attrs={}, intermediate_values={}, distributions={'factors': IntDistribution(high=256, log=False, low=8, step=1), 'regularization': FloatDistribution(high=0.9, log=True, low=1e-05, step=None), 'alpha': FloatDistribution(high=10.0, log=True, low=0.1, step=None), 'iterations': IntDistribution(high=100, log=False, low=5, step=1), 'use_native': CategoricalDistribution(choices=(True, False)), 'use_cg': CategoricalDistribution(choices=(True, False)), 'feedback_preprocessing': CategoricalDistribution(choices=('bm25_weight', 'tfidf_weight', 'None'))}, trial_id=4, value=None),\n",
       " FrozenTrial(number=4, state=TrialState.COMPLETE, values=[0.5650080077815747], datetime_start=datetime.datetime(2024, 12, 2, 15, 47, 16, 95081), datetime_complete=datetime.datetime(2024, 12, 2, 15, 49, 27, 336872), params={'factors': 172, 'regularization': 0.35654644343925695, 'alpha': 0.5038526677830242, 'iterations': 11, 'use_native': True, 'use_cg': False, 'feedback_preprocessing': 'None'}, user_attrs={}, system_attrs={}, intermediate_values={}, distributions={'factors': IntDistribution(high=256, log=False, low=8, step=1), 'regularization': FloatDistribution(high=0.9, log=True, low=1e-05, step=None), 'alpha': FloatDistribution(high=10.0, log=True, low=0.1, step=None), 'iterations': IntDistribution(high=100, log=False, low=5, step=1), 'use_native': CategoricalDistribution(choices=(True, False)), 'use_cg': CategoricalDistribution(choices=(True, False)), 'feedback_preprocessing': CategoricalDistribution(choices=('bm25_weight', 'tfidf_weight', 'None'))}, trial_id=5, value=None),\n",
       " FrozenTrial(number=5, state=TrialState.COMPLETE, values=[0.5641495941009439], datetime_start=datetime.datetime(2024, 12, 2, 15, 49, 27, 358101), datetime_complete=datetime.datetime(2024, 12, 2, 15, 52, 27, 382106), params={'factors': 242, 'regularization': 0.018276157387895228, 'alpha': 6.504199221562217, 'iterations': 15, 'use_native': True, 'use_cg': False, 'feedback_preprocessing': 'None'}, user_attrs={}, system_attrs={}, intermediate_values={}, distributions={'factors': IntDistribution(high=256, log=False, low=8, step=1), 'regularization': FloatDistribution(high=0.9, log=True, low=1e-05, step=None), 'alpha': FloatDistribution(high=10.0, log=True, low=0.1, step=None), 'iterations': IntDistribution(high=100, log=False, low=5, step=1), 'use_native': CategoricalDistribution(choices=(True, False)), 'use_cg': CategoricalDistribution(choices=(True, False)), 'feedback_preprocessing': CategoricalDistribution(choices=('bm25_weight', 'tfidf_weight', 'None'))}, trial_id=6, value=None),\n",
       " FrozenTrial(number=6, state=TrialState.COMPLETE, values=[0.5778459737650138], datetime_start=datetime.datetime(2024, 12, 2, 15, 52, 27, 403121), datetime_complete=datetime.datetime(2024, 12, 2, 15, 58, 17, 25872), params={'factors': 202, 'regularization': 0.08025278711583571, 'alpha': 0.35162810170217246, 'iterations': 53, 'use_native': True, 'use_cg': True, 'feedback_preprocessing': 'bm25_weight'}, user_attrs={}, system_attrs={}, intermediate_values={}, distributions={'factors': IntDistribution(high=256, log=False, low=8, step=1), 'regularization': FloatDistribution(high=0.9, log=True, low=1e-05, step=None), 'alpha': FloatDistribution(high=10.0, log=True, low=0.1, step=None), 'iterations': IntDistribution(high=100, log=False, low=5, step=1), 'use_native': CategoricalDistribution(choices=(True, False)), 'use_cg': CategoricalDistribution(choices=(True, False)), 'feedback_preprocessing': CategoricalDistribution(choices=('bm25_weight', 'tfidf_weight', 'None'))}, trial_id=7, value=None),\n",
       " FrozenTrial(number=7, state=TrialState.COMPLETE, values=[0.5642156906529325], datetime_start=datetime.datetime(2024, 12, 2, 15, 58, 17, 47142), datetime_complete=datetime.datetime(2024, 12, 2, 16, 0, 38, 724250), params={'factors': 233, 'regularization': 1.0520149359257385e-05, 'alpha': 1.2315703805712404, 'iterations': 10, 'use_native': True, 'use_cg': True, 'feedback_preprocessing': 'None'}, user_attrs={}, system_attrs={}, intermediate_values={}, distributions={'factors': IntDistribution(high=256, log=False, low=8, step=1), 'regularization': FloatDistribution(high=0.9, log=True, low=1e-05, step=None), 'alpha': FloatDistribution(high=10.0, log=True, low=0.1, step=None), 'iterations': IntDistribution(high=100, log=False, low=5, step=1), 'use_native': CategoricalDistribution(choices=(True, False)), 'use_cg': CategoricalDistribution(choices=(True, False)), 'feedback_preprocessing': CategoricalDistribution(choices=('bm25_weight', 'tfidf_weight', 'None'))}, trial_id=8, value=None),\n",
       " FrozenTrial(number=8, state=TrialState.COMPLETE, values=[0.5787654030648276], datetime_start=datetime.datetime(2024, 12, 2, 16, 0, 38, 744419), datetime_complete=datetime.datetime(2024, 12, 2, 16, 6, 22, 492699), params={'factors': 150, 'regularization': 0.04467312460249038, 'alpha': 0.5467194302972017, 'iterations': 75, 'use_native': False, 'use_cg': True, 'feedback_preprocessing': 'bm25_weight'}, user_attrs={}, system_attrs={}, intermediate_values={}, distributions={'factors': IntDistribution(high=256, log=False, low=8, step=1), 'regularization': FloatDistribution(high=0.9, log=True, low=1e-05, step=None), 'alpha': FloatDistribution(high=10.0, log=True, low=0.1, step=None), 'iterations': IntDistribution(high=100, log=False, low=5, step=1), 'use_native': CategoricalDistribution(choices=(True, False)), 'use_cg': CategoricalDistribution(choices=(True, False)), 'feedback_preprocessing': CategoricalDistribution(choices=('bm25_weight', 'tfidf_weight', 'None'))}, trial_id=9, value=None),\n",
       " FrozenTrial(number=9, state=TrialState.COMPLETE, values=[0.5771714495040593], datetime_start=datetime.datetime(2024, 12, 2, 16, 6, 22, 513295), datetime_complete=datetime.datetime(2024, 12, 2, 16, 12, 40, 348605), params={'factors': 218, 'regularization': 0.011756548844009703, 'alpha': 2.7311227881993467, 'iterations': 58, 'use_native': True, 'use_cg': True, 'feedback_preprocessing': 'bm25_weight'}, user_attrs={}, system_attrs={}, intermediate_values={}, distributions={'factors': IntDistribution(high=256, log=False, low=8, step=1), 'regularization': FloatDistribution(high=0.9, log=True, low=1e-05, step=None), 'alpha': FloatDistribution(high=10.0, log=True, low=0.1, step=None), 'iterations': IntDistribution(high=100, log=False, low=5, step=1), 'use_native': CategoricalDistribution(choices=(True, False)), 'use_cg': CategoricalDistribution(choices=(True, False)), 'feedback_preprocessing': CategoricalDistribution(choices=('bm25_weight', 'tfidf_weight', 'None'))}, trial_id=10, value=None),\n",
       " FrozenTrial(number=10, state=TrialState.COMPLETE, values=[0.5632859800838065], datetime_start=datetime.datetime(2024, 12, 2, 16, 12, 40, 369010), datetime_complete=datetime.datetime(2024, 12, 2, 16, 15, 6, 366817), params={'factors': 9, 'regularization': 0.0012610490388204824, 'alpha': 0.1013093389628951, 'iterations': 75, 'use_native': False, 'use_cg': False, 'feedback_preprocessing': 'tfidf_weight'}, user_attrs={}, system_attrs={}, intermediate_values={}, distributions={'factors': IntDistribution(high=256, log=False, low=8, step=1), 'regularization': FloatDistribution(high=0.9, log=True, low=1e-05, step=None), 'alpha': FloatDistribution(high=10.0, log=True, low=0.1, step=None), 'iterations': IntDistribution(high=100, log=False, low=5, step=1), 'use_native': CategoricalDistribution(choices=(True, False)), 'use_cg': CategoricalDistribution(choices=(True, False)), 'feedback_preprocessing': CategoricalDistribution(choices=('bm25_weight', 'tfidf_weight', 'None'))}, trial_id=11, value=None),\n",
       " FrozenTrial(number=11, state=TrialState.COMPLETE, values=[0.5807201882904689], datetime_start=datetime.datetime(2024, 12, 2, 16, 15, 6, 382410), datetime_complete=datetime.datetime(2024, 12, 2, 16, 18, 59, 240217), params={'factors': 46, 'regularization': 0.00024331157518509876, 'alpha': 0.1568548101554319, 'iterations': 99, 'use_native': False, 'use_cg': False, 'feedback_preprocessing': 'bm25_weight'}, user_attrs={}, system_attrs={}, intermediate_values={}, distributions={'factors': IntDistribution(high=256, log=False, low=8, step=1), 'regularization': FloatDistribution(high=0.9, log=True, low=1e-05, step=None), 'alpha': FloatDistribution(high=10.0, log=True, low=0.1, step=None), 'iterations': IntDistribution(high=100, log=False, low=5, step=1), 'use_native': CategoricalDistribution(choices=(True, False)), 'use_cg': CategoricalDistribution(choices=(True, False)), 'feedback_preprocessing': CategoricalDistribution(choices=('bm25_weight', 'tfidf_weight', 'None'))}, trial_id=12, value=None),\n",
       " FrozenTrial(number=12, state=TrialState.COMPLETE, values=[0.5796408106676086], datetime_start=datetime.datetime(2024, 12, 2, 16, 18, 59, 255343), datetime_complete=datetime.datetime(2024, 12, 2, 16, 21, 47, 314136), params={'factors': 30, 'regularization': 0.000264378251885453, 'alpha': 0.11765739816573734, 'iterations': 82, 'use_native': False, 'use_cg': False, 'feedback_preprocessing': 'bm25_weight'}, user_attrs={}, system_attrs={}, intermediate_values={}, distributions={'factors': IntDistribution(high=256, log=False, low=8, step=1), 'regularization': FloatDistribution(high=0.9, log=True, low=1e-05, step=None), 'alpha': FloatDistribution(high=10.0, log=True, low=0.1, step=None), 'iterations': IntDistribution(high=100, log=False, low=5, step=1), 'use_native': CategoricalDistribution(choices=(True, False)), 'use_cg': CategoricalDistribution(choices=(True, False)), 'feedback_preprocessing': CategoricalDistribution(choices=('bm25_weight', 'tfidf_weight', 'None'))}, trial_id=13, value=None),\n",
       " FrozenTrial(number=13, state=TrialState.COMPLETE, values=[0.5852041438433704], datetime_start=datetime.datetime(2024, 12, 2, 16, 21, 47, 335258), datetime_complete=datetime.datetime(2024, 12, 2, 16, 25, 33, 573078), params={'factors': 62, 'regularization': 0.00036624933646660585, 'alpha': 0.20107418406201716, 'iterations': 97, 'use_native': False, 'use_cg': False, 'feedback_preprocessing': 'tfidf_weight'}, user_attrs={}, system_attrs={}, intermediate_values={}, distributions={'factors': IntDistribution(high=256, log=False, low=8, step=1), 'regularization': FloatDistribution(high=0.9, log=True, low=1e-05, step=None), 'alpha': FloatDistribution(high=10.0, log=True, low=0.1, step=None), 'iterations': IntDistribution(high=100, log=False, low=5, step=1), 'use_native': CategoricalDistribution(choices=(True, False)), 'use_cg': CategoricalDistribution(choices=(True, False)), 'feedback_preprocessing': CategoricalDistribution(choices=('bm25_weight', 'tfidf_weight', 'None'))}, trial_id=14, value=None),\n",
       " FrozenTrial(number=14, state=TrialState.COMPLETE, values=[0.5863967458067612], datetime_start=datetime.datetime(2024, 12, 2, 16, 25, 33, 587507), datetime_complete=datetime.datetime(2024, 12, 2, 16, 30, 9, 152619), params={'factors': 72, 'regularization': 0.00025217758214410416, 'alpha': 0.19632467164590392, 'iterations': 100, 'use_native': False, 'use_cg': False, 'feedback_preprocessing': 'tfidf_weight'}, user_attrs={}, system_attrs={}, intermediate_values={}, distributions={'factors': IntDistribution(high=256, log=False, low=8, step=1), 'regularization': FloatDistribution(high=0.9, log=True, low=1e-05, step=None), 'alpha': FloatDistribution(high=10.0, log=True, low=0.1, step=None), 'iterations': IntDistribution(high=100, log=False, low=5, step=1), 'use_native': CategoricalDistribution(choices=(True, False)), 'use_cg': CategoricalDistribution(choices=(True, False)), 'feedback_preprocessing': CategoricalDistribution(choices=('bm25_weight', 'tfidf_weight', 'None'))}, trial_id=15, value=None),\n",
       " FrozenTrial(number=15, state=TrialState.COMPLETE, values=[0.5873303406272551], datetime_start=datetime.datetime(2024, 12, 2, 16, 30, 9, 173166), datetime_complete=datetime.datetime(2024, 12, 2, 16, 34, 15, 989363), params={'factors': 97, 'regularization': 9.960736727509167e-05, 'alpha': 0.2416677673725402, 'iterations': 66, 'use_native': False, 'use_cg': False, 'feedback_preprocessing': 'tfidf_weight'}, user_attrs={}, system_attrs={}, intermediate_values={}, distributions={'factors': IntDistribution(high=256, log=False, low=8, step=1), 'regularization': FloatDistribution(high=0.9, log=True, low=1e-05, step=None), 'alpha': FloatDistribution(high=10.0, log=True, low=0.1, step=None), 'iterations': IntDistribution(high=100, log=False, low=5, step=1), 'use_native': CategoricalDistribution(choices=(True, False)), 'use_cg': CategoricalDistribution(choices=(True, False)), 'feedback_preprocessing': CategoricalDistribution(choices=('bm25_weight', 'tfidf_weight', 'None'))}, trial_id=16, value=None),\n",
       " FrozenTrial(number=16, state=TrialState.COMPLETE, values=[0.5868880929633076], datetime_start=datetime.datetime(2024, 12, 2, 16, 34, 16, 10136), datetime_complete=datetime.datetime(2024, 12, 2, 16, 36, 37, 798933), params={'factors': 89, 'regularization': 5.280084968138941e-05, 'alpha': 1.5042757575410803, 'iterations': 32, 'use_native': False, 'use_cg': False, 'feedback_preprocessing': 'tfidf_weight'}, user_attrs={}, system_attrs={}, intermediate_values={}, distributions={'factors': IntDistribution(high=256, log=False, low=8, step=1), 'regularization': FloatDistribution(high=0.9, log=True, low=1e-05, step=None), 'alpha': FloatDistribution(high=10.0, log=True, low=0.1, step=None), 'iterations': IntDistribution(high=100, log=False, low=5, step=1), 'use_native': CategoricalDistribution(choices=(True, False)), 'use_cg': CategoricalDistribution(choices=(True, False)), 'feedback_preprocessing': CategoricalDistribution(choices=('bm25_weight', 'tfidf_weight', 'None'))}, trial_id=17, value=None),\n",
       " FrozenTrial(number=17, state=TrialState.COMPLETE, values=[0.5877899355012848], datetime_start=datetime.datetime(2024, 12, 2, 16, 36, 37, 813641), datetime_complete=datetime.datetime(2024, 12, 2, 16, 39, 12, 529458), params={'factors': 99, 'regularization': 4.6887115332329916e-05, 'alpha': 1.6000399422783578, 'iterations': 29, 'use_native': False, 'use_cg': False, 'feedback_preprocessing': 'tfidf_weight'}, user_attrs={}, system_attrs={}, intermediate_values={}, distributions={'factors': IntDistribution(high=256, log=False, low=8, step=1), 'regularization': FloatDistribution(high=0.9, log=True, low=1e-05, step=None), 'alpha': FloatDistribution(high=10.0, log=True, low=0.1, step=None), 'iterations': IntDistribution(high=100, log=False, low=5, step=1), 'use_native': CategoricalDistribution(choices=(True, False)), 'use_cg': CategoricalDistribution(choices=(True, False)), 'feedback_preprocessing': CategoricalDistribution(choices=('bm25_weight', 'tfidf_weight', 'None'))}, trial_id=18, value=None),\n",
       " FrozenTrial(number=18, state=TrialState.COMPLETE, values=[0.5882922124711292], datetime_start=datetime.datetime(2024, 12, 2, 16, 39, 12, 550752), datetime_complete=datetime.datetime(2024, 12, 2, 16, 42, 9, 145902), params={'factors': 123, 'regularization': 4.236485867881788e-05, 'alpha': 2.5573185222984742, 'iterations': 36, 'use_native': False, 'use_cg': False, 'feedback_preprocessing': 'tfidf_weight'}, user_attrs={}, system_attrs={}, intermediate_values={}, distributions={'factors': IntDistribution(high=256, log=False, low=8, step=1), 'regularization': FloatDistribution(high=0.9, log=True, low=1e-05, step=None), 'alpha': FloatDistribution(high=10.0, log=True, low=0.1, step=None), 'iterations': IntDistribution(high=100, log=False, low=5, step=1), 'use_native': CategoricalDistribution(choices=(True, False)), 'use_cg': CategoricalDistribution(choices=(True, False)), 'feedback_preprocessing': CategoricalDistribution(choices=('bm25_weight', 'tfidf_weight', 'None'))}, trial_id=19, value=None),\n",
       " FrozenTrial(number=19, state=TrialState.COMPLETE, values=[0.5884670222157169], datetime_start=datetime.datetime(2024, 12, 2, 16, 42, 9, 166968), datetime_complete=datetime.datetime(2024, 12, 2, 16, 45, 32, 402513), params={'factors': 141, 'regularization': 2.9852882424257062e-05, 'alpha': 2.917766740688321, 'iterations': 35, 'use_native': False, 'use_cg': False, 'feedback_preprocessing': 'tfidf_weight'}, user_attrs={}, system_attrs={}, intermediate_values={}, distributions={'factors': IntDistribution(high=256, log=False, low=8, step=1), 'regularization': FloatDistribution(high=0.9, log=True, low=1e-05, step=None), 'alpha': FloatDistribution(high=10.0, log=True, low=0.1, step=None), 'iterations': IntDistribution(high=100, log=False, low=5, step=1), 'use_native': CategoricalDistribution(choices=(True, False)), 'use_cg': CategoricalDistribution(choices=(True, False)), 'feedback_preprocessing': CategoricalDistribution(choices=('bm25_weight', 'tfidf_weight', 'None'))}, trial_id=20, value=None),\n",
       " FrozenTrial(number=20, state=TrialState.COMPLETE, values=[0.587807919234267], datetime_start=datetime.datetime(2024, 12, 2, 16, 45, 32, 418146), datetime_complete=datetime.datetime(2024, 12, 2, 16, 49, 3, 432345), params={'factors': 137, 'regularization': 0.0015909675831493986, 'alpha': 4.05134103044427, 'iterations': 39, 'use_native': False, 'use_cg': False, 'feedback_preprocessing': 'tfidf_weight'}, user_attrs={}, system_attrs={}, intermediate_values={}, distributions={'factors': IntDistribution(high=256, log=False, low=8, step=1), 'regularization': FloatDistribution(high=0.9, log=True, low=1e-05, step=None), 'alpha': FloatDistribution(high=10.0, log=True, low=0.1, step=None), 'iterations': IntDistribution(high=100, log=False, low=5, step=1), 'use_native': CategoricalDistribution(choices=(True, False)), 'use_cg': CategoricalDistribution(choices=(True, False)), 'feedback_preprocessing': CategoricalDistribution(choices=('bm25_weight', 'tfidf_weight', 'None'))}, trial_id=21, value=None),\n",
       " FrozenTrial(number=21, state=TrialState.COMPLETE, values=[0.5884095015438272], datetime_start=datetime.datetime(2024, 12, 2, 16, 49, 3, 453303), datetime_complete=datetime.datetime(2024, 12, 2, 16, 52, 38, 807298), params={'factors': 144, 'regularization': 0.001164452771578826, 'alpha': 4.946456935946289, 'iterations': 39, 'use_native': False, 'use_cg': False, 'feedback_preprocessing': 'tfidf_weight'}, user_attrs={}, system_attrs={}, intermediate_values={}, distributions={'factors': IntDistribution(high=256, log=False, low=8, step=1), 'regularization': FloatDistribution(high=0.9, log=True, low=1e-05, step=None), 'alpha': FloatDistribution(high=10.0, log=True, low=0.1, step=None), 'iterations': IntDistribution(high=100, log=False, low=5, step=1), 'use_native': CategoricalDistribution(choices=(True, False)), 'use_cg': CategoricalDistribution(choices=(True, False)), 'feedback_preprocessing': CategoricalDistribution(choices=('bm25_weight', 'tfidf_weight', 'None'))}, trial_id=22, value=None),\n",
       " FrozenTrial(number=22, state=TrialState.COMPLETE, values=[0.5885551841405614], datetime_start=datetime.datetime(2024, 12, 2, 16, 52, 38, 828129), datetime_complete=datetime.datetime(2024, 12, 2, 16, 57, 2, 252074), params={'factors': 173, 'regularization': 0.000744670976322564, 'alpha': 9.615275173379946, 'iterations': 41, 'use_native': False, 'use_cg': False, 'feedback_preprocessing': 'tfidf_weight'}, user_attrs={}, system_attrs={}, intermediate_values={}, distributions={'factors': IntDistribution(high=256, log=False, low=8, step=1), 'regularization': FloatDistribution(high=0.9, log=True, low=1e-05, step=None), 'alpha': FloatDistribution(high=10.0, log=True, low=0.1, step=None), 'iterations': IntDistribution(high=100, log=False, low=5, step=1), 'use_native': CategoricalDistribution(choices=(True, False)), 'use_cg': CategoricalDistribution(choices=(True, False)), 'feedback_preprocessing': CategoricalDistribution(choices=('bm25_weight', 'tfidf_weight', 'None'))}, trial_id=23, value=None),\n",
       " FrozenTrial(number=23, state=TrialState.COMPLETE, values=[0.5884476821222583], datetime_start=datetime.datetime(2024, 12, 2, 16, 57, 2, 275946), datetime_complete=datetime.datetime(2024, 12, 2, 16, 59, 53, 988711), params={'factors': 165, 'regularization': 0.0006788264382407593, 'alpha': 9.43826552593402, 'iterations': 20, 'use_native': False, 'use_cg': False, 'feedback_preprocessing': 'tfidf_weight'}, user_attrs={}, system_attrs={}, intermediate_values={}, distributions={'factors': IntDistribution(high=256, log=False, low=8, step=1), 'regularization': FloatDistribution(high=0.9, log=True, low=1e-05, step=None), 'alpha': FloatDistribution(high=10.0, log=True, low=0.1, step=None), 'iterations': IntDistribution(high=100, log=False, low=5, step=1), 'use_native': CategoricalDistribution(choices=(True, False)), 'use_cg': CategoricalDistribution(choices=(True, False)), 'feedback_preprocessing': CategoricalDistribution(choices=('bm25_weight', 'tfidf_weight', 'None'))}, trial_id=24, value=None),\n",
       " FrozenTrial(number=24, state=TrialState.COMPLETE, values=[0.5885197994963086], datetime_start=datetime.datetime(2024, 12, 2, 16, 59, 54, 10086), datetime_complete=datetime.datetime(2024, 12, 2, 17, 2, 53, 877661), params={'factors': 178, 'regularization': 0.004938889380045545, 'alpha': 9.550025261659101, 'iterations': 22, 'use_native': False, 'use_cg': False, 'feedback_preprocessing': 'tfidf_weight'}, user_attrs={}, system_attrs={}, intermediate_values={}, distributions={'factors': IntDistribution(high=256, log=False, low=8, step=1), 'regularization': FloatDistribution(high=0.9, log=True, low=1e-05, step=None), 'alpha': FloatDistribution(high=10.0, log=True, low=0.1, step=None), 'iterations': IntDistribution(high=100, log=False, low=5, step=1), 'use_native': CategoricalDistribution(choices=(True, False)), 'use_cg': CategoricalDistribution(choices=(True, False)), 'feedback_preprocessing': CategoricalDistribution(choices=('bm25_weight', 'tfidf_weight', 'None'))}, trial_id=25, value=None),\n",
       " FrozenTrial(number=25, state=TrialState.COMPLETE, values=[0.5886665617046638], datetime_start=datetime.datetime(2024, 12, 2, 17, 2, 53, 900065), datetime_complete=datetime.datetime(2024, 12, 2, 17, 6, 29, 767982), params={'factors': 193, 'regularization': 0.006142754407624129, 'alpha': 8.963159967998276, 'iterations': 25, 'use_native': False, 'use_cg': False, 'feedback_preprocessing': 'tfidf_weight'}, user_attrs={}, system_attrs={}, intermediate_values={}, distributions={'factors': IntDistribution(high=256, log=False, low=8, step=1), 'regularization': FloatDistribution(high=0.9, log=True, low=1e-05, step=None), 'alpha': FloatDistribution(high=10.0, log=True, low=0.1, step=None), 'iterations': IntDistribution(high=100, log=False, low=5, step=1), 'use_native': CategoricalDistribution(choices=(True, False)), 'use_cg': CategoricalDistribution(choices=(True, False)), 'feedback_preprocessing': CategoricalDistribution(choices=('bm25_weight', 'tfidf_weight', 'None'))}, trial_id=26, value=None),\n",
       " FrozenTrial(number=26, state=TrialState.COMPLETE, values=[0.5885620698699363], datetime_start=datetime.datetime(2024, 12, 2, 17, 6, 29, 789176), datetime_complete=datetime.datetime(2024, 12, 2, 17, 9, 43, 315143), params={'factors': 190, 'regularization': 0.005788119595823307, 'alpha': 9.68762573077316, 'iterations': 23, 'use_native': False, 'use_cg': True, 'feedback_preprocessing': 'tfidf_weight'}, user_attrs={}, system_attrs={}, intermediate_values={}, distributions={'factors': IntDistribution(high=256, log=False, low=8, step=1), 'regularization': FloatDistribution(high=0.9, log=True, low=1e-05, step=None), 'alpha': FloatDistribution(high=10.0, log=True, low=0.1, step=None), 'iterations': IntDistribution(high=100, log=False, low=5, step=1), 'use_native': CategoricalDistribution(choices=(True, False)), 'use_cg': CategoricalDistribution(choices=(True, False)), 'feedback_preprocessing': CategoricalDistribution(choices=('bm25_weight', 'tfidf_weight', 'None'))}, trial_id=27, value=None),\n",
       " FrozenTrial(number=27, state=TrialState.COMPLETE, values=[0.5890312396521578], datetime_start=datetime.datetime(2024, 12, 2, 17, 9, 43, 329909), datetime_complete=datetime.datetime(2024, 12, 2, 17, 15, 18, 861352), params={'factors': 195, 'regularization': 0.005632337918256821, 'alpha': 5.2675560420426715, 'iterations': 47, 'use_native': False, 'use_cg': True, 'feedback_preprocessing': 'tfidf_weight'}, user_attrs={}, system_attrs={}, intermediate_values={}, distributions={'factors': IntDistribution(high=256, log=False, low=8, step=1), 'regularization': FloatDistribution(high=0.9, log=True, low=1e-05, step=None), 'alpha': FloatDistribution(high=10.0, log=True, low=0.1, step=None), 'iterations': IntDistribution(high=100, log=False, low=5, step=1), 'use_native': CategoricalDistribution(choices=(True, False)), 'use_cg': CategoricalDistribution(choices=(True, False)), 'feedback_preprocessing': CategoricalDistribution(choices=('bm25_weight', 'tfidf_weight', 'None'))}, trial_id=28, value=None),\n",
       " FrozenTrial(number=28, state=TrialState.COMPLETE, values=[0.5881270396775772], datetime_start=datetime.datetime(2024, 12, 2, 17, 15, 18, 882699), datetime_complete=datetime.datetime(2024, 12, 2, 17, 18, 58, 294276), params={'factors': 196, 'regularization': 0.005794155190420047, 'alpha': 5.702181258859212, 'iterations': 26, 'use_native': False, 'use_cg': True, 'feedback_preprocessing': 'tfidf_weight'}, user_attrs={}, system_attrs={}, intermediate_values={}, distributions={'factors': IntDistribution(high=256, log=False, low=8, step=1), 'regularization': FloatDistribution(high=0.9, log=True, low=1e-05, step=None), 'alpha': FloatDistribution(high=10.0, log=True, low=0.1, step=None), 'iterations': IntDistribution(high=100, log=False, low=5, step=1), 'use_native': CategoricalDistribution(choices=(True, False)), 'use_cg': CategoricalDistribution(choices=(True, False)), 'feedback_preprocessing': CategoricalDistribution(choices=('bm25_weight', 'tfidf_weight', 'None'))}, trial_id=29, value=None),\n",
       " FrozenTrial(number=29, state=TrialState.COMPLETE, values=[0.5855725245129793], datetime_start=datetime.datetime(2024, 12, 2, 17, 18, 58, 315517), datetime_complete=datetime.datetime(2024, 12, 2, 17, 20, 46, 894251), params={'factors': 197, 'regularization': 0.0521546578383356, 'alpha': 7.080254027764129, 'iterations': 5, 'use_native': False, 'use_cg': True, 'feedback_preprocessing': 'tfidf_weight'}, user_attrs={}, system_attrs={}, intermediate_values={}, distributions={'factors': IntDistribution(high=256, log=False, low=8, step=1), 'regularization': FloatDistribution(high=0.9, log=True, low=1e-05, step=None), 'alpha': FloatDistribution(high=10.0, log=True, low=0.1, step=None), 'iterations': IntDistribution(high=100, log=False, low=5, step=1), 'use_native': CategoricalDistribution(choices=(True, False)), 'use_cg': CategoricalDistribution(choices=(True, False)), 'feedback_preprocessing': CategoricalDistribution(choices=('bm25_weight', 'tfidf_weight', 'None'))}, trial_id=30, value=None),\n",
       " FrozenTrial(number=30, state=TrialState.COMPLETE, values=[0.5879734399395145], datetime_start=datetime.datetime(2024, 12, 2, 17, 20, 46, 915427), datetime_complete=datetime.datetime(2024, 12, 2, 17, 26, 37, 432126), params={'factors': 256, 'regularization': 0.10958529629256517, 'alpha': 3.8875605752304216, 'iterations': 46, 'use_native': False, 'use_cg': True, 'feedback_preprocessing': 'tfidf_weight'}, user_attrs={}, system_attrs={}, intermediate_values={}, distributions={'factors': IntDistribution(high=256, log=False, low=8, step=1), 'regularization': FloatDistribution(high=0.9, log=True, low=1e-05, step=None), 'alpha': FloatDistribution(high=10.0, log=True, low=0.1, step=None), 'iterations': IntDistribution(high=100, log=False, low=5, step=1), 'use_native': CategoricalDistribution(choices=(True, False)), 'use_cg': CategoricalDistribution(choices=(True, False)), 'feedback_preprocessing': CategoricalDistribution(choices=('bm25_weight', 'tfidf_weight', 'None'))}, trial_id=31, value=None),\n",
       " FrozenTrial(number=31, state=TrialState.COMPLETE, values=[0.5889408015080849], datetime_start=datetime.datetime(2024, 12, 2, 17, 26, 37, 446239), datetime_complete=datetime.datetime(2024, 12, 2, 17, 31, 19, 959809), params={'factors': 183, 'regularization': 0.008223333621299138, 'alpha': 8.21744713657442, 'iterations': 46, 'use_native': False, 'use_cg': True, 'feedback_preprocessing': 'tfidf_weight'}, user_attrs={}, system_attrs={}, intermediate_values={}, distributions={'factors': IntDistribution(high=256, log=False, low=8, step=1), 'regularization': FloatDistribution(high=0.9, log=True, low=1e-05, step=None), 'alpha': FloatDistribution(high=10.0, log=True, low=0.1, step=None), 'iterations': IntDistribution(high=100, log=False, low=5, step=1), 'use_native': CategoricalDistribution(choices=(True, False)), 'use_cg': CategoricalDistribution(choices=(True, False)), 'feedback_preprocessing': CategoricalDistribution(choices=('bm25_weight', 'tfidf_weight', 'None'))}, trial_id=32, value=None),\n",
       " FrozenTrial(number=32, state=TrialState.COMPLETE, values=[0.5887146827515285], datetime_start=datetime.datetime(2024, 12, 2, 17, 31, 19, 984641), datetime_complete=datetime.datetime(2024, 12, 2, 17, 36, 54, 27579), params={'factors': 214, 'regularization': 0.004601377972963021, 'alpha': 7.316952746502556, 'iterations': 48, 'use_native': False, 'use_cg': True, 'feedback_preprocessing': 'tfidf_weight'}, user_attrs={}, system_attrs={}, intermediate_values={}, distributions={'factors': IntDistribution(high=256, log=False, low=8, step=1), 'regularization': FloatDistribution(high=0.9, log=True, low=1e-05, step=None), 'alpha': FloatDistribution(high=10.0, log=True, low=0.1, step=None), 'iterations': IntDistribution(high=100, log=False, low=5, step=1), 'use_native': CategoricalDistribution(choices=(True, False)), 'use_cg': CategoricalDistribution(choices=(True, False)), 'feedback_preprocessing': CategoricalDistribution(choices=('bm25_weight', 'tfidf_weight', 'None'))}, trial_id=33, value=None),\n",
       " FrozenTrial(number=33, state=TrialState.COMPLETE, values=[0.5881350409523082], datetime_start=datetime.datetime(2024, 12, 2, 17, 36, 54, 48451), datetime_complete=datetime.datetime(2024, 12, 2, 17, 43, 37, 795652), params={'factors': 223, 'regularization': 0.003994631867493213, 'alpha': 4.406825280700556, 'iterations': 61, 'use_native': False, 'use_cg': True, 'feedback_preprocessing': 'tfidf_weight'}, user_attrs={}, system_attrs={}, intermediate_values={}, distributions={'factors': IntDistribution(high=256, log=False, low=8, step=1), 'regularization': FloatDistribution(high=0.9, log=True, low=1e-05, step=None), 'alpha': FloatDistribution(high=10.0, log=True, low=0.1, step=None), 'iterations': IntDistribution(high=100, log=False, low=5, step=1), 'use_native': CategoricalDistribution(choices=(True, False)), 'use_cg': CategoricalDistribution(choices=(True, False)), 'feedback_preprocessing': CategoricalDistribution(choices=('bm25_weight', 'tfidf_weight', 'None'))}, trial_id=34, value=None),\n",
       " FrozenTrial(number=34, state=TrialState.COMPLETE, values=[0.5638632512358857], datetime_start=datetime.datetime(2024, 12, 2, 17, 43, 37, 811670), datetime_complete=datetime.datetime(2024, 12, 2, 17, 49, 18, 924189), params={'factors': 217, 'regularization': 0.008885703090247563, 'alpha': 6.19601306428689, 'iterations': 49, 'use_native': False, 'use_cg': True, 'feedback_preprocessing': 'None'}, user_attrs={}, system_attrs={}, intermediate_values={}, distributions={'factors': IntDistribution(high=256, log=False, low=8, step=1), 'regularization': FloatDistribution(high=0.9, log=True, low=1e-05, step=None), 'alpha': FloatDistribution(high=10.0, log=True, low=0.1, step=None), 'iterations': IntDistribution(high=100, log=False, low=5, step=1), 'use_native': CategoricalDistribution(choices=(True, False)), 'use_cg': CategoricalDistribution(choices=(True, False)), 'feedback_preprocessing': CategoricalDistribution(choices=('bm25_weight', 'tfidf_weight', 'None'))}, trial_id=35, value=None),\n",
       " FrozenTrial(number=35, state=TrialState.COMPLETE, values=[0.5884189728552854], datetime_start=datetime.datetime(2024, 12, 2, 17, 49, 18, 945167), datetime_complete=datetime.datetime(2024, 12, 2, 17, 53, 19, 968159), params={'factors': 158, 'regularization': 0.002257262747373232, 'alpha': 7.515911678737699, 'iterations': 45, 'use_native': False, 'use_cg': True, 'feedback_preprocessing': 'tfidf_weight'}, user_attrs={}, system_attrs={}, intermediate_values={}, distributions={'factors': IntDistribution(high=256, log=False, low=8, step=1), 'regularization': FloatDistribution(high=0.9, log=True, low=1e-05, step=None), 'alpha': FloatDistribution(high=10.0, log=True, low=0.1, step=None), 'iterations': IntDistribution(high=100, log=False, low=5, step=1), 'use_native': CategoricalDistribution(choices=(True, False)), 'use_cg': CategoricalDistribution(choices=(True, False)), 'feedback_preprocessing': CategoricalDistribution(choices=('bm25_weight', 'tfidf_weight', 'None'))}, trial_id=36, value=None),\n",
       " FrozenTrial(number=36, state=TrialState.COMPLETE, values=[0.5885932080932612], datetime_start=datetime.datetime(2024, 12, 2, 17, 53, 19, 988752), datetime_complete=datetime.datetime(2024, 12, 2, 17, 58, 51, 780189), params={'factors': 186, 'regularization': 0.02559087575280282, 'alpha': 3.3837502459761075, 'iterations': 55, 'use_native': False, 'use_cg': True, 'feedback_preprocessing': 'tfidf_weight'}, user_attrs={}, system_attrs={}, intermediate_values={}, distributions={'factors': IntDistribution(high=256, log=False, low=8, step=1), 'regularization': FloatDistribution(high=0.9, log=True, low=1e-05, step=None), 'alpha': FloatDistribution(high=10.0, log=True, low=0.1, step=None), 'iterations': IntDistribution(high=100, log=False, low=5, step=1), 'use_native': CategoricalDistribution(choices=(True, False)), 'use_cg': CategoricalDistribution(choices=(True, False)), 'feedback_preprocessing': CategoricalDistribution(choices=('bm25_weight', 'tfidf_weight', 'None'))}, trial_id=37, value=None),\n",
       " FrozenTrial(number=37, state=TrialState.COMPLETE, values=[0.5885507306379207], datetime_start=datetime.datetime(2024, 12, 2, 17, 58, 51, 800522), datetime_complete=datetime.datetime(2024, 12, 2, 18, 5, 54, 282117), params={'factors': 206, 'regularization': 0.2691009166412965, 'alpha': 2.1890550759450815, 'iterations': 63, 'use_native': True, 'use_cg': True, 'feedback_preprocessing': 'tfidf_weight'}, user_attrs={}, system_attrs={}, intermediate_values={}, distributions={'factors': IntDistribution(high=256, log=False, low=8, step=1), 'regularization': FloatDistribution(high=0.9, log=True, low=1e-05, step=None), 'alpha': FloatDistribution(high=10.0, log=True, low=0.1, step=None), 'iterations': IntDistribution(high=100, log=False, low=5, step=1), 'use_native': CategoricalDistribution(choices=(True, False)), 'use_cg': CategoricalDistribution(choices=(True, False)), 'feedback_preprocessing': CategoricalDistribution(choices=('bm25_weight', 'tfidf_weight', 'None'))}, trial_id=38, value=None),\n",
       " FrozenTrial(number=38, state=TrialState.COMPLETE, values=[0.5635663489471008], datetime_start=datetime.datetime(2024, 12, 2, 18, 5, 54, 302910), datetime_complete=datetime.datetime(2024, 12, 2, 18, 11, 53, 311809), params={'factors': 244, 'regularization': 0.022712256674045354, 'alpha': 5.237820872608696, 'iterations': 49, 'use_native': True, 'use_cg': True, 'feedback_preprocessing': 'None'}, user_attrs={}, system_attrs={}, intermediate_values={}, distributions={'factors': IntDistribution(high=256, log=False, low=8, step=1), 'regularization': FloatDistribution(high=0.9, log=True, low=1e-05, step=None), 'alpha': FloatDistribution(high=10.0, log=True, low=0.1, step=None), 'iterations': IntDistribution(high=100, log=False, low=5, step=1), 'use_native': CategoricalDistribution(choices=(True, False)), 'use_cg': CategoricalDistribution(choices=(True, False)), 'feedback_preprocessing': CategoricalDistribution(choices=('bm25_weight', 'tfidf_weight', 'None'))}, trial_id=39, value=None),\n",
       " FrozenTrial(number=39, state=TrialState.COMPLETE, values=[0.5643407174429179], datetime_start=datetime.datetime(2024, 12, 2, 18, 11, 53, 326382), datetime_complete=datetime.datetime(2024, 12, 2, 18, 19, 27, 234140), params={'factors': 212, 'regularization': 0.00263514569400434, 'alpha': 7.792153054337616, 'iterations': 69, 'use_native': False, 'use_cg': True, 'feedback_preprocessing': 'None'}, user_attrs={}, system_attrs={}, intermediate_values={}, distributions={'factors': IntDistribution(high=256, log=False, low=8, step=1), 'regularization': FloatDistribution(high=0.9, log=True, low=1e-05, step=None), 'alpha': FloatDistribution(high=10.0, log=True, low=0.1, step=None), 'iterations': IntDistribution(high=100, log=False, low=5, step=1), 'use_native': CategoricalDistribution(choices=(True, False)), 'use_cg': CategoricalDistribution(choices=(True, False)), 'feedback_preprocessing': CategoricalDistribution(choices=('bm25_weight', 'tfidf_weight', 'None'))}, trial_id=40, value=None),\n",
       " FrozenTrial(number=40, state=TrialState.COMPLETE, values=[0.5884126451614797], datetime_start=datetime.datetime(2024, 12, 2, 18, 19, 27, 254993), datetime_complete=datetime.datetime(2024, 12, 2, 18, 25, 50, 362984), params={'factors': 229, 'regularization': 0.7101259255930248, 'alpha': 7.331900994122311, 'iterations': 55, 'use_native': True, 'use_cg': True, 'feedback_preprocessing': 'tfidf_weight'}, user_attrs={}, system_attrs={}, intermediate_values={}, distributions={'factors': IntDistribution(high=256, log=False, low=8, step=1), 'regularization': FloatDistribution(high=0.9, log=True, low=1e-05, step=None), 'alpha': FloatDistribution(high=10.0, log=True, low=0.1, step=None), 'iterations': IntDistribution(high=100, log=False, low=5, step=1), 'use_native': CategoricalDistribution(choices=(True, False)), 'use_cg': CategoricalDistribution(choices=(True, False)), 'feedback_preprocessing': CategoricalDistribution(choices=('bm25_weight', 'tfidf_weight', 'None'))}, trial_id=41, value=None),\n",
       " FrozenTrial(number=41, state=TrialState.COMPLETE, values=[0.5884395353114271], datetime_start=datetime.datetime(2024, 12, 2, 18, 25, 50, 384350), datetime_complete=datetime.datetime(2024, 12, 2, 18, 30, 16, 312957), params={'factors': 184, 'regularization': 0.02464878375539453, 'alpha': 3.53666021746869, 'iterations': 44, 'use_native': False, 'use_cg': True, 'feedback_preprocessing': 'tfidf_weight'}, user_attrs={}, system_attrs={}, intermediate_values={}, distributions={'factors': IntDistribution(high=256, log=False, low=8, step=1), 'regularization': FloatDistribution(high=0.9, log=True, low=1e-05, step=None), 'alpha': FloatDistribution(high=10.0, log=True, low=0.1, step=None), 'iterations': IntDistribution(high=100, log=False, low=5, step=1), 'use_native': CategoricalDistribution(choices=(True, False)), 'use_cg': CategoricalDistribution(choices=(True, False)), 'feedback_preprocessing': CategoricalDistribution(choices=('bm25_weight', 'tfidf_weight', 'None'))}, trial_id=42, value=None),\n",
       " FrozenTrial(number=42, state=TrialState.COMPLETE, values=[0.58844835845371], datetime_start=datetime.datetime(2024, 12, 2, 18, 30, 16, 332985), datetime_complete=datetime.datetime(2024, 12, 2, 18, 35, 46, 536807), params={'factors': 161, 'regularization': 0.010690471278666498, 'alpha': 5.809110247068563, 'iterations': 58, 'use_native': False, 'use_cg': True, 'feedback_preprocessing': 'tfidf_weight'}, user_attrs={}, system_attrs={}, intermediate_values={}, distributions={'factors': IntDistribution(high=256, log=False, low=8, step=1), 'regularization': FloatDistribution(high=0.9, log=True, low=1e-05, step=None), 'alpha': FloatDistribution(high=10.0, log=True, low=0.1, step=None), 'iterations': IntDistribution(high=100, log=False, low=5, step=1), 'use_native': CategoricalDistribution(choices=(True, False)), 'use_cg': CategoricalDistribution(choices=(True, False)), 'feedback_preprocessing': CategoricalDistribution(choices=('bm25_weight', 'tfidf_weight', 'None'))}, trial_id=43, value=None),\n",
       " FrozenTrial(number=43, state=TrialState.COMPLETE, values=[0.5888392002324164], datetime_start=datetime.datetime(2024, 12, 2, 18, 35, 46, 553426), datetime_complete=datetime.datetime(2024, 12, 2, 18, 41, 6, 2197), params={'factors': 186, 'regularization': 0.045896155987553124, 'alpha': 0.8502984563925418, 'iterations': 54, 'use_native': False, 'use_cg': True, 'feedback_preprocessing': 'tfidf_weight'}, user_attrs={}, system_attrs={}, intermediate_values={}, distributions={'factors': IntDistribution(high=256, log=False, low=8, step=1), 'regularization': FloatDistribution(high=0.9, log=True, low=1e-05, step=None), 'alpha': FloatDistribution(high=10.0, log=True, low=0.1, step=None), 'iterations': IntDistribution(high=100, log=False, low=5, step=1), 'use_native': CategoricalDistribution(choices=(True, False)), 'use_cg': CategoricalDistribution(choices=(True, False)), 'feedback_preprocessing': CategoricalDistribution(choices=('bm25_weight', 'tfidf_weight', 'None'))}, trial_id=44, value=None),\n",
       " FrozenTrial(number=44, state=TrialState.COMPLETE, values=[0.5763720671017516], datetime_start=datetime.datetime(2024, 12, 2, 18, 41, 6, 17376), datetime_complete=datetime.datetime(2024, 12, 2, 18, 47, 22, 275125), params={'factors': 237, 'regularization': 0.04368303036699803, 'alpha': 0.8356725382421318, 'iterations': 53, 'use_native': False, 'use_cg': True, 'feedback_preprocessing': 'bm25_weight'}, user_attrs={}, system_attrs={}, intermediate_values={}, distributions={'factors': IntDistribution(high=256, log=False, low=8, step=1), 'regularization': FloatDistribution(high=0.9, log=True, low=1e-05, step=None), 'alpha': FloatDistribution(high=10.0, log=True, low=0.1, step=None), 'iterations': IntDistribution(high=100, log=False, low=5, step=1), 'use_native': CategoricalDistribution(choices=(True, False)), 'use_cg': CategoricalDistribution(choices=(True, False)), 'feedback_preprocessing': CategoricalDistribution(choices=('bm25_weight', 'tfidf_weight', 'None'))}, trial_id=45, value=None),\n",
       " FrozenTrial(number=45, state=TrialState.COMPLETE, values=[0.5884355940337829], datetime_start=datetime.datetime(2024, 12, 2, 18, 47, 22, 296226), datetime_complete=datetime.datetime(2024, 12, 2, 18, 50, 12, 881879), params={'factors': 204, 'regularization': 0.12122739711563146, 'alpha': 0.7202198651626106, 'iterations': 16, 'use_native': False, 'use_cg': True, 'feedback_preprocessing': 'tfidf_weight'}, user_attrs={}, system_attrs={}, intermediate_values={}, distributions={'factors': IntDistribution(high=256, log=False, low=8, step=1), 'regularization': FloatDistribution(high=0.9, log=True, low=1e-05, step=None), 'alpha': FloatDistribution(high=10.0, log=True, low=0.1, step=None), 'iterations': IntDistribution(high=100, log=False, low=5, step=1), 'use_native': CategoricalDistribution(choices=(True, False)), 'use_cg': CategoricalDistribution(choices=(True, False)), 'feedback_preprocessing': CategoricalDistribution(choices=('bm25_weight', 'tfidf_weight', 'None'))}, trial_id=46, value=None),\n",
       " FrozenTrial(number=46, state=TrialState.COMPLETE, values=[0.5883799149513523], datetime_start=datetime.datetime(2024, 12, 2, 18, 50, 12, 895208), datetime_complete=datetime.datetime(2024, 12, 2, 18, 54, 36, 612251), params={'factors': 124, 'regularization': 0.014130027771291652, 'alpha': 0.38396062373313694, 'iterations': 70, 'use_native': False, 'use_cg': True, 'feedback_preprocessing': 'tfidf_weight'}, user_attrs={}, system_attrs={}, intermediate_values={}, distributions={'factors': IntDistribution(high=256, log=False, low=8, step=1), 'regularization': FloatDistribution(high=0.9, log=True, low=1e-05, step=None), 'alpha': FloatDistribution(high=10.0, log=True, low=0.1, step=None), 'iterations': IntDistribution(high=100, log=False, low=5, step=1), 'use_native': CategoricalDistribution(choices=(True, False)), 'use_cg': CategoricalDistribution(choices=(True, False)), 'feedback_preprocessing': CategoricalDistribution(choices=('bm25_weight', 'tfidf_weight', 'None'))}, trial_id=47, value=None),\n",
       " FrozenTrial(number=47, state=TrialState.COMPLETE, values=[0.578477818028873], datetime_start=datetime.datetime(2024, 12, 2, 18, 54, 36, 632364), datetime_complete=datetime.datetime(2024, 12, 2, 19, 0, 39, 680827), params={'factors': 176, 'regularization': 0.008164028928403752, 'alpha': 1.0035244119335842, 'iterations': 50, 'use_native': True, 'use_cg': True, 'feedback_preprocessing': 'bm25_weight'}, user_attrs={}, system_attrs={}, intermediate_values={}, distributions={'factors': IntDistribution(high=256, log=False, low=8, step=1), 'regularization': FloatDistribution(high=0.9, log=True, low=1e-05, step=None), 'alpha': FloatDistribution(high=10.0, log=True, low=0.1, step=None), 'iterations': IntDistribution(high=100, log=False, low=5, step=1), 'use_native': CategoricalDistribution(choices=(True, False)), 'use_cg': CategoricalDistribution(choices=(True, False)), 'feedback_preprocessing': CategoricalDistribution(choices=('bm25_weight', 'tfidf_weight', 'None'))}, trial_id=48, value=None),\n",
       " FrozenTrial(number=48, state=TrialState.COMPLETE, values=[0.5650993225055349], datetime_start=datetime.datetime(2024, 12, 2, 19, 0, 39, 694624), datetime_complete=datetime.datetime(2024, 12, 2, 19, 4, 3, 64489), params={'factors': 152, 'regularization': 0.03632852875887521, 'alpha': 1.3972409654096385, 'iterations': 31, 'use_native': False, 'use_cg': True, 'feedback_preprocessing': 'None'}, user_attrs={}, system_attrs={}, intermediate_values={}, distributions={'factors': IntDistribution(high=256, log=False, low=8, step=1), 'regularization': FloatDistribution(high=0.9, log=True, low=1e-05, step=None), 'alpha': FloatDistribution(high=10.0, log=True, low=0.1, step=None), 'iterations': IntDistribution(high=100, log=False, low=5, step=1), 'use_native': CategoricalDistribution(choices=(True, False)), 'use_cg': CategoricalDistribution(choices=(True, False)), 'feedback_preprocessing': CategoricalDistribution(choices=('bm25_weight', 'tfidf_weight', 'None'))}, trial_id=49, value=None),\n",
       " FrozenTrial(number=49, state=TrialState.FAIL, values=None, datetime_start=datetime.datetime(2024, 12, 2, 19, 4, 3, 81639), datetime_complete=datetime.datetime(2024, 12, 2, 19, 13, 42, 537513), params={'factors': 249, 'regularization': 0.003438380153695875, 'alpha': 0.4383868466334225, 'iterations': 43, 'use_native': False, 'use_cg': True, 'feedback_preprocessing': 'tfidf_weight'}, user_attrs={}, system_attrs={}, intermediate_values={}, distributions={'factors': IntDistribution(high=256, log=False, low=8, step=1), 'regularization': FloatDistribution(high=0.9, log=True, low=1e-05, step=None), 'alpha': FloatDistribution(high=10.0, log=True, low=0.1, step=None), 'iterations': IntDistribution(high=100, log=False, low=5, step=1), 'use_native': CategoricalDistribution(choices=(True, False)), 'use_cg': CategoricalDistribution(choices=(True, False)), 'feedback_preprocessing': CategoricalDistribution(choices=('bm25_weight', 'tfidf_weight', 'None'))}, trial_id=50, value=None)]"
      ]
     },
     "metadata": {},
     "output_type": "display_data"
    }
   ],
   "source": [
    "my_study.trials"
   ]
  },
  {
   "cell_type": "code",
   "execution_count": null,
   "metadata": {},
   "outputs": [
    {
     "data": {
      "application/vnd.plotly.v1+json": {
       "config": {
        "plotlyServerURL": "https://plot.ly"
       },
       "data": [
        {
         "mode": "markers",
         "name": "Objective Value",
         "type": "scatter",
         "x": [
          0,
          1,
          2,
          3,
          4,
          5,
          6,
          7,
          8,
          9,
          10,
          11,
          12,
          13,
          14,
          15,
          16,
          17,
          18,
          19,
          20,
          21,
          22,
          23,
          24,
          25,
          26,
          27,
          28,
          29,
          30,
          31,
          32,
          33,
          34,
          35,
          36,
          37,
          38,
          39,
          40,
          41,
          42,
          43,
          44,
          45,
          46,
          47,
          48
         ],
         "y": [
          0.5650940919549191,
          0.5804944863017684,
          0.5642461003701811,
          0.5806611257865099,
          0.5650080077815747,
          0.5641495941009439,
          0.5778459737650138,
          0.5642156906529325,
          0.5787654030648276,
          0.5771714495040593,
          0.5632859800838065,
          0.5807201882904689,
          0.5796408106676086,
          0.5852041438433704,
          0.5863967458067612,
          0.5873303406272551,
          0.5868880929633076,
          0.5877899355012848,
          0.5882922124711292,
          0.5884670222157169,
          0.587807919234267,
          0.5884095015438272,
          0.5885551841405614,
          0.5884476821222583,
          0.5885197994963086,
          0.5886665617046638,
          0.5885620698699363,
          0.5890312396521578,
          0.5881270396775772,
          0.5855725245129793,
          0.5879734399395145,
          0.5889408015080849,
          0.5887146827515285,
          0.5881350409523082,
          0.5638632512358857,
          0.5884189728552854,
          0.5885932080932612,
          0.5885507306379207,
          0.5635663489471008,
          0.5643407174429179,
          0.5884126451614797,
          0.5884395353114271,
          0.58844835845371,
          0.5888392002324164,
          0.5763720671017516,
          0.5884355940337829,
          0.5883799149513523,
          0.578477818028873,
          0.5650993225055349
         ]
        },
        {
         "mode": "lines",
         "name": "Best Value",
         "type": "scatter",
         "x": [
          0,
          1,
          2,
          3,
          4,
          5,
          6,
          7,
          8,
          9,
          10,
          11,
          12,
          13,
          14,
          15,
          16,
          17,
          18,
          19,
          20,
          21,
          22,
          23,
          24,
          25,
          26,
          27,
          28,
          29,
          30,
          31,
          32,
          33,
          34,
          35,
          36,
          37,
          38,
          39,
          40,
          41,
          42,
          43,
          44,
          45,
          46,
          47,
          48,
          49
         ],
         "y": [
          0.5650940919549191,
          0.5804944863017684,
          0.5804944863017684,
          0.5806611257865099,
          0.5806611257865099,
          0.5806611257865099,
          0.5806611257865099,
          0.5806611257865099,
          0.5806611257865099,
          0.5806611257865099,
          0.5806611257865099,
          0.5807201882904689,
          0.5807201882904689,
          0.5852041438433704,
          0.5863967458067612,
          0.5873303406272551,
          0.5873303406272551,
          0.5877899355012848,
          0.5882922124711292,
          0.5884670222157169,
          0.5884670222157169,
          0.5884670222157169,
          0.5885551841405614,
          0.5885551841405614,
          0.5885551841405614,
          0.5886665617046638,
          0.5886665617046638,
          0.5890312396521578,
          0.5890312396521578,
          0.5890312396521578,
          0.5890312396521578,
          0.5890312396521578,
          0.5890312396521578,
          0.5890312396521578,
          0.5890312396521578,
          0.5890312396521578,
          0.5890312396521578,
          0.5890312396521578,
          0.5890312396521578,
          0.5890312396521578,
          0.5890312396521578,
          0.5890312396521578,
          0.5890312396521578,
          0.5890312396521578,
          0.5890312396521578,
          0.5890312396521578,
          0.5890312396521578,
          0.5890312396521578,
          0.5890312396521578,
          0.5890312396521578
         ]
        },
        {
         "marker": {
          "color": "#cccccc"
         },
         "mode": "markers",
         "name": "Infeasible Trial",
         "showlegend": false,
         "type": "scatter",
         "x": [],
         "y": []
        }
       ],
       "layout": {
        "template": {
         "data": {
          "bar": [
           {
            "error_x": {
             "color": "#2a3f5f"
            },
            "error_y": {
             "color": "#2a3f5f"
            },
            "marker": {
             "line": {
              "color": "#E5ECF6",
              "width": 0.5
             },
             "pattern": {
              "fillmode": "overlay",
              "size": 10,
              "solidity": 0.2
             }
            },
            "type": "bar"
           }
          ],
          "barpolar": [
           {
            "marker": {
             "line": {
              "color": "#E5ECF6",
              "width": 0.5
             },
             "pattern": {
              "fillmode": "overlay",
              "size": 10,
              "solidity": 0.2
             }
            },
            "type": "barpolar"
           }
          ],
          "carpet": [
           {
            "aaxis": {
             "endlinecolor": "#2a3f5f",
             "gridcolor": "white",
             "linecolor": "white",
             "minorgridcolor": "white",
             "startlinecolor": "#2a3f5f"
            },
            "baxis": {
             "endlinecolor": "#2a3f5f",
             "gridcolor": "white",
             "linecolor": "white",
             "minorgridcolor": "white",
             "startlinecolor": "#2a3f5f"
            },
            "type": "carpet"
           }
          ],
          "choropleth": [
           {
            "colorbar": {
             "outlinewidth": 0,
             "ticks": ""
            },
            "type": "choropleth"
           }
          ],
          "contour": [
           {
            "colorbar": {
             "outlinewidth": 0,
             "ticks": ""
            },
            "colorscale": [
             [
              0,
              "#0d0887"
             ],
             [
              0.1111111111111111,
              "#46039f"
             ],
             [
              0.2222222222222222,
              "#7201a8"
             ],
             [
              0.3333333333333333,
              "#9c179e"
             ],
             [
              0.4444444444444444,
              "#bd3786"
             ],
             [
              0.5555555555555556,
              "#d8576b"
             ],
             [
              0.6666666666666666,
              "#ed7953"
             ],
             [
              0.7777777777777778,
              "#fb9f3a"
             ],
             [
              0.8888888888888888,
              "#fdca26"
             ],
             [
              1,
              "#f0f921"
             ]
            ],
            "type": "contour"
           }
          ],
          "contourcarpet": [
           {
            "colorbar": {
             "outlinewidth": 0,
             "ticks": ""
            },
            "type": "contourcarpet"
           }
          ],
          "heatmap": [
           {
            "colorbar": {
             "outlinewidth": 0,
             "ticks": ""
            },
            "colorscale": [
             [
              0,
              "#0d0887"
             ],
             [
              0.1111111111111111,
              "#46039f"
             ],
             [
              0.2222222222222222,
              "#7201a8"
             ],
             [
              0.3333333333333333,
              "#9c179e"
             ],
             [
              0.4444444444444444,
              "#bd3786"
             ],
             [
              0.5555555555555556,
              "#d8576b"
             ],
             [
              0.6666666666666666,
              "#ed7953"
             ],
             [
              0.7777777777777778,
              "#fb9f3a"
             ],
             [
              0.8888888888888888,
              "#fdca26"
             ],
             [
              1,
              "#f0f921"
             ]
            ],
            "type": "heatmap"
           }
          ],
          "heatmapgl": [
           {
            "colorbar": {
             "outlinewidth": 0,
             "ticks": ""
            },
            "colorscale": [
             [
              0,
              "#0d0887"
             ],
             [
              0.1111111111111111,
              "#46039f"
             ],
             [
              0.2222222222222222,
              "#7201a8"
             ],
             [
              0.3333333333333333,
              "#9c179e"
             ],
             [
              0.4444444444444444,
              "#bd3786"
             ],
             [
              0.5555555555555556,
              "#d8576b"
             ],
             [
              0.6666666666666666,
              "#ed7953"
             ],
             [
              0.7777777777777778,
              "#fb9f3a"
             ],
             [
              0.8888888888888888,
              "#fdca26"
             ],
             [
              1,
              "#f0f921"
             ]
            ],
            "type": "heatmapgl"
           }
          ],
          "histogram": [
           {
            "marker": {
             "pattern": {
              "fillmode": "overlay",
              "size": 10,
              "solidity": 0.2
             }
            },
            "type": "histogram"
           }
          ],
          "histogram2d": [
           {
            "colorbar": {
             "outlinewidth": 0,
             "ticks": ""
            },
            "colorscale": [
             [
              0,
              "#0d0887"
             ],
             [
              0.1111111111111111,
              "#46039f"
             ],
             [
              0.2222222222222222,
              "#7201a8"
             ],
             [
              0.3333333333333333,
              "#9c179e"
             ],
             [
              0.4444444444444444,
              "#bd3786"
             ],
             [
              0.5555555555555556,
              "#d8576b"
             ],
             [
              0.6666666666666666,
              "#ed7953"
             ],
             [
              0.7777777777777778,
              "#fb9f3a"
             ],
             [
              0.8888888888888888,
              "#fdca26"
             ],
             [
              1,
              "#f0f921"
             ]
            ],
            "type": "histogram2d"
           }
          ],
          "histogram2dcontour": [
           {
            "colorbar": {
             "outlinewidth": 0,
             "ticks": ""
            },
            "colorscale": [
             [
              0,
              "#0d0887"
             ],
             [
              0.1111111111111111,
              "#46039f"
             ],
             [
              0.2222222222222222,
              "#7201a8"
             ],
             [
              0.3333333333333333,
              "#9c179e"
             ],
             [
              0.4444444444444444,
              "#bd3786"
             ],
             [
              0.5555555555555556,
              "#d8576b"
             ],
             [
              0.6666666666666666,
              "#ed7953"
             ],
             [
              0.7777777777777778,
              "#fb9f3a"
             ],
             [
              0.8888888888888888,
              "#fdca26"
             ],
             [
              1,
              "#f0f921"
             ]
            ],
            "type": "histogram2dcontour"
           }
          ],
          "mesh3d": [
           {
            "colorbar": {
             "outlinewidth": 0,
             "ticks": ""
            },
            "type": "mesh3d"
           }
          ],
          "parcoords": [
           {
            "line": {
             "colorbar": {
              "outlinewidth": 0,
              "ticks": ""
             }
            },
            "type": "parcoords"
           }
          ],
          "pie": [
           {
            "automargin": true,
            "type": "pie"
           }
          ],
          "scatter": [
           {
            "fillpattern": {
             "fillmode": "overlay",
             "size": 10,
             "solidity": 0.2
            },
            "type": "scatter"
           }
          ],
          "scatter3d": [
           {
            "line": {
             "colorbar": {
              "outlinewidth": 0,
              "ticks": ""
             }
            },
            "marker": {
             "colorbar": {
              "outlinewidth": 0,
              "ticks": ""
             }
            },
            "type": "scatter3d"
           }
          ],
          "scattercarpet": [
           {
            "marker": {
             "colorbar": {
              "outlinewidth": 0,
              "ticks": ""
             }
            },
            "type": "scattercarpet"
           }
          ],
          "scattergeo": [
           {
            "marker": {
             "colorbar": {
              "outlinewidth": 0,
              "ticks": ""
             }
            },
            "type": "scattergeo"
           }
          ],
          "scattergl": [
           {
            "marker": {
             "colorbar": {
              "outlinewidth": 0,
              "ticks": ""
             }
            },
            "type": "scattergl"
           }
          ],
          "scattermapbox": [
           {
            "marker": {
             "colorbar": {
              "outlinewidth": 0,
              "ticks": ""
             }
            },
            "type": "scattermapbox"
           }
          ],
          "scatterpolar": [
           {
            "marker": {
             "colorbar": {
              "outlinewidth": 0,
              "ticks": ""
             }
            },
            "type": "scatterpolar"
           }
          ],
          "scatterpolargl": [
           {
            "marker": {
             "colorbar": {
              "outlinewidth": 0,
              "ticks": ""
             }
            },
            "type": "scatterpolargl"
           }
          ],
          "scatterternary": [
           {
            "marker": {
             "colorbar": {
              "outlinewidth": 0,
              "ticks": ""
             }
            },
            "type": "scatterternary"
           }
          ],
          "surface": [
           {
            "colorbar": {
             "outlinewidth": 0,
             "ticks": ""
            },
            "colorscale": [
             [
              0,
              "#0d0887"
             ],
             [
              0.1111111111111111,
              "#46039f"
             ],
             [
              0.2222222222222222,
              "#7201a8"
             ],
             [
              0.3333333333333333,
              "#9c179e"
             ],
             [
              0.4444444444444444,
              "#bd3786"
             ],
             [
              0.5555555555555556,
              "#d8576b"
             ],
             [
              0.6666666666666666,
              "#ed7953"
             ],
             [
              0.7777777777777778,
              "#fb9f3a"
             ],
             [
              0.8888888888888888,
              "#fdca26"
             ],
             [
              1,
              "#f0f921"
             ]
            ],
            "type": "surface"
           }
          ],
          "table": [
           {
            "cells": {
             "fill": {
              "color": "#EBF0F8"
             },
             "line": {
              "color": "white"
             }
            },
            "header": {
             "fill": {
              "color": "#C8D4E3"
             },
             "line": {
              "color": "white"
             }
            },
            "type": "table"
           }
          ]
         },
         "layout": {
          "annotationdefaults": {
           "arrowcolor": "#2a3f5f",
           "arrowhead": 0,
           "arrowwidth": 1
          },
          "autotypenumbers": "strict",
          "coloraxis": {
           "colorbar": {
            "outlinewidth": 0,
            "ticks": ""
           }
          },
          "colorscale": {
           "diverging": [
            [
             0,
             "#8e0152"
            ],
            [
             0.1,
             "#c51b7d"
            ],
            [
             0.2,
             "#de77ae"
            ],
            [
             0.3,
             "#f1b6da"
            ],
            [
             0.4,
             "#fde0ef"
            ],
            [
             0.5,
             "#f7f7f7"
            ],
            [
             0.6,
             "#e6f5d0"
            ],
            [
             0.7,
             "#b8e186"
            ],
            [
             0.8,
             "#7fbc41"
            ],
            [
             0.9,
             "#4d9221"
            ],
            [
             1,
             "#276419"
            ]
           ],
           "sequential": [
            [
             0,
             "#0d0887"
            ],
            [
             0.1111111111111111,
             "#46039f"
            ],
            [
             0.2222222222222222,
             "#7201a8"
            ],
            [
             0.3333333333333333,
             "#9c179e"
            ],
            [
             0.4444444444444444,
             "#bd3786"
            ],
            [
             0.5555555555555556,
             "#d8576b"
            ],
            [
             0.6666666666666666,
             "#ed7953"
            ],
            [
             0.7777777777777778,
             "#fb9f3a"
            ],
            [
             0.8888888888888888,
             "#fdca26"
            ],
            [
             1,
             "#f0f921"
            ]
           ],
           "sequentialminus": [
            [
             0,
             "#0d0887"
            ],
            [
             0.1111111111111111,
             "#46039f"
            ],
            [
             0.2222222222222222,
             "#7201a8"
            ],
            [
             0.3333333333333333,
             "#9c179e"
            ],
            [
             0.4444444444444444,
             "#bd3786"
            ],
            [
             0.5555555555555556,
             "#d8576b"
            ],
            [
             0.6666666666666666,
             "#ed7953"
            ],
            [
             0.7777777777777778,
             "#fb9f3a"
            ],
            [
             0.8888888888888888,
             "#fdca26"
            ],
            [
             1,
             "#f0f921"
            ]
           ]
          },
          "colorway": [
           "#636efa",
           "#EF553B",
           "#00cc96",
           "#ab63fa",
           "#FFA15A",
           "#19d3f3",
           "#FF6692",
           "#B6E880",
           "#FF97FF",
           "#FECB52"
          ],
          "font": {
           "color": "#2a3f5f"
          },
          "geo": {
           "bgcolor": "white",
           "lakecolor": "white",
           "landcolor": "#E5ECF6",
           "showlakes": true,
           "showland": true,
           "subunitcolor": "white"
          },
          "hoverlabel": {
           "align": "left"
          },
          "hovermode": "closest",
          "mapbox": {
           "style": "light"
          },
          "paper_bgcolor": "white",
          "plot_bgcolor": "#E5ECF6",
          "polar": {
           "angularaxis": {
            "gridcolor": "white",
            "linecolor": "white",
            "ticks": ""
           },
           "bgcolor": "#E5ECF6",
           "radialaxis": {
            "gridcolor": "white",
            "linecolor": "white",
            "ticks": ""
           }
          },
          "scene": {
           "xaxis": {
            "backgroundcolor": "#E5ECF6",
            "gridcolor": "white",
            "gridwidth": 2,
            "linecolor": "white",
            "showbackground": true,
            "ticks": "",
            "zerolinecolor": "white"
           },
           "yaxis": {
            "backgroundcolor": "#E5ECF6",
            "gridcolor": "white",
            "gridwidth": 2,
            "linecolor": "white",
            "showbackground": true,
            "ticks": "",
            "zerolinecolor": "white"
           },
           "zaxis": {
            "backgroundcolor": "#E5ECF6",
            "gridcolor": "white",
            "gridwidth": 2,
            "linecolor": "white",
            "showbackground": true,
            "ticks": "",
            "zerolinecolor": "white"
           }
          },
          "shapedefaults": {
           "line": {
            "color": "#2a3f5f"
           }
          },
          "ternary": {
           "aaxis": {
            "gridcolor": "white",
            "linecolor": "white",
            "ticks": ""
           },
           "baxis": {
            "gridcolor": "white",
            "linecolor": "white",
            "ticks": ""
           },
           "bgcolor": "#E5ECF6",
           "caxis": {
            "gridcolor": "white",
            "linecolor": "white",
            "ticks": ""
           }
          },
          "title": {
           "x": 0.05
          },
          "xaxis": {
           "automargin": true,
           "gridcolor": "white",
           "linecolor": "white",
           "ticks": "",
           "title": {
            "standoff": 15
           },
           "zerolinecolor": "white",
           "zerolinewidth": 2
          },
          "yaxis": {
           "automargin": true,
           "gridcolor": "white",
           "linecolor": "white",
           "ticks": "",
           "title": {
            "standoff": 15
           },
           "zerolinecolor": "white",
           "zerolinewidth": 2
          }
         }
        },
        "title": {
         "text": "Optimization History Plot"
        },
        "xaxis": {
         "title": {
          "text": "Trial"
         }
        },
        "yaxis": {
         "title": {
          "text": "Objective Value"
         }
        }
       }
      }
     },
     "metadata": {},
     "output_type": "display_data"
    }
   ],
   "source": [
    "optuna.visualization.plot_optimization_history(my_study)"
   ]
  },
  {
   "cell_type": "code",
   "execution_count": null,
   "metadata": {},
   "outputs": [
    {
     "data": {
      "text/plain": [
       "{'factors': 195,\n",
       " 'regularization': 0.005632337918256821,\n",
       " 'alpha': 5.2675560420426715,\n",
       " 'iterations': 47,\n",
       " 'use_native': False,\n",
       " 'use_cg': True,\n",
       " 'feedback_preprocessing': 'tfidf_weight'}"
      ]
     },
     "metadata": {},
     "output_type": "display_data"
    }
   ],
   "source": [
    "my_study."
   ]
  }
 ],
 "metadata": {
  "language_info": {
   "name": "python"
  }
 },
 "nbformat": 4,
 "nbformat_minor": 2
}
