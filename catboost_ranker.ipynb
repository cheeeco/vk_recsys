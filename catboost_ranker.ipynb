{
 "cells": [
  {
   "cell_type": "markdown",
   "metadata": {},
   "source": [
    "##### import libs"
   ]
  },
  {
   "cell_type": "code",
   "execution_count": 1,
   "metadata": {},
   "outputs": [],
   "source": [
    "import gc\n",
    "import numpy as np\n",
    "import pandas as pd\n",
    "from copy import deepcopy\n",
    "from catboost import CatBoostRanker, Pool\n",
    "from sklearn.model_selection import train_test_split\n",
    "\n",
    "from utils import load_data, evaluate"
   ]
  },
  {
   "cell_type": "code",
   "execution_count": 3,
   "metadata": {},
   "outputs": [],
   "source": [
    "model = CatBoostRanker()"
   ]
  },
  {
   "cell_type": "code",
   "execution_count": 4,
   "metadata": {},
   "outputs": [
    {
     "data": {
      "text/plain": [
       "<catboost.core.CatBoostRanker at 0x7f6d4e138370>"
      ]
     },
     "execution_count": 4,
     "metadata": {},
     "output_type": "execute_result"
    }
   ],
   "source": [
    "model.load_model(\"ranker_01\")"
   ]
  },
  {
   "cell_type": "code",
   "execution_count": 6,
   "metadata": {},
   "outputs": [
    {
     "data": {
      "text/plain": [
       "['num_of_likes_by_item_id',\n",
       " 'num_of_shares_by_item_id',\n",
       " 'std_viewers_age_by_item_id',\n",
       " 'num_of_bookmarks_by_user_id',\n",
       " 'median_viewers_gender_by_item_id',\n",
       " 'ratio_of_dislikes_by_source_id',\n",
       " 'user_like_counts_by_source_id_ratio_to_likes',\n",
       " 'age',\n",
       " 'user_view_counts_by_source_id_ratio_to_views',\n",
       " 'num_of_likes_by_user_id',\n",
       " 'std_likers_gender_by_item_id',\n",
       " 'min_likers_age_by_item_id',\n",
       " 'duration',\n",
       " 'max_likers_gender_by_item_id',\n",
       " 'user_id',\n",
       " 'ratio_of_likes_by_user_id',\n",
       " 'max_viewers_gender_by_item_id',\n",
       " 'user_like_counts_by_source_id_ratio_to_views',\n",
       " 'mean_viewers_age_by_item_id',\n",
       " 'min_viewers_gender_by_item_id',\n",
       " 'source_id',\n",
       " 'num_of_views_by_item_id',\n",
       " 'num_of_shares_by_source_id',\n",
       " 'median_likers_age_by_item_id',\n",
       " 'mean_viewers_gender_by_item_id',\n",
       " 'ratio_of_likes_by_source_id',\n",
       " 'median_likers_gender_by_item_id',\n",
       " 'ratio_of_dislikes_by_item_id',\n",
       " 'min_likers_gender_by_item_id',\n",
       " 'ratio_of_bookmarks_by_item_id',\n",
       " 'ratio_of_bookmarks_by_source_id',\n",
       " 'min_viewers_age_by_item_id',\n",
       " 'num_of_dislikes_by_item_id',\n",
       " 'ratio_of_shares_by_user_id',\n",
       " 'std_viewers_gender_by_item_id',\n",
       " 'gender',\n",
       " 'num_of_bookmarks_by_source_id',\n",
       " 'ratio_of_shares_by_item_id',\n",
       " 'user_view_counts_by_source_id',\n",
       " 'mean_likers_gender_by_item_id',\n",
       " 'num_of_views_by_user_id',\n",
       " 'std_likers_age_by_item_id',\n",
       " 'item_id',\n",
       " 'ratio_of_shares_by_source_id',\n",
       " 'ratio_of_likes_by_item_id',\n",
       " 'num_of_shares_by_user_id',\n",
       " 'user_like_counts_by_source_id',\n",
       " 'num_of_views_by_source_id',\n",
       " 'max_viewers_age_by_item_id',\n",
       " 'median_viewers_age_by_item_id',\n",
       " 'num_of_dislikes_by_source_id',\n",
       " 'ratio_of_bookmarks_by_user_id',\n",
       " 'num_of_bookmarks_by_item_id',\n",
       " 'ratio_of_dislikes_by_user_id',\n",
       " 'num_of_dislikes_by_user_id',\n",
       " 'num_of_likes_by_source_id',\n",
       " 'max_likers_age_by_item_id',\n",
       " 'mean_likerss_age_by_item_id']"
      ]
     },
     "execution_count": 6,
     "metadata": {},
     "output_type": "execute_result"
    },
    {
     "ename": "",
     "evalue": "",
     "output_type": "error",
     "traceback": [
      "\u001b[1;31mThe Kernel crashed while executing code in the the current cell or a previous cell. Please review the code in the cell(s) to identify a possible cause of the failure. Click <a href='https://aka.ms/vscodeJupyterKernelCrash'>here</a> for more info. View Jupyter <a href='command:jupyter.viewOutput'>log</a> for further details."
     ]
    }
   ],
   "source": [
    "model.feature_names_"
   ]
  },
  {
   "cell_type": "markdown",
   "metadata": {},
   "source": [
    "##### load data"
   ]
  },
  {
   "cell_type": "code",
   "execution_count": 2,
   "metadata": {},
   "outputs": [],
   "source": [
    "user_item_data, user_meta_data, item_meta_data, test_pairs_data = load_data()"
   ]
  },
  {
   "cell_type": "code",
   "execution_count": 3,
   "metadata": {},
   "outputs": [],
   "source": [
    "user_embeddings = np.load(\"dumps/user_embeddings.npy\")\n",
    "item_embeddings = np.load(\"dumps/item_embeddings.npy\")\n",
    "user_biases = np.load(\"dumps/user_biases.npy\")\n",
    "item_biases = np.load(\"dumps/item_biases.npy\")\n",
    "lightfm_scores = np.load(\"dumps/lightfm_scores.npy\")"
   ]
  },
  {
   "cell_type": "code",
   "execution_count": 5,
   "metadata": {},
   "outputs": [],
   "source": [
    "test_lightfm_scores = np.load(\"dumps/test_lightfm_scores.npy\")"
   ]
  },
  {
   "cell_type": "markdown",
   "metadata": {},
   "source": [
    "##### create features"
   ]
  },
  {
   "cell_type": "code",
   "execution_count": 6,
   "metadata": {},
   "outputs": [],
   "source": [
    "user_meta_data[\"user_lightfm_embeddings\"] = user_embeddings.tolist()\n",
    "item_meta_data[\"item_lightfm_embeddings\"] = item_embeddings.tolist()\n",
    "user_meta_data[\"user_lightfm_biases\"] = user_biases.tolist()\n",
    "item_meta_data[\"item_lightfm_biases\"] = item_biases.tolist()"
   ]
  },
  {
   "cell_type": "code",
   "execution_count": 7,
   "metadata": {},
   "outputs": [],
   "source": [
    "user_item_data[\"lightfm_scores\"] = lightfm_scores.tolist()"
   ]
  },
  {
   "cell_type": "code",
   "execution_count": 8,
   "metadata": {},
   "outputs": [],
   "source": [
    "item_meta_data = item_meta_data.rename({\"embeddings\": \"video_embeddings\"}, axis=1)"
   ]
  },
  {
   "cell_type": "code",
   "execution_count": 9,
   "metadata": {},
   "outputs": [],
   "source": [
    "user_item_data[user_item_data.dtypes[user_item_data.dtypes == np.uint8].index] = (\n",
    "    user_item_data[\n",
    "        user_item_data.dtypes[user_item_data.dtypes == np.uint8].index\n",
    "    ].astype(np.int16)\n",
    ")\n",
    "# single column for likes and dislikes\n",
    "user_item_data[\"explicit\"] = user_item_data.like - user_item_data.dislike"
   ]
  },
  {
   "cell_type": "code",
   "execution_count": 10,
   "metadata": {},
   "outputs": [],
   "source": [
    "user_item_data = user_item_data.merge(\n",
    "    item_meta_data.drop(columns=\"video_embeddings\"), on=\"item_id\", how=\"left\"\n",
    ")"
   ]
  },
  {
   "cell_type": "code",
   "execution_count": 11,
   "metadata": {},
   "outputs": [],
   "source": [
    "user_item_data = user_item_data.merge(user_meta_data, on=\"user_id\", how=\"left\")"
   ]
  },
  {
   "cell_type": "code",
   "execution_count": 12,
   "metadata": {},
   "outputs": [],
   "source": [
    "user_item_data[\"timespent_rel\"] = (\n",
    "    user_item_data[\"timespent\"] / user_item_data[\"duration\"]\n",
    ")"
   ]
  },
  {
   "cell_type": "code",
   "execution_count": 13,
   "metadata": {},
   "outputs": [
    {
     "data": {
      "text/html": [
       "<div>\n",
       "<style scoped>\n",
       "    .dataframe tbody tr th:only-of-type {\n",
       "        vertical-align: middle;\n",
       "    }\n",
       "\n",
       "    .dataframe tbody tr th {\n",
       "        vertical-align: top;\n",
       "    }\n",
       "\n",
       "    .dataframe thead th {\n",
       "        text-align: right;\n",
       "    }\n",
       "</style>\n",
       "<table border=\"1\" class=\"dataframe\">\n",
       "  <thead>\n",
       "    <tr style=\"text-align: right;\">\n",
       "      <th></th>\n",
       "      <th>user_id</th>\n",
       "      <th>item_id</th>\n",
       "      <th>timespent</th>\n",
       "      <th>like</th>\n",
       "      <th>dislike</th>\n",
       "      <th>share</th>\n",
       "      <th>bookmarks</th>\n",
       "      <th>explicit</th>\n",
       "      <th>lightfm_scores</th>\n",
       "      <th>source_id</th>\n",
       "      <th>duration</th>\n",
       "      <th>item_lightfm_embeddings</th>\n",
       "      <th>item_lightfm_biases</th>\n",
       "      <th>gender</th>\n",
       "      <th>age</th>\n",
       "      <th>user_lightfm_embeddings</th>\n",
       "      <th>user_lightfm_biases</th>\n",
       "      <th>timespent_rel</th>\n",
       "    </tr>\n",
       "  </thead>\n",
       "  <tbody>\n",
       "    <tr>\n",
       "      <th>0</th>\n",
       "      <td>3810</td>\n",
       "      <td>138979</td>\n",
       "      <td>6</td>\n",
       "      <td>0</td>\n",
       "      <td>0</td>\n",
       "      <td>0</td>\n",
       "      <td>0</td>\n",
       "      <td>0</td>\n",
       "      <td>-4.928252</td>\n",
       "      <td>4278</td>\n",
       "      <td>54</td>\n",
       "      <td>[0.10935251414775848, -0.10262538492679596, 0....</td>\n",
       "      <td>-1.237144</td>\n",
       "      <td>1</td>\n",
       "      <td>36</td>\n",
       "      <td>[-0.15640118718147278, 0.16826768219470978, -0...</td>\n",
       "      <td>-2.771661</td>\n",
       "      <td>0.111111</td>\n",
       "    </tr>\n",
       "    <tr>\n",
       "      <th>1</th>\n",
       "      <td>101874</td>\n",
       "      <td>331160</td>\n",
       "      <td>6</td>\n",
       "      <td>0</td>\n",
       "      <td>0</td>\n",
       "      <td>0</td>\n",
       "      <td>0</td>\n",
       "      <td>0</td>\n",
       "      <td>-2.806283</td>\n",
       "      <td>2049</td>\n",
       "      <td>6</td>\n",
       "      <td>[0.05162833631038666, -0.0370173454284668, 0.0...</td>\n",
       "      <td>-0.452806</td>\n",
       "      <td>2</td>\n",
       "      <td>52</td>\n",
       "      <td>[-0.13735204935073853, 0.13384205102920532, -0...</td>\n",
       "      <td>-2.130480</td>\n",
       "      <td>1.000000</td>\n",
       "    </tr>\n",
       "    <tr>\n",
       "      <th>2</th>\n",
       "      <td>150332</td>\n",
       "      <td>73709</td>\n",
       "      <td>11</td>\n",
       "      <td>0</td>\n",
       "      <td>0</td>\n",
       "      <td>0</td>\n",
       "      <td>0</td>\n",
       "      <td>0</td>\n",
       "      <td>-4.921135</td>\n",
       "      <td>16375</td>\n",
       "      <td>16</td>\n",
       "      <td>[0.22434011101722717, -0.3084537386894226, 0.3...</td>\n",
       "      <td>-3.108520</td>\n",
       "      <td>1</td>\n",
       "      <td>24</td>\n",
       "      <td>[0.01132113952189684, 0.011939991265535355, -0...</td>\n",
       "      <td>-1.521888</td>\n",
       "      <td>0.687500</td>\n",
       "    </tr>\n",
       "    <tr>\n",
       "      <th>3</th>\n",
       "      <td>4982</td>\n",
       "      <td>189745</td>\n",
       "      <td>5</td>\n",
       "      <td>0</td>\n",
       "      <td>0</td>\n",
       "      <td>0</td>\n",
       "      <td>0</td>\n",
       "      <td>0</td>\n",
       "      <td>-6.170381</td>\n",
       "      <td>166</td>\n",
       "      <td>25</td>\n",
       "      <td>[0.14558078348636627, -0.15912564098834991, 0....</td>\n",
       "      <td>-2.186147</td>\n",
       "      <td>1</td>\n",
       "      <td>40</td>\n",
       "      <td>[-0.1815866231918335, 0.21181342005729675, -0....</td>\n",
       "      <td>-2.607319</td>\n",
       "      <td>0.200000</td>\n",
       "    </tr>\n",
       "    <tr>\n",
       "      <th>4</th>\n",
       "      <td>149601</td>\n",
       "      <td>289643</td>\n",
       "      <td>1</td>\n",
       "      <td>0</td>\n",
       "      <td>0</td>\n",
       "      <td>1</td>\n",
       "      <td>0</td>\n",
       "      <td>0</td>\n",
       "      <td>-4.905728</td>\n",
       "      <td>1459</td>\n",
       "      <td>23</td>\n",
       "      <td>[0.19378170371055603, -0.1637626737356186, 0.1...</td>\n",
       "      <td>-0.989608</td>\n",
       "      <td>1</td>\n",
       "      <td>34</td>\n",
       "      <td>[-0.19518840312957764, 0.21150225400924683, -0...</td>\n",
       "      <td>-2.621225</td>\n",
       "      <td>0.043478</td>\n",
       "    </tr>\n",
       "  </tbody>\n",
       "</table>\n",
       "</div>"
      ],
      "text/plain": [
       "   user_id  item_id  timespent  like  dislike  share  bookmarks  explicit  \\\n",
       "0     3810   138979          6     0        0      0          0         0   \n",
       "1   101874   331160          6     0        0      0          0         0   \n",
       "2   150332    73709         11     0        0      0          0         0   \n",
       "3     4982   189745          5     0        0      0          0         0   \n",
       "4   149601   289643          1     0        0      1          0         0   \n",
       "\n",
       "   lightfm_scores  source_id  duration  \\\n",
       "0       -4.928252       4278        54   \n",
       "1       -2.806283       2049         6   \n",
       "2       -4.921135      16375        16   \n",
       "3       -6.170381        166        25   \n",
       "4       -4.905728       1459        23   \n",
       "\n",
       "                             item_lightfm_embeddings  item_lightfm_biases  \\\n",
       "0  [0.10935251414775848, -0.10262538492679596, 0....            -1.237144   \n",
       "1  [0.05162833631038666, -0.0370173454284668, 0.0...            -0.452806   \n",
       "2  [0.22434011101722717, -0.3084537386894226, 0.3...            -3.108520   \n",
       "3  [0.14558078348636627, -0.15912564098834991, 0....            -2.186147   \n",
       "4  [0.19378170371055603, -0.1637626737356186, 0.1...            -0.989608   \n",
       "\n",
       "   gender  age                            user_lightfm_embeddings  \\\n",
       "0       1   36  [-0.15640118718147278, 0.16826768219470978, -0...   \n",
       "1       2   52  [-0.13735204935073853, 0.13384205102920532, -0...   \n",
       "2       1   24  [0.01132113952189684, 0.011939991265535355, -0...   \n",
       "3       1   40  [-0.1815866231918335, 0.21181342005729675, -0....   \n",
       "4       1   34  [-0.19518840312957764, 0.21150225400924683, -0...   \n",
       "\n",
       "   user_lightfm_biases  timespent_rel  \n",
       "0            -2.771661       0.111111  \n",
       "1            -2.130480       1.000000  \n",
       "2            -1.521888       0.687500  \n",
       "3            -2.607319       0.200000  \n",
       "4            -2.621225       0.043478  "
      ]
     },
     "execution_count": 13,
     "metadata": {},
     "output_type": "execute_result"
    }
   ],
   "source": [
    "user_item_data.head()"
   ]
  },
  {
   "cell_type": "markdown",
   "metadata": {},
   "source": [
    "##### split"
   ]
  },
  {
   "cell_type": "code",
   "execution_count": 14,
   "metadata": {},
   "outputs": [],
   "source": [
    "train_df, val_df = train_test_split(user_item_data, test_size=0.2)"
   ]
  },
  {
   "cell_type": "markdown",
   "metadata": {},
   "source": [
    "##### catboost"
   ]
  },
  {
   "cell_type": "code",
   "execution_count": 15,
   "metadata": {},
   "outputs": [
    {
     "data": {
      "text/html": [
       "<div>\n",
       "<style scoped>\n",
       "    .dataframe tbody tr th:only-of-type {\n",
       "        vertical-align: middle;\n",
       "    }\n",
       "\n",
       "    .dataframe tbody tr th {\n",
       "        vertical-align: top;\n",
       "    }\n",
       "\n",
       "    .dataframe thead th {\n",
       "        text-align: right;\n",
       "    }\n",
       "</style>\n",
       "<table border=\"1\" class=\"dataframe\">\n",
       "  <thead>\n",
       "    <tr style=\"text-align: right;\">\n",
       "      <th></th>\n",
       "      <th>user_id</th>\n",
       "      <th>item_id</th>\n",
       "      <th>timespent</th>\n",
       "      <th>like</th>\n",
       "      <th>dislike</th>\n",
       "      <th>share</th>\n",
       "      <th>bookmarks</th>\n",
       "      <th>explicit</th>\n",
       "      <th>lightfm_scores</th>\n",
       "      <th>source_id</th>\n",
       "      <th>duration</th>\n",
       "      <th>item_lightfm_embeddings</th>\n",
       "      <th>item_lightfm_biases</th>\n",
       "      <th>gender</th>\n",
       "      <th>age</th>\n",
       "      <th>user_lightfm_embeddings</th>\n",
       "      <th>user_lightfm_biases</th>\n",
       "      <th>timespent_rel</th>\n",
       "    </tr>\n",
       "  </thead>\n",
       "  <tbody>\n",
       "    <tr>\n",
       "      <th>100223270</th>\n",
       "      <td>150891</td>\n",
       "      <td>234502</td>\n",
       "      <td>3</td>\n",
       "      <td>0</td>\n",
       "      <td>0</td>\n",
       "      <td>0</td>\n",
       "      <td>0</td>\n",
       "      <td>0</td>\n",
       "      <td>-3.211420</td>\n",
       "      <td>2787</td>\n",
       "      <td>20</td>\n",
       "      <td>[0.17732080817222595, -0.17245712876319885, 0....</td>\n",
       "      <td>-1.615301</td>\n",
       "      <td>1</td>\n",
       "      <td>33</td>\n",
       "      <td>[-0.11184735596179962, -0.04671141132712364, 0...</td>\n",
       "      <td>-1.868088</td>\n",
       "      <td>0.150000</td>\n",
       "    </tr>\n",
       "    <tr>\n",
       "      <th>96622535</th>\n",
       "      <td>72494</td>\n",
       "      <td>56338</td>\n",
       "      <td>2</td>\n",
       "      <td>0</td>\n",
       "      <td>0</td>\n",
       "      <td>0</td>\n",
       "      <td>0</td>\n",
       "      <td>0</td>\n",
       "      <td>-2.997175</td>\n",
       "      <td>6503</td>\n",
       "      <td>21</td>\n",
       "      <td>[0.24458101391792297, -0.17852246761322021, 0....</td>\n",
       "      <td>-1.828355</td>\n",
       "      <td>2</td>\n",
       "      <td>29</td>\n",
       "      <td>[0.0660756379365921, -0.05466609448194504, -0....</td>\n",
       "      <td>-1.469147</td>\n",
       "      <td>0.095238</td>\n",
       "    </tr>\n",
       "    <tr>\n",
       "      <th>142861749</th>\n",
       "      <td>15685</td>\n",
       "      <td>214345</td>\n",
       "      <td>55</td>\n",
       "      <td>0</td>\n",
       "      <td>0</td>\n",
       "      <td>0</td>\n",
       "      <td>0</td>\n",
       "      <td>0</td>\n",
       "      <td>-2.978568</td>\n",
       "      <td>4242</td>\n",
       "      <td>55</td>\n",
       "      <td>[0.07179868966341019, -0.05680978670716286, 0....</td>\n",
       "      <td>-1.317698</td>\n",
       "      <td>2</td>\n",
       "      <td>37</td>\n",
       "      <td>[-0.07110429555177689, 0.07772308588027954, -0...</td>\n",
       "      <td>-1.447046</td>\n",
       "      <td>1.000000</td>\n",
       "    </tr>\n",
       "    <tr>\n",
       "      <th>117347975</th>\n",
       "      <td>47283</td>\n",
       "      <td>110193</td>\n",
       "      <td>2</td>\n",
       "      <td>0</td>\n",
       "      <td>0</td>\n",
       "      <td>0</td>\n",
       "      <td>0</td>\n",
       "      <td>0</td>\n",
       "      <td>-5.805327</td>\n",
       "      <td>11846</td>\n",
       "      <td>22</td>\n",
       "      <td>[0.2287990152835846, -0.29124483466148376, 0.2...</td>\n",
       "      <td>-1.827512</td>\n",
       "      <td>1</td>\n",
       "      <td>26</td>\n",
       "      <td>[-0.11565996706485748, 0.1368868052959442, -0....</td>\n",
       "      <td>-1.944769</td>\n",
       "      <td>0.090909</td>\n",
       "    </tr>\n",
       "    <tr>\n",
       "      <th>31563459</th>\n",
       "      <td>92441</td>\n",
       "      <td>166855</td>\n",
       "      <td>4</td>\n",
       "      <td>0</td>\n",
       "      <td>0</td>\n",
       "      <td>0</td>\n",
       "      <td>0</td>\n",
       "      <td>0</td>\n",
       "      <td>-7.639848</td>\n",
       "      <td>3344</td>\n",
       "      <td>22</td>\n",
       "      <td>[0.20358052849769592, -0.24150842428207397, 0....</td>\n",
       "      <td>-3.370323</td>\n",
       "      <td>1</td>\n",
       "      <td>27</td>\n",
       "      <td>[-0.15662424266338348, 0.16617316007614136, -0...</td>\n",
       "      <td>-2.548270</td>\n",
       "      <td>0.181818</td>\n",
       "    </tr>\n",
       "  </tbody>\n",
       "</table>\n",
       "</div>"
      ],
      "text/plain": [
       "           user_id  item_id  timespent  like  dislike  share  bookmarks  \\\n",
       "100223270   150891   234502          3     0        0      0          0   \n",
       "96622535     72494    56338          2     0        0      0          0   \n",
       "142861749    15685   214345         55     0        0      0          0   \n",
       "117347975    47283   110193          2     0        0      0          0   \n",
       "31563459     92441   166855          4     0        0      0          0   \n",
       "\n",
       "           explicit  lightfm_scores  source_id  duration  \\\n",
       "100223270         0       -3.211420       2787        20   \n",
       "96622535          0       -2.997175       6503        21   \n",
       "142861749         0       -2.978568       4242        55   \n",
       "117347975         0       -5.805327      11846        22   \n",
       "31563459          0       -7.639848       3344        22   \n",
       "\n",
       "                                     item_lightfm_embeddings  \\\n",
       "100223270  [0.17732080817222595, -0.17245712876319885, 0....   \n",
       "96622535   [0.24458101391792297, -0.17852246761322021, 0....   \n",
       "142861749  [0.07179868966341019, -0.05680978670716286, 0....   \n",
       "117347975  [0.2287990152835846, -0.29124483466148376, 0.2...   \n",
       "31563459   [0.20358052849769592, -0.24150842428207397, 0....   \n",
       "\n",
       "           item_lightfm_biases  gender  age  \\\n",
       "100223270            -1.615301       1   33   \n",
       "96622535             -1.828355       2   29   \n",
       "142861749            -1.317698       2   37   \n",
       "117347975            -1.827512       1   26   \n",
       "31563459             -3.370323       1   27   \n",
       "\n",
       "                                     user_lightfm_embeddings  \\\n",
       "100223270  [-0.11184735596179962, -0.04671141132712364, 0...   \n",
       "96622535   [0.0660756379365921, -0.05466609448194504, -0....   \n",
       "142861749  [-0.07110429555177689, 0.07772308588027954, -0...   \n",
       "117347975  [-0.11565996706485748, 0.1368868052959442, -0....   \n",
       "31563459   [-0.15662424266338348, 0.16617316007614136, -0...   \n",
       "\n",
       "           user_lightfm_biases  timespent_rel  \n",
       "100223270            -1.868088       0.150000  \n",
       "96622535             -1.469147       0.095238  \n",
       "142861749            -1.447046       1.000000  \n",
       "117347975            -1.944769       0.090909  \n",
       "31563459             -2.548270       0.181818  "
      ]
     },
     "execution_count": 15,
     "metadata": {},
     "output_type": "execute_result"
    }
   ],
   "source": [
    "train_df.head()"
   ]
  },
  {
   "cell_type": "code",
   "execution_count": 8,
   "metadata": {},
   "outputs": [],
   "source": [
    "columns = [\n",
    "    \"user_id\",\n",
    "    \"item_id\",\n",
    "    \"source_id\",\n",
    "    \"duration\",\n",
    "    \"gender\",\n",
    "    \"age\",\n",
    "    \"lightfm_scores\",\n",
    "]\n",
    "target = \"explicit\""
   ]
  },
  {
   "cell_type": "code",
   "execution_count": 16,
   "metadata": {},
   "outputs": [],
   "source": [
    "train_df = train_df.sort_values(by=\"user_id\", axis=0)"
   ]
  },
  {
   "cell_type": "code",
   "execution_count": 17,
   "metadata": {},
   "outputs": [],
   "source": [
    "val_df = val_df.sort_values(by=\"user_id\", axis=0)"
   ]
  },
  {
   "cell_type": "code",
   "execution_count": 16,
   "metadata": {},
   "outputs": [],
   "source": [
    "train_pool = Pool(\n",
    "    data=train_df[columns].values,\n",
    "    label=train_df[target].values,\n",
    "    group_id=train_df[\"user_id\"].values.tolist()\n",
    ")"
   ]
  },
  {
   "cell_type": "code",
   "execution_count": 17,
   "metadata": {},
   "outputs": [],
   "source": [
    "val_pool = Pool(\n",
    "    data=val_df[columns].values,\n",
    "    label=val_df[target].values,\n",
    "    group_id=val_df[\"user_id\"].values.tolist(),\n",
    ")"
   ]
  },
  {
   "cell_type": "code",
   "execution_count": 19,
   "metadata": {},
   "outputs": [
    {
     "data": {
      "text/plain": [
       "0"
      ]
     },
     "execution_count": 19,
     "metadata": {},
     "output_type": "execute_result"
    }
   ],
   "source": [
    "del train_df, val_df, user_item_data\n",
    "gc.collect()"
   ]
  },
  {
   "cell_type": "code",
   "execution_count": 18,
   "metadata": {},
   "outputs": [],
   "source": [
    "default_parameters = {\n",
    "    \"iterations\": 2000,\n",
    "    \"custom_metric\": [\"NDCG\", \"PFound\", \"AverageGain:top=10\"],\n",
    "    \"verbose\": True,\n",
    "    \"random_seed\": 0,\n",
    "}\n",
    "\n",
    "parameters = {}"
   ]
  },
  {
   "cell_type": "code",
   "execution_count": 19,
   "metadata": {},
   "outputs": [],
   "source": [
    "def fit_model(\n",
    "    loss_function, additional_params=None, train_pool=train_pool, test_pool=val_pool\n",
    "):\n",
    "    parameters = deepcopy(default_parameters)\n",
    "    parameters[\"loss_function\"] = loss_function\n",
    "    parameters[\"train_dir\"] = loss_function\n",
    "\n",
    "    if additional_params is not None:\n",
    "        parameters.update(additional_params)\n",
    "\n",
    "    model = CatBoostRanker(**parameters)\n",
    "    model.fit(train_pool, eval_set=test_pool, plot=True)\n",
    "\n",
    "    return model"
   ]
  },
  {
   "cell_type": "markdown",
   "metadata": {},
   "source": [
    "##### catboost inference"
   ]
  },
  {
   "cell_type": "code",
   "execution_count": 11,
   "metadata": {},
   "outputs": [],
   "source": [
    "test_pairs_data[\"lightfm_scores\"] = test_lightfm_scores.tolist()"
   ]
  },
  {
   "cell_type": "code",
   "execution_count": 12,
   "metadata": {},
   "outputs": [],
   "source": [
    "item_meta_data = item_meta_data.rename({\"embeddings\": \"video_embeddings\"}, axis=1)"
   ]
  },
  {
   "cell_type": "code",
   "execution_count": null,
   "metadata": {},
   "outputs": [],
   "source": [
    "# np.uint8 -> np.int16 cast to allow subtraction\n",
    "user_item_data[user_item_data.dtypes[user_item_data.dtypes == np.uint8].index] = (\n",
    "    user_item_data[\n",
    "        user_item_data.dtypes[user_item_data.dtypes == np.uint8].index\n",
    "    ].astype(np.int16)\n",
    ")\n",
    "# single column for likes and dislikes\n",
    "user_item_data[\"explicit\"] = user_item_data.like - user_item_data.dislike"
   ]
  },
  {
   "cell_type": "code",
   "execution_count": 13,
   "metadata": {},
   "outputs": [],
   "source": [
    "test_pairs_data = test_pairs_data.merge(\n",
    "    item_meta_data.drop(columns=\"video_embeddings\"), on=\"item_id\", how=\"left\"\n",
    ")"
   ]
  },
  {
   "cell_type": "code",
   "execution_count": 14,
   "metadata": {},
   "outputs": [],
   "source": [
    "test_pairs_data = test_pairs_data.merge(user_meta_data, on=\"user_id\", how=\"left\")"
   ]
  },
  {
   "cell_type": "code",
   "execution_count": null,
   "metadata": {},
   "outputs": [],
   "source": [
    "user_item_data[\"timespent_rel\"] = (\n",
    "    user_item_data[\"timespent\"] / user_item_data[\"duration\"]\n",
    ")"
   ]
  },
  {
   "cell_type": "code",
   "execution_count": 4,
   "metadata": {},
   "outputs": [
    {
     "data": {
      "text/plain": [
       "<catboost.core.CatBoostRanker at 0x7fe3a5bd9150>"
      ]
     },
     "execution_count": 4,
     "metadata": {},
     "output_type": "execute_result"
    }
   ],
   "source": [
    "model = CatBoostRanker()\n",
    "model.load_model('ranker')"
   ]
  },
  {
   "cell_type": "code",
   "execution_count": 18,
   "metadata": {},
   "outputs": [],
   "source": [
    "val_pool = Pool(\n",
    "    data=test_pairs_data[columns].values,\n",
    "    group_id=test_pairs_data[\"user_id\"].values.tolist(),\n",
    ")"
   ]
  },
  {
   "cell_type": "code",
   "execution_count": 19,
   "metadata": {},
   "outputs": [],
   "source": [
    "preds = model.predict(val_pool)"
   ]
  },
  {
   "cell_type": "code",
   "execution_count": 20,
   "metadata": {},
   "outputs": [
    {
     "data": {
      "text/plain": [
       "(1655120,)"
      ]
     },
     "execution_count": 20,
     "metadata": {},
     "output_type": "execute_result"
    }
   ],
   "source": [
    "preds.shape"
   ]
  },
  {
   "cell_type": "code",
   "execution_count": 21,
   "metadata": {},
   "outputs": [
    {
     "data": {
      "text/plain": [
       "array([ 0.25881262,  0.36498226,  0.36260786, ..., -0.14306244,\n",
       "       -0.16803205, -0.12773313])"
      ]
     },
     "execution_count": 21,
     "metadata": {},
     "output_type": "execute_result"
    }
   ],
   "source": [
    "preds"
   ]
  },
  {
   "cell_type": "code",
   "execution_count": 25,
   "metadata": {},
   "outputs": [
    {
     "data": {
      "text/plain": [
       "array(None, dtype=object)"
      ]
     },
     "execution_count": 25,
     "metadata": {},
     "output_type": "execute_result"
    }
   ],
   "source": [
    "model.feature_importances_"
   ]
  },
  {
   "cell_type": "code",
   "execution_count": 24,
   "metadata": {},
   "outputs": [
    {
     "name": "stderr",
     "output_type": "stream",
     "text": [
      "100%|██████████| 183383/183383 [01:05<00:00, 2781.83it/s]\n"
     ]
    },
    {
     "data": {
      "text/plain": [
       "0.6792581303073152"
      ]
     },
     "execution_count": 24,
     "metadata": {},
     "output_type": "execute_result"
    }
   ],
   "source": [
    "evaluate(user_id=val_df.user_id.values,\n",
    "         target=val_df.explicit.values,\n",
    "         score=preds)"
   ]
  },
  {
   "cell_type": "code",
   "execution_count": null,
   "metadata": {},
   "outputs": [],
   "source": []
  },
  {
   "cell_type": "code",
   "execution_count": null,
   "metadata": {},
   "outputs": [],
   "source": [
    "test_lightfm_score = model.predict(test_pairs_data.user_id.values,\n",
    "                                   test_pairs_data.item_id.values)"
   ]
  },
  {
   "cell_type": "code",
   "execution_count": 23,
   "metadata": {},
   "outputs": [],
   "source": [
    "test_pairs_data[\"predict\"] = preds\n",
    "test_pairs_data.to_csv(\"./submission.csv\",index=False)"
   ]
  }
 ],
 "metadata": {
  "kernelspec": {
   "display_name": "vk_env",
   "language": "python",
   "name": "python3"
  },
  "language_info": {
   "codemirror_mode": {
    "name": "ipython",
    "version": 3
   },
   "file_extension": ".py",
   "mimetype": "text/x-python",
   "name": "python",
   "nbconvert_exporter": "python",
   "pygments_lexer": "ipython3",
   "version": "3.10.12"
  }
 },
 "nbformat": 4,
 "nbformat_minor": 2
}
