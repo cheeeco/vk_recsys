{
 "cells": [
  {
   "cell_type": "markdown",
   "metadata": {},
   "source": [
    "##### import libs"
   ]
  },
  {
   "cell_type": "code",
   "execution_count": 1,
   "metadata": {},
   "outputs": [],
   "source": [
    "from tqdm import tqdm\n",
    "import numpy as np\n",
    "import pandas as pd\n",
    "from copy import deepcopy\n",
    "from catboost import CatBoostClassifier\n",
    "from sklearn.model_selection import train_test_split\n",
    "\n",
    "from utils import load_data, evaluate, plot_feature_importances, train_test_split_wise"
   ]
  },
  {
   "cell_type": "markdown",
   "metadata": {},
   "source": [
    "##### load data"
   ]
  },
  {
   "cell_type": "code",
   "execution_count": 2,
   "metadata": {},
   "outputs": [],
   "source": [
    "user_item_data, user_meta_data, item_meta_data, test_pairs_data = load_data()"
   ]
  },
  {
   "cell_type": "code",
   "execution_count": 3,
   "metadata": {},
   "outputs": [],
   "source": [
    "user_item_data_w_group_features = pd.read_parquet(\"data/user_item_data_w_group_features.parquet\")\n",
    "test_pairs_data_w_group_features = pd.read_parquet(\"data/test_pairs_data_w_group_features.parquet\")"
   ]
  },
  {
   "cell_type": "code",
   "execution_count": 4,
   "metadata": {},
   "outputs": [],
   "source": [
    "als_scores = np.load(\"dumps/ials_scores.npy\")\n",
    "test_als_scores = np.load(\"dumps/test_ials_scores.npy\")\n",
    "\n",
    "lightfm_scores = np.load(\"dumps/lightfm_scores.npy\")\n",
    "test_lightfm_scores = np.load(\"dumps/test_lightfm_scores.npy\")"
   ]
  },
  {
   "cell_type": "code",
   "execution_count": 19,
   "metadata": {},
   "outputs": [],
   "source": [
    "user_item_data_w_group_features[\"als_scores\"] = als_scores.tolist()\n",
    "test_pairs_data_w_group_features[\"als_scores\"] = test_als_scores.tolist()\n",
    "\n",
    "user_item_data_w_group_features[\"lightfm_scores\"] = lightfm_scores.tolist()\n",
    "test_pairs_data_w_group_features[\"lightfm_scores\"] = test_lightfm_scores.tolist()"
   ]
  },
  {
   "cell_type": "code",
   "execution_count": 6,
   "metadata": {},
   "outputs": [],
   "source": [
    "user_item_data_w_group_features.lightfm_scores = user_item_data_w_group_features.lightfm_scores.astype(np.float16)\n",
    "test_pairs_data_w_group_features.lightfm_scores = test_pairs_data_w_group_features.lightfm_scores.astype(np.float16)"
   ]
  },
  {
   "cell_type": "code",
   "execution_count": 7,
   "metadata": {},
   "outputs": [],
   "source": [
    "columns = list(set(user_item_data_w_group_features.columns.to_list()) - set([\n",
    "    'bookmarks',\n",
    "    'dislike',\n",
    "    'explicit',\n",
    "    'like',\n",
    "    'share',\n",
    "    'timespent',\n",
    "]))"
   ]
  },
  {
   "cell_type": "code",
   "execution_count": 8,
   "metadata": {},
   "outputs": [
    {
     "data": {
      "text/plain": [
       "False"
      ]
     },
     "execution_count": 8,
     "metadata": {},
     "output_type": "execute_result"
    }
   ],
   "source": [
    "set(test_pairs_data_w_group_features.columns) == set(columns)"
   ]
  },
  {
   "cell_type": "code",
   "execution_count": 9,
   "metadata": {},
   "outputs": [],
   "source": [
    "target = \"like\""
   ]
  },
  {
   "cell_type": "code",
   "execution_count": 10,
   "metadata": {},
   "outputs": [],
   "source": [
    "train_df, val_df = train_test_split(\n",
    "    user_item_data_w_group_features[columns+[target]],\n",
    "    test_size=0.15,\n",
    "    random_state=42,\n",
    "    shuffle=False,\n",
    ")"
   ]
  },
  {
   "cell_type": "code",
   "execution_count": 11,
   "metadata": {},
   "outputs": [],
   "source": [
    "train_df, val_df = train_test_split_wise(\n",
    "    user_item_data_w_group_features[columns+[target]],\n",
    "    test_size=0.15,\n",
    "    random_state=42,\n",
    "    shuffle=False,\n",
    ")"
   ]
  },
  {
   "cell_type": "code",
   "execution_count": 12,
   "metadata": {},
   "outputs": [],
   "source": [
    "def compute_lag(\n",
    "        train_df,\n",
    "        val_df,\n",
    "        group_col,\n",
    "        target_col,\n",
    "        lag,\n",
    "        ):\n",
    "    train_df = train_df.copy()\n",
    "    val_df = val_df.copy()\n",
    "    grouped = train_df.groupby(group_col, as_index=False)\n",
    "    lag_col_name = f\"{target_col}_lag_{lag}\"\n",
    "    train_df[lag_col_name] = grouped[target_col].shift(lag).fillna(0).astype(np.int16)\n",
    "    grouped = train_df.groupby(group_col, as_index=False)\n",
    "    last_lag_by_user_id = grouped[lag_col_name].agg(\"last\")\n",
    "    val_df = val_df.merge(\n",
    "        right=last_lag_by_user_id,\n",
    "        on=group_col,\n",
    "        how=\"left\"\n",
    "    )\n",
    "    return train_df, val_df"
   ]
  },
  {
   "cell_type": "code",
   "execution_count": 13,
   "metadata": {},
   "outputs": [],
   "source": [
    "train_df, val_df = compute_lag(\n",
    "    train_df=train_df,\n",
    "    val_df=val_df,\n",
    "    group_col=\"user_id\",\n",
    "    target_col=\"like\",\n",
    "    lag=1\n",
    ")"
   ]
  },
  {
   "cell_type": "markdown",
   "metadata": {},
   "source": [
    "##### catboost"
   ]
  },
  {
   "cell_type": "code",
   "execution_count": 11,
   "metadata": {},
   "outputs": [],
   "source": [
    "model = CatBoostClassifier(\n",
    "    verbose=True,\n",
    "    iterations=100,\n",
    "    auto_class_weights=\"SqrtBalanced\",\n",
    "    # cat_features=[\"user_id\", \"source_id\", \"item_id\"]\n",
    ")"
   ]
  },
  {
   "cell_type": "code",
   "execution_count": 13,
   "metadata": {},
   "outputs": [
    {
     "name": "stdout",
     "output_type": "stream",
     "text": [
      "Learning rate set to 0.5\n",
      "0:\tlearn: 0.2902826\ttotal: 669ms\tremaining: 1m 6s\n",
      "1:\tlearn: 0.2466375\ttotal: 1.29s\tremaining: 1m 3s\n",
      "2:\tlearn: 0.2377287\ttotal: 1.84s\tremaining: 59.5s\n",
      "3:\tlearn: 0.2331349\ttotal: 2.46s\tremaining: 59s\n",
      "4:\tlearn: 0.2313798\ttotal: 3.01s\tremaining: 57.2s\n",
      "5:\tlearn: 0.2287900\ttotal: 3.67s\tremaining: 57.5s\n",
      "6:\tlearn: 0.2276790\ttotal: 4.33s\tremaining: 57.5s\n",
      "7:\tlearn: 0.2267039\ttotal: 4.94s\tremaining: 56.9s\n",
      "8:\tlearn: 0.2262440\ttotal: 5.5s\tremaining: 55.6s\n",
      "9:\tlearn: 0.2258644\ttotal: 6s\tremaining: 54s\n",
      "10:\tlearn: 0.2251140\ttotal: 6.56s\tremaining: 53.1s\n",
      "11:\tlearn: 0.2239062\ttotal: 7.17s\tremaining: 52.6s\n",
      "12:\tlearn: 0.2235472\ttotal: 7.75s\tremaining: 51.9s\n",
      "13:\tlearn: 0.2233047\ttotal: 8.39s\tremaining: 51.6s\n",
      "14:\tlearn: 0.2229934\ttotal: 9.01s\tremaining: 51s\n",
      "15:\tlearn: 0.2226849\ttotal: 9.68s\tremaining: 50.8s\n",
      "16:\tlearn: 0.2224724\ttotal: 10.2s\tremaining: 49.9s\n",
      "17:\tlearn: 0.2220744\ttotal: 10.8s\tremaining: 49.2s\n",
      "18:\tlearn: 0.2219042\ttotal: 11.3s\tremaining: 48.4s\n",
      "19:\tlearn: 0.2215401\ttotal: 12s\tremaining: 47.8s\n",
      "20:\tlearn: 0.2214170\ttotal: 12.5s\tremaining: 47.1s\n",
      "21:\tlearn: 0.2212241\ttotal: 13.1s\tremaining: 46.5s\n",
      "22:\tlearn: 0.2210281\ttotal: 13.8s\tremaining: 46.1s\n",
      "23:\tlearn: 0.2207153\ttotal: 14.4s\tremaining: 45.5s\n",
      "24:\tlearn: 0.2205466\ttotal: 15s\tremaining: 45s\n",
      "25:\tlearn: 0.2204220\ttotal: 15.5s\tremaining: 44.2s\n",
      "26:\tlearn: 0.2203372\ttotal: 16s\tremaining: 43.4s\n",
      "27:\tlearn: 0.2202184\ttotal: 16.6s\tremaining: 42.6s\n",
      "28:\tlearn: 0.2201295\ttotal: 17.1s\tremaining: 42s\n",
      "29:\tlearn: 0.2200484\ttotal: 17.7s\tremaining: 41.3s\n",
      "30:\tlearn: 0.2199536\ttotal: 18.3s\tremaining: 40.6s\n",
      "31:\tlearn: 0.2198021\ttotal: 18.9s\tremaining: 40.1s\n",
      "32:\tlearn: 0.2196142\ttotal: 19.5s\tremaining: 39.6s\n",
      "33:\tlearn: 0.2194880\ttotal: 20.1s\tremaining: 39s\n",
      "34:\tlearn: 0.2193851\ttotal: 20.6s\tremaining: 38.2s\n",
      "35:\tlearn: 0.2192477\ttotal: 21.2s\tremaining: 37.8s\n",
      "36:\tlearn: 0.2189666\ttotal: 21.8s\tremaining: 37.1s\n",
      "37:\tlearn: 0.2188391\ttotal: 22.3s\tremaining: 36.5s\n",
      "38:\tlearn: 0.2187958\ttotal: 22.8s\tremaining: 35.7s\n",
      "39:\tlearn: 0.2187152\ttotal: 23.4s\tremaining: 35.2s\n",
      "40:\tlearn: 0.2186787\ttotal: 23.9s\tremaining: 34.4s\n",
      "41:\tlearn: 0.2186129\ttotal: 24.5s\tremaining: 33.8s\n",
      "42:\tlearn: 0.2185729\ttotal: 25.1s\tremaining: 33.2s\n",
      "43:\tlearn: 0.2185212\ttotal: 25.6s\tremaining: 32.6s\n",
      "44:\tlearn: 0.2183095\ttotal: 26.3s\tremaining: 32.2s\n",
      "45:\tlearn: 0.2181980\ttotal: 26.9s\tremaining: 31.6s\n",
      "46:\tlearn: 0.2181291\ttotal: 27.5s\tremaining: 31s\n",
      "47:\tlearn: 0.2180741\ttotal: 28s\tremaining: 30.3s\n",
      "48:\tlearn: 0.2180078\ttotal: 28.5s\tremaining: 29.7s\n",
      "49:\tlearn: 0.2179667\ttotal: 29s\tremaining: 29s\n",
      "50:\tlearn: 0.2178968\ttotal: 29.6s\tremaining: 28.5s\n",
      "51:\tlearn: 0.2178567\ttotal: 30.2s\tremaining: 27.9s\n",
      "52:\tlearn: 0.2178142\ttotal: 30.9s\tremaining: 27.4s\n",
      "53:\tlearn: 0.2177788\ttotal: 31.4s\tremaining: 26.8s\n",
      "54:\tlearn: 0.2177337\ttotal: 32s\tremaining: 26.1s\n",
      "55:\tlearn: 0.2176499\ttotal: 32.6s\tremaining: 25.6s\n",
      "56:\tlearn: 0.2176174\ttotal: 33.2s\tremaining: 25.1s\n",
      "57:\tlearn: 0.2175563\ttotal: 33.9s\tremaining: 24.5s\n",
      "58:\tlearn: 0.2175254\ttotal: 34.4s\tremaining: 23.9s\n",
      "59:\tlearn: 0.2175028\ttotal: 34.9s\tremaining: 23.3s\n",
      "60:\tlearn: 0.2174655\ttotal: 35.4s\tremaining: 22.6s\n",
      "61:\tlearn: 0.2173709\ttotal: 36s\tremaining: 22.1s\n",
      "62:\tlearn: 0.2173363\ttotal: 36.6s\tremaining: 21.5s\n",
      "63:\tlearn: 0.2172645\ttotal: 37.2s\tremaining: 20.9s\n",
      "64:\tlearn: 0.2172153\ttotal: 37.8s\tremaining: 20.4s\n",
      "65:\tlearn: 0.2171640\ttotal: 38.4s\tremaining: 19.8s\n",
      "66:\tlearn: 0.2171018\ttotal: 39s\tremaining: 19.2s\n",
      "67:\tlearn: 0.2170707\ttotal: 39.6s\tremaining: 18.6s\n",
      "68:\tlearn: 0.2170190\ttotal: 40.2s\tremaining: 18s\n",
      "69:\tlearn: 0.2169701\ttotal: 40.7s\tremaining: 17.4s\n",
      "70:\tlearn: 0.2169418\ttotal: 41.2s\tremaining: 16.8s\n",
      "71:\tlearn: 0.2169177\ttotal: 41.7s\tremaining: 16.2s\n",
      "72:\tlearn: 0.2168955\ttotal: 42.3s\tremaining: 15.6s\n",
      "73:\tlearn: 0.2168677\ttotal: 42.9s\tremaining: 15.1s\n",
      "74:\tlearn: 0.2168025\ttotal: 43.5s\tremaining: 14.5s\n",
      "75:\tlearn: 0.2167630\ttotal: 44.2s\tremaining: 13.9s\n",
      "76:\tlearn: 0.2167406\ttotal: 44.8s\tremaining: 13.4s\n",
      "77:\tlearn: 0.2166645\ttotal: 45.5s\tremaining: 12.8s\n",
      "78:\tlearn: 0.2166325\ttotal: 46s\tremaining: 12.2s\n",
      "79:\tlearn: 0.2165637\ttotal: 46.7s\tremaining: 11.7s\n",
      "80:\tlearn: 0.2165428\ttotal: 47.3s\tremaining: 11.1s\n",
      "81:\tlearn: 0.2165084\ttotal: 47.8s\tremaining: 10.5s\n",
      "82:\tlearn: 0.2164802\ttotal: 48.4s\tremaining: 9.92s\n",
      "83:\tlearn: 0.2164295\ttotal: 49.1s\tremaining: 9.34s\n",
      "84:\tlearn: 0.2164024\ttotal: 49.6s\tremaining: 8.75s\n",
      "85:\tlearn: 0.2163835\ttotal: 50.2s\tremaining: 8.17s\n",
      "86:\tlearn: 0.2163560\ttotal: 50.8s\tremaining: 7.6s\n",
      "87:\tlearn: 0.2163241\ttotal: 51.5s\tremaining: 7.02s\n",
      "88:\tlearn: 0.2162969\ttotal: 52s\tremaining: 6.43s\n",
      "89:\tlearn: 0.2162699\ttotal: 52.6s\tremaining: 5.84s\n",
      "90:\tlearn: 0.2162426\ttotal: 53.1s\tremaining: 5.25s\n",
      "91:\tlearn: 0.2162276\ttotal: 53.7s\tremaining: 4.67s\n",
      "92:\tlearn: 0.2161536\ttotal: 54.3s\tremaining: 4.09s\n",
      "93:\tlearn: 0.2161352\ttotal: 54.8s\tremaining: 3.5s\n",
      "94:\tlearn: 0.2160643\ttotal: 55.5s\tremaining: 2.92s\n",
      "95:\tlearn: 0.2160375\ttotal: 56.1s\tremaining: 2.33s\n",
      "96:\tlearn: 0.2159965\ttotal: 56.7s\tremaining: 1.75s\n",
      "97:\tlearn: 0.2159801\ttotal: 57.3s\tremaining: 1.17s\n",
      "98:\tlearn: 0.2159622\ttotal: 57.9s\tremaining: 584ms\n",
      "99:\tlearn: 0.2159403\ttotal: 58.5s\tremaining: 0us\n"
     ]
    },
    {
     "data": {
      "text/plain": [
       "<catboost.core.CatBoostClassifier at 0x7fe956f13550>"
      ]
     },
     "execution_count": 13,
     "metadata": {},
     "output_type": "execute_result"
    }
   ],
   "source": [
    "model.fit(train_df[-int(10e6):][columns],\n",
    "          train_df[-int(10e6):][target])"
   ]
  },
  {
   "cell_type": "code",
   "execution_count": 14,
   "metadata": {},
   "outputs": [
    {
     "data": {
      "text/plain": [
       "array([0, 1])"
      ]
     },
     "execution_count": 14,
     "metadata": {},
     "output_type": "execute_result"
    }
   ],
   "source": [
    "model.classes_"
   ]
  },
  {
   "cell_type": "code",
   "execution_count": 26,
   "metadata": {},
   "outputs": [
    {
     "data": {
      "image/png": "[encoded data removed]",
      "text/plain": [
       "<Figure size 1000x600 with 1 Axes>"
      ]
     },
     "metadata": {},
     "output_type": "display_data"
    }
   ],
   "source": [
    "plot_feature_importances(model, graphic=True)"
   ]
  },
  {
   "cell_type": "code",
   "execution_count": 16,
   "metadata": {},
   "outputs": [],
   "source": [
    "catboost_proba = model.predict_proba(val_df[columns])"
   ]
  },
  {
   "cell_type": "code",
   "execution_count": 17,
   "metadata": {},
   "outputs": [
    {
     "name": "stderr",
     "output_type": "stream",
     "text": [
      "100%|██████████| 181721/181721 [00:49<00:00, 3649.03it/s]\n"
     ]
    },
    {
     "data": {
      "text/plain": [
       "0.7905575389502159"
      ]
     },
     "execution_count": 17,
     "metadata": {},
     "output_type": "execute_result"
    }
   ],
   "source": [
    "evaluate(val_df.user_id.values,\n",
    "         val_df[target].values,\n",
    "         catboost_proba[:,1])"
   ]
  },
  {
   "cell_type": "code",
   "execution_count": null,
   "metadata": {},
   "outputs": [
    {
     "name": "stderr",
     "output_type": "stream",
     "text": [
      "  0%|          | 0/49842 [00:00<?, ?it/s]"
     ]
    },
    {
     "name": "stderr",
     "output_type": "stream",
     "text": [
      "100%|██████████| 49842/49842 [00:04<00:00, 10402.08it/s]\n"
     ]
    },
    {
     "data": {
      "text/plain": [
       "0.6286449019964592"
      ]
     },
     "metadata": {},
     "output_type": "display_data"
    }
   ],
   "source": [
    "evaluate(val_df.user_id.values,\n",
    "         val_df[target].values,\n",
    "         catboost_proba[:,1])"
   ]
  },
  {
   "cell_type": "code",
   "execution_count": null,
   "metadata": {},
   "outputs": [
    {
     "name": "stderr",
     "output_type": "stream",
     "text": [
      "100%|██████████| 181721/181721 [00:49<00:00, 3672.56it/s]\n"
     ]
    },
    {
     "data": {
      "text/plain": [
       "0.6468600584223315"
      ]
     },
     "metadata": {},
     "output_type": "display_data"
    }
   ],
   "source": [
    "evaluate(val_df.user_id.values,\n",
    "         val_df[target].values,\n",
    "         catboost_proba[:,1])"
   ]
  },
  {
   "cell_type": "markdown",
   "metadata": {},
   "source": [
    "### submission"
   ]
  },
  {
   "cell_type": "code",
   "execution_count": 12,
   "metadata": {},
   "outputs": [],
   "source": [
    "train_df, val_df = compute_lag(\n",
    "    train_df=user_item_data_w_group_features,\n",
    "    val_df=test_pairs_data_w_group_features,\n",
    "    group_col=\"user_id\",\n",
    "    target_col=\"like\",\n",
    "    lag=1\n",
    ")"
   ]
  },
  {
   "cell_type": "code",
   "execution_count": 22,
   "metadata": {},
   "outputs": [],
   "source": [
    "model = CatBoostClassifier(\n",
    "    verbose=False,\n",
    "    iterations=100,\n",
    "    auto_class_weights=\"SqrtBalanced\",\n",
    "    # cat_features=[\"user_id\", \"source_id\", \"item_id\"]\n",
    ")"
   ]
  },
  {
   "cell_type": "code",
   "execution_count": 23,
   "metadata": {},
   "outputs": [
    {
     "data": {
      "text/plain": [
       "<catboost.core.CatBoostClassifier at 0x7fe8c9867790>"
      ]
     },
     "execution_count": 23,
     "metadata": {},
     "output_type": "execute_result"
    }
   ],
   "source": [
    "model.fit(user_item_data_w_group_features[-int(10e6):][columns],\n",
    "          user_item_data_w_group_features[-int(10e6):][target])"
   ]
  },
  {
   "cell_type": "code",
   "execution_count": null,
   "metadata": {},
   "outputs": [
    {
     "data": {
      "text/plain": [
       "<catboost.core.CatBoostClassifier at 0x7fd8d36b1f60>"
      ]
     },
     "metadata": {},
     "output_type": "display_data"
    }
   ],
   "source": [
    "model.fit(train_df[-int(10e6):][columns+[\"like_lag_1\"]],\n",
    "          train_df[-int(10e6):][target])"
   ]
  },
  {
   "cell_type": "code",
   "execution_count": 20,
   "metadata": {},
   "outputs": [],
   "source": [
    "test_proba = model.predict_proba(val_df[columns+[\"like_lag_1\"]])"
   ]
  },
  {
   "cell_type": "code",
   "execution_count": 24,
   "metadata": {},
   "outputs": [],
   "source": [
    "test_proba = model.predict_proba(test_pairs_data_w_group_features[columns])"
   ]
  },
  {
   "cell_type": "code",
   "execution_count": 25,
   "metadata": {},
   "outputs": [],
   "source": [
    "test_pairs_data[\"predict\"] = test_proba[:,1]\n",
    "test_pairs_data.to_csv(\"./cbc_group_fs_lfm_als_submission.csv\", index=False)"
   ]
  }
 ],
 "metadata": {
  "kernelspec": {
   "display_name": "vk_env",
   "language": "python",
   "name": "python3"
  },
  "language_info": {
   "codemirror_mode": {
    "name": "ipython",
    "version": 3
   },
   "file_extension": ".py",
   "mimetype": "text/x-python",
   "name": "python",
   "nbconvert_exporter": "python",
   "pygments_lexer": "ipython3",
   "version": "3.10.12"
  }
 },
 "nbformat": 4,
 "nbformat_minor": 2
}
