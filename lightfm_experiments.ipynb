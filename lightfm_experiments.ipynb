{
 "cells": [
  {
   "cell_type": "markdown",
   "metadata": {},
   "source": [
    "##### import libs"
   ]
  },
  {
   "cell_type": "code",
   "execution_count": 1,
   "metadata": {},
   "outputs": [],
   "source": [
    "import numpy as np\n",
    "import lightfm\n",
    "from scipy.sparse import coo_matrix\n",
    "from sklearn.model_selection import train_test_split"
   ]
  },
  {
   "cell_type": "code",
   "execution_count": 2,
   "metadata": {},
   "outputs": [],
   "source": [
    "from utils import evaluate, load_data"
   ]
  },
  {
   "cell_type": "markdown",
   "metadata": {},
   "source": [
    "##### read data"
   ]
  },
  {
   "cell_type": "code",
   "execution_count": 3,
   "metadata": {},
   "outputs": [],
   "source": [
    "user_item_data, user_meta_data, item_meta_data, test_pairs_data = load_data()"
   ]
  },
  {
   "cell_type": "markdown",
   "metadata": {},
   "source": [
    "##### split data"
   ]
  },
  {
   "cell_type": "code",
   "execution_count": 4,
   "metadata": {},
   "outputs": [],
   "source": [
    "ui_train, ui_val = train_test_split(user_item_data,\n",
    "                                    test_size=0.15,\n",
    "                                    random_state=42,\n",
    "                                    shuffle=False)"
   ]
  },
  {
   "cell_type": "code",
   "execution_count": 5,
   "metadata": {},
   "outputs": [],
   "source": [
    "u_train = ui_train.user_id\n",
    "i_train = ui_train.item_id\n",
    "likes_train = ui_train.like\n",
    "dislikes_train = ui_train.dislike\n",
    "\n",
    "u_val = ui_val.user_id\n",
    "i_val = ui_val.item_id\n",
    "likes_val = ui_val.like\n",
    "dislikes_val = ui_val.dislike"
   ]
  },
  {
   "cell_type": "code",
   "execution_count": 6,
   "metadata": {},
   "outputs": [],
   "source": [
    "sparse_train = coo_matrix((likes_train-dislikes_train, (u_train, i_train)))\n",
    "sparse_val = coo_matrix((likes_val-dislikes_val, (u_val, i_val)))"
   ]
  },
  {
   "cell_type": "code",
   "execution_count": 7,
   "metadata": {},
   "outputs": [],
   "source": [
    "sparse_train = coo_matrix((likes_train, (u_train, i_train)))\n",
    "sparse_val = coo_matrix((likes_val, (u_val, i_val)))"
   ]
  },
  {
   "cell_type": "code",
   "execution_count": 8,
   "metadata": {},
   "outputs": [],
   "source": [
    "sparse_train = coo_matrix((dislikes_train, (u_train, i_train)))\n",
    "sparse_val = coo_matrix((dislikes_val, (u_val, i_val)))"
   ]
  },
  {
   "cell_type": "markdown",
   "metadata": {},
   "source": [
    "##### lightfm model"
   ]
  },
  {
   "cell_type": "code",
   "execution_count": 18,
   "metadata": {},
   "outputs": [
    {
     "name": "stderr",
     "output_type": "stream",
     "text": [
      "Epoch: 100%|██████████| 5/5 [01:44<00:00, 20.92s/it]\n",
      "100%|██████████| 181721/181721 [00:53<00:00, 3411.23it/s]\n"
     ]
    },
    {
     "name": "stdout",
     "output_type": "stream",
     "text": [
      "ratio=1, roc_auc=0.5960142833386671\n"
     ]
    },
    {
     "name": "stderr",
     "output_type": "stream",
     "text": [
      "Epoch: 100%|██████████| 5/5 [01:18<00:00, 15.75s/it]\n",
      "100%|██████████| 181721/181721 [00:52<00:00, 3457.65it/s]\n"
     ]
    },
    {
     "name": "stdout",
     "output_type": "stream",
     "text": [
      "ratio=0.8, roc_auc=0.5909390650523213\n"
     ]
    },
    {
     "name": "stderr",
     "output_type": "stream",
     "text": [
      "Epoch: 100%|██████████| 5/5 [00:58<00:00, 11.63s/it]\n",
      "100%|██████████| 181721/181721 [00:51<00:00, 3500.49it/s]\n"
     ]
    },
    {
     "name": "stdout",
     "output_type": "stream",
     "text": [
      "ratio=0.6, roc_auc=0.5854972446478661\n"
     ]
    },
    {
     "name": "stderr",
     "output_type": "stream",
     "text": [
      "Epoch: 100%|██████████| 5/5 [00:37<00:00,  7.50s/it]\n",
      "100%|██████████| 181721/181721 [00:52<00:00, 3436.69it/s]\n"
     ]
    },
    {
     "name": "stdout",
     "output_type": "stream",
     "text": [
      "ratio=0.4, roc_auc=0.5787914872362939\n"
     ]
    },
    {
     "name": "stderr",
     "output_type": "stream",
     "text": [
      "Epoch: 100%|██████████| 5/5 [00:18<00:00,  3.67s/it]\n",
      "100%|██████████| 181721/181721 [00:53<00:00, 3419.58it/s]"
     ]
    },
    {
     "name": "stdout",
     "output_type": "stream",
     "text": [
      "ratio=0.2, roc_auc=0.5739941961337525\n"
     ]
    },
    {
     "name": "stderr",
     "output_type": "stream",
     "text": [
      "\n"
     ]
    }
   ],
   "source": [
    "for ratio in [1, 0.8, 0.6, 0.4, 0.2]:\n",
    "    sparse_train = coo_matrix((likes_train.values[-int(len(likes_train)*ratio):],\n",
    "                               (u_train.values[-int(len(likes_train)*ratio):],\n",
    "                                i_train.values[-int(len(likes_train)*ratio):])))\n",
    "    model = lightfm.LightFM(no_components=128,\n",
    "                            loss='bpr',\n",
    "                            random_state=42)\n",
    "    model.fit(\n",
    "        interactions=sparse_train,\n",
    "        epochs=5,\n",
    "        num_threads=4,\n",
    "        verbose=True)\n",
    "    \n",
    "    val_lightfm_score = model.predict(u_val.values, i_val.values)\n",
    "\n",
    "    roc_auc = evaluate(\n",
    "        user_id=ui_val.user_id.values,\n",
    "        target=ui_val.like.values,\n",
    "        score=val_lightfm_score)\n",
    "    \n",
    "    print(f\"{ratio=}, {roc_auc=}\")"
   ]
  },
  {
   "cell_type": "code",
   "execution_count": 19,
   "metadata": {},
   "outputs": [],
   "source": [
    "sparse_train = coo_matrix((np.ones_like(u_train.values), (u_train, i_train)))\n",
    "sparse_val = coo_matrix((np.ones_like(u_val.values), (u_val, i_val)))"
   ]
  },
  {
   "cell_type": "code",
   "execution_count": 20,
   "metadata": {},
   "outputs": [],
   "source": [
    "model = lightfm.LightFM(no_components=128,\n",
    "                        loss=\"bpr\",\n",
    "                        random_state=42)"
   ]
  },
  {
   "cell_type": "code",
   "execution_count": null,
   "metadata": {},
   "outputs": [
    {
     "name": "stderr",
     "output_type": "stream",
     "text": [
      "Epoch: 100%|██████████| 20/20 [51:52<00:00, 155.63s/it]\n"
     ]
    },
    {
     "data": {
      "text/plain": [
       "<lightfm.lightfm.LightFM at 0x7f497a435060>"
      ]
     },
     "execution_count": 21,
     "metadata": {},
     "output_type": "execute_result"
    }
   ],
   "source": [
    "model.fit(interactions=sparse_train,\n",
    "          epochs=20,\n",
    "          num_threads=4,\n",
    "          verbose=True)"
   ]
  },
  {
   "cell_type": "code",
   "execution_count": 22,
   "metadata": {},
   "outputs": [],
   "source": [
    "val_lightfm_score = model.predict(u_val.values, i_val.values)"
   ]
  },
  {
   "cell_type": "code",
   "execution_count": 23,
   "metadata": {},
   "outputs": [],
   "source": [
    "ui_val[\"target\"] = ui_val[\"like\"]# - ui_val[\"dislike\"]\n",
    "ui_val[\"lightfm_score\"] = val_lightfm_score"
   ]
  },
  {
   "cell_type": "code",
   "execution_count": 24,
   "metadata": {},
   "outputs": [
    {
     "name": "stderr",
     "output_type": "stream",
     "text": [
      "100%|██████████| 181721/181721 [00:01<00:00, 175669.59it/s]\n",
      "/home/sokolov/workspace/vk_recsys/vk_env/lib/python3.10/site-packages/numpy/core/fromnumeric.py:3504: RuntimeWarning: Mean of empty slice.\n",
      "  return _methods._mean(a, axis=axis, dtype=dtype,\n",
      "/home/sokolov/workspace/vk_recsys/vk_env/lib/python3.10/site-packages/numpy/core/_methods.py:129: RuntimeWarning: invalid value encountered in scalar divide\n",
      "  ret = ret.dtype.type(ret / rcount)\n"
     ]
    },
    {
     "data": {
      "text/plain": [
       "nan"
      ]
     },
     "execution_count": 24,
     "metadata": {},
     "output_type": "execute_result"
    }
   ],
   "source": [
    "evaluate(user_id=ui_val.user_id.values,\n",
    "         target=np.ones_like(u_val.values),\n",
    "         score=ui_val.lightfm_score.values)"
   ]
  },
  {
   "cell_type": "code",
   "execution_count": 23,
   "metadata": {},
   "outputs": [],
   "source": [
    "train_lightfm_score = model.predict(u_train.values, i_train.values)\n",
    "ui_train[\"target\"] = ui_train[\"like\"]# - ui_val[\"dislike\"]\n",
    "ui_train[\"lightfm_score\"] = train_lightfm_score"
   ]
  },
  {
   "cell_type": "code",
   "execution_count": 24,
   "metadata": {},
   "outputs": [
    {
     "name": "stderr",
     "output_type": "stream",
     "text": [
      "100%|██████████| 183404/183404 [07:28<00:00, 408.97it/s]\n"
     ]
    },
    {
     "data": {
      "text/plain": [
       "0.6966544215822357"
      ]
     },
     "execution_count": 24,
     "metadata": {},
     "output_type": "execute_result"
    }
   ],
   "source": [
    "evaluate(user_id=ui_train.user_id.values,\n",
    "         target=ui_train.target.values,\n",
    "         score=ui_train.lightfm_score.values)"
   ]
  },
  {
   "cell_type": "code",
   "execution_count": 14,
   "metadata": {},
   "outputs": [
    {
     "name": "stderr",
     "output_type": "stream",
     "text": [
      "100%|██████████| 181721/181721 [00:51<00:00, 3542.67it/s]\n"
     ]
    },
    {
     "data": {
      "text/plain": [
       "0.6213206286959302"
      ]
     },
     "execution_count": 14,
     "metadata": {},
     "output_type": "execute_result"
    }
   ],
   "source": [
    "evaluate(user_id=ui_val.user_id.values,\n",
    "         target=ui_val.target.values,\n",
    "         score=ui_val.lightfm_score.values)"
   ]
  },
  {
   "cell_type": "code",
   "execution_count": 12,
   "metadata": {},
   "outputs": [
    {
     "name": "stderr",
     "output_type": "stream",
     "text": [
      "100%|██████████| 181721/181721 [00:52<00:00, 3431.79it/s]\n"
     ]
    },
    {
     "data": {
      "text/plain": [
       "0.620683500908264"
      ]
     },
     "execution_count": 12,
     "metadata": {},
     "output_type": "execute_result"
    }
   ],
   "source": [
    "evaluate(user_id=ui_val.user_id.values,\n",
    "         target=ui_val.target.values,\n",
    "         score=ui_val.lightfm_score.values)"
   ]
  },
  {
   "cell_type": "code",
   "execution_count": null,
   "metadata": {},
   "outputs": [],
   "source": [
    "np.save(\"dumps/user_embeddings.npy\", model.user_embeddings)\n",
    "np.save(\"dumps/item_embeddings.npy\", model.item_embeddings)\n",
    "np.save(\"dumps/user_biases.npy\", model.user_biases)\n",
    "np.save(\"dumps/item_biases.npy\", model.item_biases)"
   ]
  },
  {
   "cell_type": "code",
   "execution_count": 14,
   "metadata": {},
   "outputs": [],
   "source": [
    "user_ids = user_item_data.user_id.values\n",
    "item_ids = user_item_data.item_id.values\n",
    "\n",
    "lightfm_scores = model.predict(user_ids=user_ids,\n",
    "                               item_ids=item_ids)"
   ]
  },
  {
   "cell_type": "code",
   "execution_count": null,
   "metadata": {},
   "outputs": [],
   "source": [
    "np.save(\"dumps/lightfm_scores.npy\", lightfm_scores)"
   ]
  },
  {
   "cell_type": "markdown",
   "metadata": {},
   "source": [
    "##### submission"
   ]
  },
  {
   "cell_type": "code",
   "execution_count": 17,
   "metadata": {},
   "outputs": [],
   "source": [
    "test_lightfm_score = model.predict(test_pairs_data.user_id.values,\n",
    "                                   test_pairs_data.item_id.values)"
   ]
  },
  {
   "cell_type": "code",
   "execution_count": null,
   "metadata": {},
   "outputs": [],
   "source": [
    "np.save(\"dumps/test_lightfm_scores.npy\", test_lightfm_score)"
   ]
  },
  {
   "cell_type": "code",
   "execution_count": 16,
   "metadata": {},
   "outputs": [],
   "source": [
    "test_pairs_data[\"predict\"] = test_lightfm_score\n",
    "test_pairs_data.to_csv(\"./submission.csv\",index=False)"
   ]
  }
 ],
 "metadata": {
  "kernelspec": {
   "display_name": "vk_env",
   "language": "python",
   "name": "python3"
  },
  "language_info": {
   "codemirror_mode": {
    "name": "ipython",
    "version": 3
   },
   "file_extension": ".py",
   "mimetype": "text/x-python",
   "name": "python",
   "nbconvert_exporter": "python",
   "pygments_lexer": "ipython3",
   "version": "3.10.12"
  }
 },
 "nbformat": 4,
 "nbformat_minor": 2
}
