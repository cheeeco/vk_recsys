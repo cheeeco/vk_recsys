{
 "cells": [
  {
   "cell_type": "markdown",
   "metadata": {},
   "source": [
    "##### import libs"
   ]
  },
  {
   "cell_type": "code",
   "execution_count": 20,
   "metadata": {},
   "outputs": [],
   "source": [
    "import numpy as np\n",
    "import pandas as pd\n",
    "import lightfm\n",
    "import matplotlib.pyplot as plt\n",
    "from scipy.sparse import csr_matrix, coo_matrix\n",
    "from sklearn.model_selection import train_test_split"
   ]
  },
  {
   "cell_type": "code",
   "execution_count": 2,
   "metadata": {},
   "outputs": [],
   "source": [
    "from utils import evaluate, load_data"
   ]
  },
  {
   "cell_type": "code",
   "execution_count": 3,
   "metadata": {},
   "outputs": [],
   "source": [
    "pd.set_option('display.max_rows', 100)"
   ]
  },
  {
   "cell_type": "markdown",
   "metadata": {},
   "source": [
    "##### read data"
   ]
  },
  {
   "cell_type": "code",
   "execution_count": 4,
   "metadata": {},
   "outputs": [],
   "source": [
    "user_item_data, user_meta_data, item_meta_data, test_pairs_data = load_data()"
   ]
  },
  {
   "cell_type": "code",
   "execution_count": 6,
   "metadata": {},
   "outputs": [],
   "source": [
    "user_item_data = user_item_data.merge(\n",
    "    item_meta_data.drop(columns=\"embeddings\"), on=\"item_id\", how=\"left\"\n",
    ")"
   ]
  },
  {
   "cell_type": "code",
   "execution_count": 7,
   "metadata": {},
   "outputs": [],
   "source": [
    "user_item_data[\"timespent_rel\"] = (\n",
    "    user_item_data[\"timespent\"] / user_item_data[\"duration\"]\n",
    ")"
   ]
  },
  {
   "cell_type": "code",
   "execution_count": 8,
   "metadata": {},
   "outputs": [],
   "source": [
    "share_weight = 10\n",
    "bookmarks_weight = 1\n",
    "timespent_rel_weight = 50"
   ]
  },
  {
   "cell_type": "code",
   "execution_count": 9,
   "metadata": {},
   "outputs": [],
   "source": [
    "user_item_data[\"weighted_target\"] = user_item_data[\"like\"]*(\n",
    "    1 + \n",
    "    share_weight*user_item_data.share + \n",
    "    bookmarks_weight*user_item_data.bookmarks + \n",
    "    timespent_rel_weight*user_item_data.timespent_rel)"
   ]
  },
  {
   "cell_type": "markdown",
   "metadata": {},
   "source": [
    "##### split data"
   ]
  },
  {
   "cell_type": "code",
   "execution_count": 10,
   "metadata": {},
   "outputs": [],
   "source": [
    "ui_train, ui_val = train_test_split(user_item_data,\n",
    "                                    test_size=0.15,\n",
    "                                    random_state=42,\n",
    "                                    shuffle=False)"
   ]
  },
  {
   "cell_type": "code",
   "execution_count": 6,
   "metadata": {},
   "outputs": [],
   "source": [
    "last_week = ui_val"
   ]
  },
  {
   "cell_type": "code",
   "execution_count": 7,
   "metadata": {},
   "outputs": [],
   "source": [
    "# Step 1: Filter users with less than 20 interactions\n",
    "interaction_counts = last_week['user_id'].value_counts()\n",
    "users_with_20_plus_interactions = interaction_counts[interaction_counts >= 20].index\n",
    "filtered_last_week = last_week[last_week['user_id'].isin(users_with_20_plus_interactions)]"
   ]
  },
  {
   "cell_type": "code",
   "execution_count": null,
   "metadata": {},
   "outputs": [],
   "source": [
    "# Step 2: Keep only the first 20 interactions per user\n",
    "filtered_last_week['interaction_rank'] = filtered_last_week.groupby('user_id').cumcount() + 1\n",
    "final_last_week = filtered_last_week[filtered_last_week['interaction_rank'] <= 20].drop(columns='interaction_rank')"
   ]
  },
  {
   "cell_type": "code",
   "execution_count": 9,
   "metadata": {},
   "outputs": [],
   "source": [
    "# Step 3: Filter out users with zero total likes\n",
    "user_likes = final_last_week.groupby('user_id')['like'].sum()\n",
    "users_with_likes = user_likes[user_likes > 0].index\n",
    "final_last_week = final_last_week[final_last_week['user_id'].isin(users_with_likes)]"
   ]
  },
  {
   "cell_type": "code",
   "execution_count": 10,
   "metadata": {},
   "outputs": [],
   "source": [
    "ui_val = final_last_week"
   ]
  },
  {
   "cell_type": "code",
   "execution_count": 11,
   "metadata": {},
   "outputs": [],
   "source": [
    "u_train = ui_train.user_id\n",
    "i_train = ui_train.item_id\n",
    "likes_train = ui_train.like\n",
    "dislikes_train = ui_train.dislike\n",
    "\n",
    "u_val = ui_val.user_id\n",
    "i_val = ui_val.item_id\n",
    "likes_val = ui_val.like\n",
    "dislikes_val = ui_val.dislike"
   ]
  },
  {
   "cell_type": "code",
   "execution_count": 21,
   "metadata": {},
   "outputs": [],
   "source": [
    "weights = coo_matrix((ui_train.weighted_target, (u_train, i_train)))"
   ]
  },
  {
   "cell_type": "code",
   "execution_count": 25,
   "metadata": {},
   "outputs": [],
   "source": [
    "sparse_train = coo_matrix((likes_train-dislikes_train, (u_train, i_train)))\n",
    "sparse_val = coo_matrix((likes_val-dislikes_val, (u_val, i_val)))"
   ]
  },
  {
   "cell_type": "markdown",
   "metadata": {},
   "source": [
    "##### lightfm model"
   ]
  },
  {
   "cell_type": "code",
   "execution_count": 14,
   "metadata": {},
   "outputs": [],
   "source": [
    "model = lightfm.LightFM(no_components=128,\n",
    "                        loss=\"bpr\",\n",
    "                        random_state=42)"
   ]
  },
  {
   "cell_type": "code",
   "execution_count": null,
   "metadata": {},
   "outputs": [],
   "source": [
    "# Hyperparameters\n",
    "epochs = 20\n",
    "train_scores = []\n",
    "val_scores = []\n",
    "\n",
    "for epoch in range(epochs):\n",
    "    print(f\"Epoch {epoch + 1}/{epochs}\")\n",
    "\n",
    "    model.fit_partial(\n",
    "        interactions=sparse_train,\n",
    "        epochs=1,\n",
    "        num_threads=16,\n",
    "        verbose=True)\n",
    "    \n",
    "    # Calculate training loss (average loss over all predictions)\n",
    "    val_lightfm_pred = model.predict(u_val.values, i_val.values)\n",
    "    train_lightfm_pred = model.predict(u_train.values, i_train.values)\n",
    "    \n",
    "    train_score = evaluate(\n",
    "        user_id=ui_train.user_id.values,\n",
    "        target=ui_train.explicit.values,\n",
    "        score=train_lightfm_pred)\n",
    "    \n",
    "    val_score = evaluate(\n",
    "        user_id=ui_val.user_id.values,\n",
    "        target=ui_val.explicit.values,\n",
    "        score=val_lightfm_pred)\n",
    "\n",
    "    train_scores.append(train_score)\n",
    "    val_scores.append(val_score)\n",
    "\n",
    "    print(f\"{train_score=:.4f}, {val_score=:.4f}\")\n"
   ]
  },
  {
   "cell_type": "code",
   "execution_count": null,
   "metadata": {},
   "outputs": [],
   "source": [
    "# Plot training and validation loss\n",
    "plt.figure(figsize=(10, 6))\n",
    "plt.plot(range(1, epochs + 1), train_scores, label='Train ROC AUC')\n",
    "plt.plot(range(1, epochs + 1), val_scores, label='Validation ROC AUC')\n",
    "plt.xlabel('Epochs')\n",
    "plt.ylabel('ROC AUC')\n",
    "plt.title('LightFM Training and Validation ROC AUC')\n",
    "plt.legend()\n",
    "plt.grid()\n",
    "plt.show()"
   ]
  },
  {
   "cell_type": "code",
   "execution_count": 32,
   "metadata": {},
   "outputs": [
    {
     "name": "stderr",
     "output_type": "stream",
     "text": [
      "Epoch:  10%|█         | 2/20 [00:33<05:07, 17.06s/it]"
     ]
    },
    {
     "ename": "",
     "evalue": "",
     "output_type": "error",
     "traceback": [
      "\u001b[1;31mThe Kernel crashed while executing code in the the current cell or a previous cell. Please review the code in the cell(s) to identify a possible cause of the failure. Click <a href='https://aka.ms/vscodeJupyterKernelCrash'>here</a> for more info. View Jupyter <a href='command:jupyter.viewOutput'>log</a> for further details."
     ]
    }
   ],
   "source": [
    "model.fit(interactions=sparse_train,\n",
    "        #   sample_weight=weights,\n",
    "          epochs=20,\n",
    "          num_threads=16,\n",
    "          verbose=True)"
   ]
  },
  {
   "cell_type": "code",
   "execution_count": null,
   "metadata": {},
   "outputs": [],
   "source": [
    "val_lightfm_pred = model.predict(u_val.values, i_val.values, num_threads=16)\n",
    "#train_lightfm_pred = model.predict(u_train.values, i_train.values, num_threads=16)"
   ]
  },
  {
   "cell_type": "code",
   "execution_count": null,
   "metadata": {},
   "outputs": [
    {
     "name": "stderr",
     "output_type": "stream",
     "text": [
      "100%|██████████| 181721/181721 [00:51<00:00, 3521.37it/s]"
     ]
    },
    {
     "name": "stdout",
     "output_type": "stream",
     "text": [
      "val_score=0.6068528453727989\n"
     ]
    },
    {
     "name": "stderr",
     "output_type": "stream",
     "text": [
      "\n"
     ]
    }
   ],
   "source": [
    "val_score = evaluate(\n",
    "    user_id=ui_val.user_id.values,\n",
    "    target=ui_val.explicit.values,\n",
    "    score=val_lightfm_pred)\n",
    "print(f\"{val_score=}\")"
   ]
  },
  {
   "cell_type": "code",
   "execution_count": 20,
   "metadata": {},
   "outputs": [],
   "source": [
    "ui_val[\"val_lightfm_pred\"] = val_lightfm_pred"
   ]
  },
  {
   "cell_type": "code",
   "execution_count": null,
   "metadata": {},
   "outputs": [],
   "source": [
    "ui_val[ui_val.user_id==29421].sort_values(by=\"val_lightfm_pred\")"
   ]
  },
  {
   "cell_type": "code",
   "execution_count": null,
   "metadata": {},
   "outputs": [],
   "source": [
    "train_score = evaluate(\n",
    "    user_id=ui_train.user_id.values,\n",
    "    target=ui_train.explicit.values,\n",
    "    score=train_lightfm_pred)\n",
    "print(f\"{train_score=}\")"
   ]
  },
  {
   "cell_type": "code",
   "execution_count": 12,
   "metadata": {},
   "outputs": [],
   "source": [
    "np.save(\"dumps/lfm_user_embeddings.npy\", model.user_embeddings)\n",
    "np.save(\"dumps/lfm_item_embeddings.npy\", model.item_embeddings)\n",
    "np.save(\"dumps/lfm_user_biases.npy\", model.user_biases)\n",
    "np.save(\"dumps/lfm_item_biases.npy\", model.item_biases)"
   ]
  },
  {
   "cell_type": "code",
   "execution_count": 13,
   "metadata": {},
   "outputs": [],
   "source": [
    "user_ids = user_item_data.user_id.values\n",
    "item_ids = user_item_data.item_id.values\n",
    "\n",
    "lightfm_pred = model.predict(user_ids=user_ids,\n",
    "                               item_ids=item_ids)"
   ]
  },
  {
   "cell_type": "code",
   "execution_count": 14,
   "metadata": {},
   "outputs": [],
   "source": [
    "np.save(\"dumps/lfm_scores.npy\", lightfm_pred)"
   ]
  },
  {
   "cell_type": "markdown",
   "metadata": {},
   "source": [
    "##### submission"
   ]
  },
  {
   "cell_type": "code",
   "execution_count": 40,
   "metadata": {},
   "outputs": [],
   "source": [
    "test_lightfm_pred = model.predict(\n",
    "    test_pairs_data.user_id.values,\n",
    "    test_pairs_data.item_id.values,\n",
    "    num_threads=16)"
   ]
  },
  {
   "cell_type": "code",
   "execution_count": 16,
   "metadata": {},
   "outputs": [],
   "source": [
    "np.save(\"dumps/test_lightfm_scores.npy\", test_lightfm_pred)"
   ]
  },
  {
   "cell_type": "code",
   "execution_count": 41,
   "metadata": {},
   "outputs": [],
   "source": [
    "test_pairs_data[\"predict\"] = test_lightfm_pred\n",
    "test_pairs_data.to_csv(\"./lfm_submission.csv\",index=False)"
   ]
  }
 ],
 "metadata": {
  "kernelspec": {
   "display_name": "vk_env",
   "language": "python",
   "name": "python3"
  },
  "language_info": {
   "codemirror_mode": {
    "name": "ipython",
    "version": 3
   },
   "file_extension": ".py",
   "mimetype": "text/x-python",
   "name": "python",
   "nbconvert_exporter": "python",
   "pygments_lexer": "ipython3",
   "version": "3.10.12"
  }
 },
 "nbformat": 4,
 "nbformat_minor": 2
}
