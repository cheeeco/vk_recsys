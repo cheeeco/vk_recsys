{
 "cells": [
  {
   "cell_type": "code",
   "execution_count": 95,
   "metadata": {},
   "outputs": [],
   "source": [
    "import numpy as np\n",
    "import pandas as pd\n",
    "import lightfm\n",
    "import matplotlib.pyplot as plt\n",
    "from tqdm import tqdm\n",
    "from pathlib import Path\n",
    "from scipy.sparse import coo_matrix, csr_matrix\n",
    "from sklearn.model_selection import train_test_split\n",
    "from lifelines.utils import concordance_index"
   ]
  },
  {
   "cell_type": "markdown",
   "metadata": {},
   "source": [
    "read data"
   ]
  },
  {
   "cell_type": "code",
   "execution_count": 2,
   "metadata": {},
   "outputs": [],
   "source": [
    "data_path = Path(\"./data\")\n",
    "user_item_data_path = data_path / \"train_interactions.parquet\"\n",
    "users_meta_data_path = data_path / \"users_meta.parquet\"\n",
    "items_meta_data_path = data_path / \"items_meta.parquet\"\n",
    "test_pairs_data_path = data_path / \"test_pairs.csv\""
   ]
  },
  {
   "cell_type": "code",
   "execution_count": 3,
   "metadata": {},
   "outputs": [],
   "source": [
    "user_item_data = pd.read_parquet(user_item_data_path)\n",
    "users_meta_data = pd.read_parquet(users_meta_data_path)\n",
    "items_meta_data = pd.read_parquet(items_meta_data_path)\n",
    "test_pairs_data = pd.read_csv(test_pairs_data_path)"
   ]
  },
  {
   "cell_type": "code",
   "execution_count": 4,
   "metadata": {},
   "outputs": [],
   "source": [
    "user_features = users_meta_data[[\"gender\", \"age\"]].values\n",
    "item_features = items_meta_data[[\"source_id\", \"duration\"]].values"
   ]
  },
  {
   "cell_type": "code",
   "execution_count": 83,
   "metadata": {},
   "outputs": [],
   "source": [
    "ui_train, ui_val = train_test_split(user_item_data,\n",
    "                                    test_size=0.15,\n",
    "                                    random_state=42,\n",
    "                                    shuffle=False)"
   ]
  },
  {
   "cell_type": "code",
   "execution_count": 84,
   "metadata": {},
   "outputs": [],
   "source": [
    "u_train = user_item_data.user_id\n",
    "i_train = user_item_data.item_id\n",
    "likes_train = user_item_data.like\n",
    "dislikes_train = user_item_data.dislike"
   ]
  },
  {
   "cell_type": "code",
   "execution_count": 85,
   "metadata": {},
   "outputs": [],
   "source": [
    "u_train = ui_train.user_id\n",
    "i_train = ui_train.item_id\n",
    "likes_train = ui_train.like\n",
    "dislikes_train = ui_train.dislike"
   ]
  },
  {
   "cell_type": "code",
   "execution_count": 86,
   "metadata": {},
   "outputs": [],
   "source": [
    "u_val = ui_val.user_id\n",
    "i_val = ui_val.item_id\n",
    "likes_val = ui_val.like\n",
    "dislikes_val = ui_val.dislike"
   ]
  },
  {
   "cell_type": "code",
   "execution_count": 87,
   "metadata": {},
   "outputs": [],
   "source": [
    "sparse_train = coo_matrix((likes_train-dislikes_train, (u_train, i_train)))\n",
    "user_features_train = csr_matrix(user_features)\n",
    "item_features_train = csr_matrix(item_features)"
   ]
  },
  {
   "cell_type": "markdown",
   "metadata": {},
   "source": [
    "lightfm model"
   ]
  },
  {
   "cell_type": "code",
   "execution_count": 88,
   "metadata": {},
   "outputs": [],
   "source": [
    "model = lightfm.LightFM(no_components=32)"
   ]
  },
  {
   "cell_type": "code",
   "execution_count": 89,
   "metadata": {},
   "outputs": [
    {
     "name": "stderr",
     "output_type": "stream",
     "text": [
      "Epoch: 100%|██████████| 10/10 [05:13<00:00, 31.32s/it]\n"
     ]
    },
    {
     "data": {
      "text/plain": [
       "<lightfm.lightfm.LightFM at 0x7f61bb1ef760>"
      ]
     },
     "execution_count": 89,
     "metadata": {},
     "output_type": "execute_result"
    }
   ],
   "source": [
    "model.fit(sparse_train,\n",
    "          epochs=10,\n",
    "          num_threads=8,\n",
    "          verbose=True)"
   ]
  },
  {
   "cell_type": "code",
   "execution_count": 90,
   "metadata": {},
   "outputs": [],
   "source": [
    "val_lightfm_score = model.predict(u_val.values, i_val.values)"
   ]
  },
  {
   "cell_type": "code",
   "execution_count": 96,
   "metadata": {},
   "outputs": [],
   "source": [
    "ui_val[\"target\"] = ui_val[\"like\"] - ui_val[\"dislike\"]\n",
    "ui_val[\"lightfm_score\"] = val_lightfm_score"
   ]
  },
  {
   "cell_type": "code",
   "execution_count": 93,
   "metadata": {},
   "outputs": [],
   "source": [
    "def evaluate(user_id: np.ndarray, target: np.ndarray, score: np.ndarray) -> np.float64:\n",
    "    sorting_indices = user_id.argsort()\n",
    "\n",
    "    user_id = user_id[sorting_indices]\n",
    "    target_and_score = np.stack([target,score]).reshape(-1,2)\n",
    "    target_and_score = target_and_score[sorting_indices]\n",
    "    \n",
    "    groups = np.split(target_and_score, np.unique(user_id, return_index=True)[1][1:])\n",
    "    roc_aucs = []\n",
    "    for group in tqdm(groups):\n",
    "        target = group[:,0]\n",
    "        score = group[:,1]\n",
    "        if len(np.unique(target)) == 1:\n",
    "            continue\n",
    "        roc_auc = concordance_index(target, score)\n",
    "        roc_aucs.append(roc_auc)\n",
    "    return np.mean(roc_aucs)"
   ]
  },
  {
   "cell_type": "code",
   "execution_count": 101,
   "metadata": {},
   "outputs": [
    {
     "data": {
      "text/plain": [
       "numpy.ndarray"
      ]
     },
     "execution_count": 101,
     "metadata": {},
     "output_type": "execute_result"
    }
   ],
   "source": [
    "type(ui_val.user_id.values)"
   ]
  },
  {
   "cell_type": "code",
   "execution_count": 102,
   "metadata": {},
   "outputs": [],
   "source": [
    "a = np.float64(0.7750076492555034)"
   ]
  },
  {
   "cell_type": "code",
   "execution_count": 110,
   "metadata": {},
   "outputs": [
    {
     "data": {
      "text/plain": [
       "0.7750076492555034"
      ]
     },
     "execution_count": 110,
     "metadata": {},
     "output_type": "execute_result"
    }
   ],
   "source": [
    "a.item()"
   ]
  },
  {
   "cell_type": "code",
   "execution_count": 97,
   "metadata": {},
   "outputs": [
    {
     "name": "stderr",
     "output_type": "stream",
     "text": [
      "100%|██████████| 181721/181721 [01:41<00:00, 1788.16it/s]\n"
     ]
    },
    {
     "data": {
      "text/plain": [
       "np.float64(0.7750076492555034)"
      ]
     },
     "execution_count": 97,
     "metadata": {},
     "output_type": "execute_result"
    }
   ],
   "source": [
    "evaluate(user_id=ui_val.user_id.values,\n",
    "         target=ui_val.target.values,\n",
    "         score=ui_val.lightfm_score.values)"
   ]
  },
  {
   "cell_type": "code",
   "execution_count": 98,
   "metadata": {},
   "outputs": [],
   "source": [
    "test_lightfm_score = model.predict(test_pairs_data.user_id.values,\n",
    "                                   test_pairs_data.item_id.values,\n",
    "                                   None)"
   ]
  },
  {
   "cell_type": "code",
   "execution_count": 99,
   "metadata": {},
   "outputs": [
    {
     "data": {
      "text/plain": [
       "array([     1,      1,      1, ..., 183403, 183403, 183403])"
      ]
     },
     "execution_count": 99,
     "metadata": {},
     "output_type": "execute_result"
    }
   ],
   "source": [
    "test_pairs_data.user_id.values"
   ]
  },
  {
   "cell_type": "code",
   "execution_count": 100,
   "metadata": {},
   "outputs": [],
   "source": [
    "test_pairs_data[\"predict\"] = test_lightfm_score\n",
    "test_pairs_data.to_csv(\"./submission.csv\",index=False)"
   ]
  }
 ],
 "metadata": {
  "kernelspec": {
   "display_name": "vk_env",
   "language": "python",
   "name": "python3"
  },
  "language_info": {
   "codemirror_mode": {
    "name": "ipython",
    "version": 3
   },
   "file_extension": ".py",
   "mimetype": "text/x-python",
   "name": "python",
   "nbconvert_exporter": "python",
   "pygments_lexer": "ipython3",
   "version": "3.10.12"
  }
 },
 "nbformat": 4,
 "nbformat_minor": 2
}
