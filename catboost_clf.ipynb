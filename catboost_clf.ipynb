{
 "cells": [
  {
   "cell_type": "markdown",
   "metadata": {},
   "source": [
    "##### import libs"
   ]
  },
  {
   "cell_type": "code",
   "execution_count": 1,
   "metadata": {},
   "outputs": [],
   "source": [
    "from tqdm import tqdm\n",
    "import numpy as np\n",
    "import pandas as pd\n",
    "from copy import deepcopy\n",
    "from catboost import CatBoostClassifier\n",
    "from sklearn.model_selection import train_test_split\n",
    "\n",
    "from utils import load_data, evaluate, plot_feature_importances"
   ]
  },
  {
   "cell_type": "markdown",
   "metadata": {},
   "source": [
    "##### load data"
   ]
  },
  {
   "cell_type": "code",
   "execution_count": 2,
   "metadata": {},
   "outputs": [],
   "source": [
    "user_item_data, user_meta_data, item_meta_data, test_pairs_data = load_data()"
   ]
  },
  {
   "cell_type": "code",
   "execution_count": 3,
   "metadata": {},
   "outputs": [],
   "source": [
    "user_embeddings = np.load(\"dumps/user_embeddings.npy\")\n",
    "item_embeddings = np.load(\"dumps/item_embeddings.npy\")\n",
    "user_biases = np.load(\"dumps/user_biases.npy\")\n",
    "item_biases = np.load(\"dumps/item_biases.npy\")\n",
    "lightfm_scores = np.load(\"dumps/lightfm_scores.npy\")\n",
    "test_lightfm_scores = np.load(\"dumps/test_lightfm_scores.npy\")"
   ]
  },
  {
   "cell_type": "code",
   "execution_count": 4,
   "metadata": {},
   "outputs": [
    {
     "data": {
      "text/html": [
       "<div>\n",
       "<style scoped>\n",
       "    .dataframe tbody tr th:only-of-type {\n",
       "        vertical-align: middle;\n",
       "    }\n",
       "\n",
       "    .dataframe tbody tr th {\n",
       "        vertical-align: top;\n",
       "    }\n",
       "\n",
       "    .dataframe thead th {\n",
       "        text-align: right;\n",
       "    }\n",
       "</style>\n",
       "<table border=\"1\" class=\"dataframe\">\n",
       "  <thead>\n",
       "    <tr style=\"text-align: right;\">\n",
       "      <th></th>\n",
       "      <th>user_id</th>\n",
       "      <th>item_id</th>\n",
       "      <th>timespent</th>\n",
       "      <th>like</th>\n",
       "      <th>dislike</th>\n",
       "      <th>share</th>\n",
       "      <th>bookmarks</th>\n",
       "      <th>explicit</th>\n",
       "    </tr>\n",
       "  </thead>\n",
       "  <tbody>\n",
       "    <tr>\n",
       "      <th>0</th>\n",
       "      <td>3810</td>\n",
       "      <td>138979</td>\n",
       "      <td>6</td>\n",
       "      <td>0</td>\n",
       "      <td>0</td>\n",
       "      <td>0</td>\n",
       "      <td>0</td>\n",
       "      <td>0</td>\n",
       "    </tr>\n",
       "    <tr>\n",
       "      <th>1</th>\n",
       "      <td>101874</td>\n",
       "      <td>331160</td>\n",
       "      <td>6</td>\n",
       "      <td>0</td>\n",
       "      <td>0</td>\n",
       "      <td>0</td>\n",
       "      <td>0</td>\n",
       "      <td>0</td>\n",
       "    </tr>\n",
       "    <tr>\n",
       "      <th>2</th>\n",
       "      <td>150332</td>\n",
       "      <td>73709</td>\n",
       "      <td>11</td>\n",
       "      <td>0</td>\n",
       "      <td>0</td>\n",
       "      <td>0</td>\n",
       "      <td>0</td>\n",
       "      <td>0</td>\n",
       "    </tr>\n",
       "    <tr>\n",
       "      <th>3</th>\n",
       "      <td>4982</td>\n",
       "      <td>189745</td>\n",
       "      <td>5</td>\n",
       "      <td>0</td>\n",
       "      <td>0</td>\n",
       "      <td>0</td>\n",
       "      <td>0</td>\n",
       "      <td>0</td>\n",
       "    </tr>\n",
       "    <tr>\n",
       "      <th>4</th>\n",
       "      <td>149601</td>\n",
       "      <td>289643</td>\n",
       "      <td>1</td>\n",
       "      <td>0</td>\n",
       "      <td>0</td>\n",
       "      <td>1</td>\n",
       "      <td>0</td>\n",
       "      <td>0</td>\n",
       "    </tr>\n",
       "    <tr>\n",
       "      <th>...</th>\n",
       "      <td>...</td>\n",
       "      <td>...</td>\n",
       "      <td>...</td>\n",
       "      <td>...</td>\n",
       "      <td>...</td>\n",
       "      <td>...</td>\n",
       "      <td>...</td>\n",
       "      <td>...</td>\n",
       "    </tr>\n",
       "    <tr>\n",
       "      <th>145667277</th>\n",
       "      <td>10718</td>\n",
       "      <td>93558</td>\n",
       "      <td>7</td>\n",
       "      <td>0</td>\n",
       "      <td>0</td>\n",
       "      <td>0</td>\n",
       "      <td>0</td>\n",
       "      <td>0</td>\n",
       "    </tr>\n",
       "    <tr>\n",
       "      <th>145667278</th>\n",
       "      <td>119164</td>\n",
       "      <td>60206</td>\n",
       "      <td>60</td>\n",
       "      <td>0</td>\n",
       "      <td>0</td>\n",
       "      <td>0</td>\n",
       "      <td>0</td>\n",
       "      <td>0</td>\n",
       "    </tr>\n",
       "    <tr>\n",
       "      <th>145667279</th>\n",
       "      <td>171518</td>\n",
       "      <td>99323</td>\n",
       "      <td>70</td>\n",
       "      <td>0</td>\n",
       "      <td>0</td>\n",
       "      <td>0</td>\n",
       "      <td>0</td>\n",
       "      <td>0</td>\n",
       "    </tr>\n",
       "    <tr>\n",
       "      <th>145667280</th>\n",
       "      <td>109533</td>\n",
       "      <td>74203</td>\n",
       "      <td>1</td>\n",
       "      <td>0</td>\n",
       "      <td>0</td>\n",
       "      <td>0</td>\n",
       "      <td>0</td>\n",
       "      <td>0</td>\n",
       "    </tr>\n",
       "    <tr>\n",
       "      <th>145667281</th>\n",
       "      <td>129851</td>\n",
       "      <td>138079</td>\n",
       "      <td>15</td>\n",
       "      <td>0</td>\n",
       "      <td>0</td>\n",
       "      <td>0</td>\n",
       "      <td>0</td>\n",
       "      <td>0</td>\n",
       "    </tr>\n",
       "  </tbody>\n",
       "</table>\n",
       "<p>145667282 rows × 8 columns</p>\n",
       "</div>"
      ],
      "text/plain": [
       "           user_id  item_id  timespent  like  dislike  share  bookmarks  \\\n",
       "0             3810   138979          6     0        0      0          0   \n",
       "1           101874   331160          6     0        0      0          0   \n",
       "2           150332    73709         11     0        0      0          0   \n",
       "3             4982   189745          5     0        0      0          0   \n",
       "4           149601   289643          1     0        0      1          0   \n",
       "...            ...      ...        ...   ...      ...    ...        ...   \n",
       "145667277    10718    93558          7     0        0      0          0   \n",
       "145667278   119164    60206         60     0        0      0          0   \n",
       "145667279   171518    99323         70     0        0      0          0   \n",
       "145667280   109533    74203          1     0        0      0          0   \n",
       "145667281   129851   138079         15     0        0      0          0   \n",
       "\n",
       "           explicit  \n",
       "0                 0  \n",
       "1                 0  \n",
       "2                 0  \n",
       "3                 0  \n",
       "4                 0  \n",
       "...             ...  \n",
       "145667277         0  \n",
       "145667278         0  \n",
       "145667279         0  \n",
       "145667280         0  \n",
       "145667281         0  \n",
       "\n",
       "[145667282 rows x 8 columns]"
      ]
     },
     "execution_count": 4,
     "metadata": {},
     "output_type": "execute_result"
    }
   ],
   "source": [
    "user_item_data"
   ]
  },
  {
   "cell_type": "code",
   "execution_count": 5,
   "metadata": {},
   "outputs": [],
   "source": [
    "test_pairs_data_w_columns = test_pairs_data.copy()\n",
    "\n",
    "for col in set(user_item_data.columns) - set(test_pairs_data.columns):\n",
    "    test_pairs_data_w_columns[col] = 0"
   ]
  },
  {
   "cell_type": "code",
   "execution_count": 14,
   "metadata": {},
   "outputs": [],
   "source": [
    "test_user_item_data = user_item_data[user_item_data.user_id.isin(test_pairs_data.user_id.values)]"
   ]
  },
  {
   "cell_type": "code",
   "execution_count": 22,
   "metadata": {},
   "outputs": [],
   "source": [
    "test_likes = test_user_item_data.groupby(\"user_id\").like.agg(\"max\")\n",
    "test_dislikes = test_user_item_data.groupby(\"user_id\").dislike.agg(\"max\")"
   ]
  },
  {
   "cell_type": "code",
   "execution_count": 20,
   "metadata": {},
   "outputs": [
    {
     "data": {
      "text/plain": [
       "82756"
      ]
     },
     "execution_count": 20,
     "metadata": {},
     "output_type": "execute_result"
    }
   ],
   "source": [
    "test_pairs_data.user_id.nunique()"
   ]
  },
  {
   "cell_type": "code",
   "execution_count": 27,
   "metadata": {},
   "outputs": [
    {
     "data": {
      "text/plain": [
       "1    80225\n",
       "0     2531\n",
       "Name: count, dtype: int64"
      ]
     },
     "execution_count": 27,
     "metadata": {},
     "output_type": "execute_result"
    }
   ],
   "source": [
    "(test_dislikes | test_likes).value_counts()"
   ]
  },
  {
   "cell_type": "code",
   "execution_count": 29,
   "metadata": {},
   "outputs": [],
   "source": [
    "not_test_users = set(user_item_data.user_id.unique()) - set(test_pairs_data.user_id.values)"
   ]
  },
  {
   "cell_type": "code",
   "execution_count": 33,
   "metadata": {},
   "outputs": [
    {
     "data": {
      "text/plain": [
       "100648"
      ]
     },
     "execution_count": 33,
     "metadata": {},
     "output_type": "execute_result"
    }
   ],
   "source": [
    "len(not_test_users)"
   ]
  },
  {
   "cell_type": "code",
   "execution_count": 23,
   "metadata": {},
   "outputs": [
    {
     "data": {
      "text/plain": [
       "dislike\n",
       "0    72126\n",
       "1    10630\n",
       "Name: count, dtype: int64"
      ]
     },
     "execution_count": 23,
     "metadata": {},
     "output_type": "execute_result"
    }
   ],
   "source": [
    "test_dislikes.value_counts()"
   ]
  },
  {
   "cell_type": "code",
   "execution_count": 19,
   "metadata": {},
   "outputs": [
    {
     "data": {
      "text/plain": [
       "like\n",
       "1    79893\n",
       "0     2863\n",
       "Name: count, dtype: int64"
      ]
     },
     "execution_count": 19,
     "metadata": {},
     "output_type": "execute_result"
    }
   ],
   "source": [
    "test_likes.value_counts()"
   ]
  },
  {
   "cell_type": "markdown",
   "metadata": {},
   "source": [
    "##### create features"
   ]
  },
  {
   "cell_type": "markdown",
   "metadata": {},
   "source": [
    "user_meta_data[\"user_lightfm_embeddings\"] = user_embeddings.tolist()\n",
    "item_meta_data[\"item_lightfm_embeddings\"] = item_embeddings.tolist()\n",
    "user_meta_data[\"user_lightfm_biases\"] = user_biases.tolist()\n",
    "item_meta_data[\"item_lightfm_biases\"] = item_biases.tolist()"
   ]
  },
  {
   "cell_type": "code",
   "execution_count": 7,
   "metadata": {},
   "outputs": [],
   "source": [
    "user_item_data[\"lightfm_scores\"] = lightfm_scores.tolist()"
   ]
  },
  {
   "cell_type": "code",
   "execution_count": 8,
   "metadata": {},
   "outputs": [],
   "source": [
    "test_pairs_data_w_columns[\"lightfm_scores\"] = test_lightfm_scores.tolist()"
   ]
  },
  {
   "cell_type": "code",
   "execution_count": 9,
   "metadata": {},
   "outputs": [],
   "source": [
    "user_item_data = pd.concat((user_item_data, test_pairs_data_w_columns), axis=0, ignore_index=True)"
   ]
  },
  {
   "cell_type": "code",
   "execution_count": 9,
   "metadata": {},
   "outputs": [],
   "source": [
    "item_meta_data = item_meta_data.rename({\"embeddings\": \"video_embeddings\"}, axis=1)"
   ]
  },
  {
   "cell_type": "code",
   "execution_count": 12,
   "metadata": {},
   "outputs": [
    {
     "ename": "",
     "evalue": "",
     "output_type": "error",
     "traceback": [
      "\u001b[1;31mThe Kernel crashed while executing code in the the current cell or a previous cell. Please review the code in the cell(s) to identify a possible cause of the failure. Click <a href='https://aka.ms/vscodeJupyterKernelCrash'>here</a> for more info. View Jupyter <a href='command:jupyter.viewOutput'>log</a> for further details."
     ]
    }
   ],
   "source": [
    "user_item_data = user_item_data.merge(\n",
    "    item_meta_data.drop(columns=\"video_embeddings\"), on=\"item_id\", how=\"left\"\n",
    ")"
   ]
  },
  {
   "cell_type": "code",
   "execution_count": 10,
   "metadata": {},
   "outputs": [],
   "source": [
    "user_item_data = user_item_data.merge(user_meta_data, on=\"user_id\", how=\"left\")"
   ]
  },
  {
   "cell_type": "code",
   "execution_count": null,
   "metadata": {},
   "outputs": [],
   "source": [
    "user_item_data[\"timespent_rel\"] = (\n",
    "    user_item_data[\"timespent\"] / user_item_data[\"duration\"]\n",
    ")"
   ]
  },
  {
   "cell_type": "code",
   "execution_count": 11,
   "metadata": {},
   "outputs": [],
   "source": [
    "user_item_data.lightfm_scores = user_item_data.lightfm_scores.astype(np.float16)\n",
    "# user_item_data.timespent_rel = user_item_data.timespent_rel.astype(np.float16)"
   ]
  },
  {
   "cell_type": "code",
   "execution_count": 12,
   "metadata": {},
   "outputs": [],
   "source": [
    "user_item_data.like = user_item_data.like.astype(np.int8)\n",
    "user_item_data.dislike = user_item_data.dislike.astype(np.int8)\n",
    "user_item_data.share = user_item_data.share.astype(np.int8)\n",
    "user_item_data.bookmarks = user_item_data.bookmarks.astype(np.int8)\n",
    "user_item_data.explicit = user_item_data.explicit.astype(np.int8)"
   ]
  },
  {
   "cell_type": "code",
   "execution_count": 13,
   "metadata": {},
   "outputs": [
    {
     "data": {
      "text/plain": [
       "user_id             int64\n",
       "item_id             int64\n",
       "timespent           int64\n",
       "like                 int8\n",
       "dislike              int8\n",
       "share                int8\n",
       "bookmarks            int8\n",
       "explicit             int8\n",
       "lightfm_scores    float16\n",
       "gender              uint8\n",
       "age                 uint8\n",
       "dtype: object"
      ]
     },
     "execution_count": 13,
     "metadata": {},
     "output_type": "execute_result"
    }
   ],
   "source": [
    "user_item_data.dtypes"
   ]
  },
  {
   "cell_type": "markdown",
   "metadata": {},
   "source": [
    "#### скользящие фичи"
   ]
  },
  {
   "cell_type": "code",
   "execution_count": 14,
   "metadata": {},
   "outputs": [
    {
     "data": {
      "text/plain": [
       "item_id\n",
       "20         82756\n",
       "Name: count, dtype: int64"
      ]
     },
     "execution_count": 14,
     "metadata": {},
     "output_type": "execute_result"
    }
   ],
   "source": [
    "test_counts_by_user = test_pairs_data.groupby(by=\"user_id\").agg(len)\n",
    "test_counts_by_user.value_counts()"
   ]
  },
  {
   "cell_type": "code",
   "execution_count": 23,
   "metadata": {},
   "outputs": [],
   "source": [
    "count_by_user = user_item_data.groupby(by=\"user_id\").like.agg(len)"
   ]
  },
  {
   "cell_type": "code",
   "execution_count": 50,
   "metadata": {},
   "outputs": [
    {
     "data": {
      "text/plain": [
       "182670"
      ]
     },
     "execution_count": 50,
     "metadata": {},
     "output_type": "execute_result"
    }
   ],
   "source": [
    "(count_by_user>24).sum()"
   ]
  },
  {
   "cell_type": "code",
   "execution_count": 28,
   "metadata": {},
   "outputs": [
    {
     "data": {
      "text/plain": [
       "3668080"
      ]
     },
     "execution_count": 28,
     "metadata": {},
     "output_type": "execute_result"
    }
   ],
   "source": [
    "user_item_data.user_id.nunique()*20"
   ]
  },
  {
   "cell_type": "code",
   "execution_count": 40,
   "metadata": {},
   "outputs": [],
   "source": [
    "test_user_item_data = user_item_data[user_item_data.user_id.isin(test_pairs_data.user_id.unique())]"
   ]
  },
  {
   "cell_type": "code",
   "execution_count": 42,
   "metadata": {},
   "outputs": [],
   "source": [
    "count_by_test_user = test_user_item_data.groupby(by=\"user_id\").like.agg(len)"
   ]
  },
  {
   "cell_type": "code",
   "execution_count": 48,
   "metadata": {},
   "outputs": [
    {
     "data": {
      "text/plain": [
       "user_id\n",
       "122460    4\n",
       "Name: like, dtype: int64"
      ]
     },
     "execution_count": 48,
     "metadata": {},
     "output_type": "execute_result"
    }
   ],
   "source": [
    "count_by_test_user[count_by_test_user==4]"
   ]
  },
  {
   "cell_type": "code",
   "execution_count": 49,
   "metadata": {},
   "outputs": [
    {
     "data": {
      "text/html": [
       "<div>\n",
       "<style scoped>\n",
       "    .dataframe tbody tr th:only-of-type {\n",
       "        vertical-align: middle;\n",
       "    }\n",
       "\n",
       "    .dataframe tbody tr th {\n",
       "        vertical-align: top;\n",
       "    }\n",
       "\n",
       "    .dataframe thead th {\n",
       "        text-align: right;\n",
       "    }\n",
       "</style>\n",
       "<table border=\"1\" class=\"dataframe\">\n",
       "  <thead>\n",
       "    <tr style=\"text-align: right;\">\n",
       "      <th></th>\n",
       "      <th>user_id</th>\n",
       "      <th>item_id</th>\n",
       "      <th>timespent</th>\n",
       "      <th>like</th>\n",
       "      <th>dislike</th>\n",
       "      <th>share</th>\n",
       "      <th>bookmarks</th>\n",
       "      <th>explicit</th>\n",
       "      <th>lightfm_scores</th>\n",
       "      <th>source_id</th>\n",
       "      <th>duration</th>\n",
       "      <th>gender</th>\n",
       "      <th>age</th>\n",
       "      <th>timespent_rel</th>\n",
       "    </tr>\n",
       "  </thead>\n",
       "  <tbody>\n",
       "    <tr>\n",
       "      <th>96730821</th>\n",
       "      <td>122460</td>\n",
       "      <td>331635</td>\n",
       "      <td>17</td>\n",
       "      <td>0</td>\n",
       "      <td>0</td>\n",
       "      <td>0</td>\n",
       "      <td>0</td>\n",
       "      <td>0</td>\n",
       "      <td>-1.609375</td>\n",
       "      <td>18699</td>\n",
       "      <td>17</td>\n",
       "      <td>2</td>\n",
       "      <td>38</td>\n",
       "      <td>1.000000</td>\n",
       "    </tr>\n",
       "    <tr>\n",
       "      <th>100812389</th>\n",
       "      <td>122460</td>\n",
       "      <td>30314</td>\n",
       "      <td>38</td>\n",
       "      <td>0</td>\n",
       "      <td>0</td>\n",
       "      <td>0</td>\n",
       "      <td>0</td>\n",
       "      <td>0</td>\n",
       "      <td>-1.879883</td>\n",
       "      <td>18603</td>\n",
       "      <td>42</td>\n",
       "      <td>2</td>\n",
       "      <td>38</td>\n",
       "      <td>0.904785</td>\n",
       "    </tr>\n",
       "    <tr>\n",
       "      <th>100812544</th>\n",
       "      <td>122460</td>\n",
       "      <td>176903</td>\n",
       "      <td>6</td>\n",
       "      <td>0</td>\n",
       "      <td>0</td>\n",
       "      <td>0</td>\n",
       "      <td>0</td>\n",
       "      <td>0</td>\n",
       "      <td>-1.440430</td>\n",
       "      <td>13407</td>\n",
       "      <td>5</td>\n",
       "      <td>2</td>\n",
       "      <td>38</td>\n",
       "      <td>1.200195</td>\n",
       "    </tr>\n",
       "    <tr>\n",
       "      <th>114553510</th>\n",
       "      <td>122460</td>\n",
       "      <td>126534</td>\n",
       "      <td>2</td>\n",
       "      <td>0</td>\n",
       "      <td>0</td>\n",
       "      <td>0</td>\n",
       "      <td>0</td>\n",
       "      <td>0</td>\n",
       "      <td>-1.869141</td>\n",
       "      <td>18466</td>\n",
       "      <td>20</td>\n",
       "      <td>2</td>\n",
       "      <td>38</td>\n",
       "      <td>0.099976</td>\n",
       "    </tr>\n",
       "  </tbody>\n",
       "</table>\n",
       "</div>"
      ],
      "text/plain": [
       "           user_id  item_id  timespent  like  dislike  share  bookmarks  \\\n",
       "96730821    122460   331635         17     0        0      0          0   \n",
       "100812389   122460    30314         38     0        0      0          0   \n",
       "100812544   122460   176903          6     0        0      0          0   \n",
       "114553510   122460   126534          2     0        0      0          0   \n",
       "\n",
       "           explicit  lightfm_scores  source_id  duration  gender  age  \\\n",
       "96730821          0       -1.609375      18699        17       2   38   \n",
       "100812389         0       -1.879883      18603        42       2   38   \n",
       "100812544         0       -1.440430      13407         5       2   38   \n",
       "114553510         0       -1.869141      18466        20       2   38   \n",
       "\n",
       "           timespent_rel  \n",
       "96730821        1.000000  \n",
       "100812389       0.904785  \n",
       "100812544       1.200195  \n",
       "114553510       0.099976  "
      ]
     },
     "execution_count": 49,
     "metadata": {},
     "output_type": "execute_result"
    }
   ],
   "source": [
    "user_item_data[user_item_data.user_id==122460]"
   ]
  },
  {
   "cell_type": "code",
   "execution_count": 26,
   "metadata": {},
   "outputs": [
    {
     "data": {
      "text/plain": [
       "2"
      ]
     },
     "execution_count": 26,
     "metadata": {},
     "output_type": "execute_result"
    }
   ],
   "source": [
    "count_by_user.min()"
   ]
  },
  {
   "cell_type": "code",
   "execution_count": null,
   "metadata": {},
   "outputs": [],
   "source": [
    "like_count_by_user = user_item_data.groupby(by=\"user_id\").like.agg(\"sum\")\n",
    "like_ratio_by_user = like_count_by_user / user_item_data.groupby(by=\"user_id\").like.agg(len)"
   ]
  },
  {
   "cell_type": "code",
   "execution_count": 13,
   "metadata": {},
   "outputs": [
    {
     "data": {
      "text/html": [
       "<div>\n",
       "<style scoped>\n",
       "    .dataframe tbody tr th:only-of-type {\n",
       "        vertical-align: middle;\n",
       "    }\n",
       "\n",
       "    .dataframe tbody tr th {\n",
       "        vertical-align: top;\n",
       "    }\n",
       "\n",
       "    .dataframe thead th {\n",
       "        text-align: right;\n",
       "    }\n",
       "</style>\n",
       "<table border=\"1\" class=\"dataframe\">\n",
       "  <thead>\n",
       "    <tr style=\"text-align: right;\">\n",
       "      <th></th>\n",
       "      <th>user_id</th>\n",
       "      <th>item_id</th>\n",
       "      <th>timespent</th>\n",
       "      <th>like</th>\n",
       "      <th>dislike</th>\n",
       "      <th>share</th>\n",
       "      <th>bookmarks</th>\n",
       "      <th>explicit</th>\n",
       "      <th>lightfm_scores</th>\n",
       "    </tr>\n",
       "  </thead>\n",
       "  <tbody>\n",
       "    <tr>\n",
       "      <th>0</th>\n",
       "      <td>3810</td>\n",
       "      <td>138979</td>\n",
       "      <td>6</td>\n",
       "      <td>0</td>\n",
       "      <td>0</td>\n",
       "      <td>0</td>\n",
       "      <td>0</td>\n",
       "      <td>0</td>\n",
       "      <td>-4.929688</td>\n",
       "    </tr>\n",
       "    <tr>\n",
       "      <th>1</th>\n",
       "      <td>101874</td>\n",
       "      <td>331160</td>\n",
       "      <td>6</td>\n",
       "      <td>0</td>\n",
       "      <td>0</td>\n",
       "      <td>0</td>\n",
       "      <td>0</td>\n",
       "      <td>0</td>\n",
       "      <td>-2.806641</td>\n",
       "    </tr>\n",
       "    <tr>\n",
       "      <th>2</th>\n",
       "      <td>150332</td>\n",
       "      <td>73709</td>\n",
       "      <td>11</td>\n",
       "      <td>0</td>\n",
       "      <td>0</td>\n",
       "      <td>0</td>\n",
       "      <td>0</td>\n",
       "      <td>0</td>\n",
       "      <td>-4.921875</td>\n",
       "    </tr>\n",
       "    <tr>\n",
       "      <th>3</th>\n",
       "      <td>4982</td>\n",
       "      <td>189745</td>\n",
       "      <td>5</td>\n",
       "      <td>0</td>\n",
       "      <td>0</td>\n",
       "      <td>0</td>\n",
       "      <td>0</td>\n",
       "      <td>0</td>\n",
       "      <td>-6.171875</td>\n",
       "    </tr>\n",
       "    <tr>\n",
       "      <th>4</th>\n",
       "      <td>149601</td>\n",
       "      <td>289643</td>\n",
       "      <td>1</td>\n",
       "      <td>0</td>\n",
       "      <td>0</td>\n",
       "      <td>1</td>\n",
       "      <td>0</td>\n",
       "      <td>0</td>\n",
       "      <td>-4.906250</td>\n",
       "    </tr>\n",
       "    <tr>\n",
       "      <th>...</th>\n",
       "      <td>...</td>\n",
       "      <td>...</td>\n",
       "      <td>...</td>\n",
       "      <td>...</td>\n",
       "      <td>...</td>\n",
       "      <td>...</td>\n",
       "      <td>...</td>\n",
       "      <td>...</td>\n",
       "      <td>...</td>\n",
       "    </tr>\n",
       "    <tr>\n",
       "      <th>147322397</th>\n",
       "      <td>183403</td>\n",
       "      <td>235097</td>\n",
       "      <td>0</td>\n",
       "      <td>0</td>\n",
       "      <td>0</td>\n",
       "      <td>0</td>\n",
       "      <td>0</td>\n",
       "      <td>0</td>\n",
       "      <td>-4.164062</td>\n",
       "    </tr>\n",
       "    <tr>\n",
       "      <th>147322398</th>\n",
       "      <td>183403</td>\n",
       "      <td>267411</td>\n",
       "      <td>0</td>\n",
       "      <td>0</td>\n",
       "      <td>0</td>\n",
       "      <td>0</td>\n",
       "      <td>0</td>\n",
       "      <td>0</td>\n",
       "      <td>-5.886719</td>\n",
       "    </tr>\n",
       "    <tr>\n",
       "      <th>147322399</th>\n",
       "      <td>183403</td>\n",
       "      <td>273646</td>\n",
       "      <td>0</td>\n",
       "      <td>0</td>\n",
       "      <td>0</td>\n",
       "      <td>0</td>\n",
       "      <td>0</td>\n",
       "      <td>0</td>\n",
       "      <td>-7.441406</td>\n",
       "    </tr>\n",
       "    <tr>\n",
       "      <th>147322400</th>\n",
       "      <td>183403</td>\n",
       "      <td>288305</td>\n",
       "      <td>0</td>\n",
       "      <td>0</td>\n",
       "      <td>0</td>\n",
       "      <td>0</td>\n",
       "      <td>0</td>\n",
       "      <td>0</td>\n",
       "      <td>-7.707031</td>\n",
       "    </tr>\n",
       "    <tr>\n",
       "      <th>147322401</th>\n",
       "      <td>183403</td>\n",
       "      <td>322029</td>\n",
       "      <td>0</td>\n",
       "      <td>0</td>\n",
       "      <td>0</td>\n",
       "      <td>0</td>\n",
       "      <td>0</td>\n",
       "      <td>0</td>\n",
       "      <td>-6.457031</td>\n",
       "    </tr>\n",
       "  </tbody>\n",
       "</table>\n",
       "<p>147322402 rows × 9 columns</p>\n",
       "</div>"
      ],
      "text/plain": [
       "           user_id  item_id  timespent  like  dislike  share  bookmarks  \\\n",
       "0             3810   138979          6     0        0      0          0   \n",
       "1           101874   331160          6     0        0      0          0   \n",
       "2           150332    73709         11     0        0      0          0   \n",
       "3             4982   189745          5     0        0      0          0   \n",
       "4           149601   289643          1     0        0      1          0   \n",
       "...            ...      ...        ...   ...      ...    ...        ...   \n",
       "147322397   183403   235097          0     0        0      0          0   \n",
       "147322398   183403   267411          0     0        0      0          0   \n",
       "147322399   183403   273646          0     0        0      0          0   \n",
       "147322400   183403   288305          0     0        0      0          0   \n",
       "147322401   183403   322029          0     0        0      0          0   \n",
       "\n",
       "           explicit  lightfm_scores  \n",
       "0                 0       -4.929688  \n",
       "1                 0       -2.806641  \n",
       "2                 0       -4.921875  \n",
       "3                 0       -6.171875  \n",
       "4                 0       -4.906250  \n",
       "...             ...             ...  \n",
       "147322397         0       -4.164062  \n",
       "147322398         0       -5.886719  \n",
       "147322399         0       -7.441406  \n",
       "147322400         0       -7.707031  \n",
       "147322401         0       -6.457031  \n",
       "\n",
       "[147322402 rows x 9 columns]"
      ]
     },
     "execution_count": 13,
     "metadata": {},
     "output_type": "execute_result"
    }
   ],
   "source": [
    "user_item_data"
   ]
  },
  {
   "cell_type": "code",
   "execution_count": 14,
   "metadata": {},
   "outputs": [],
   "source": [
    "def compute_rolling_features(df,\n",
    "                             group_col,\n",
    "                             target_col,\n",
    "                             lags,\n",
    "                             windows,\n",
    "                             agg_funcs):\n",
    "    \"\"\"\n",
    "    Computes rolling lag, window and expanding window features for a target column within groups of a specified column.\n",
    "\n",
    "    Parameters:\n",
    "        df (pd.DataFrame): Input DataFrame.\n",
    "        group_col (str): Column name to group by.\n",
    "        target_col (str): Column name for which lagged features are computed.\n",
    "        lags (list): List of lag steps to compute.\n",
    "        windows (list): List of window sizes to compute.\n",
    "        agg_funcs (list): List of functions to be used for aggregation.\n",
    "\n",
    "    Returns:\n",
    "        pd.DataFrame: DataFrame with additional rolling features.\n",
    "    \"\"\"\n",
    "    # Create a copy of the DataFrame to avoid modifying the original\n",
    "    result_df = df.copy()\n",
    "    \n",
    "    #########\n",
    "    result_df.loc[-int(len(result_df)*0.15):].like = 0\n",
    "    #########\n",
    "\n",
    "    # Group by the specified column and apply shifting for each lag\n",
    "    grouped = result_df.groupby(group_col, as_index=False)\n",
    "    for lag in tqdm(lags):\n",
    "        result_df[f\"{target_col}_lag_{lag}\"] = grouped[target_col].shift(lag).fillna(0).astype(np.int8)\n",
    "\n",
    "    for window in tqdm(windows):\n",
    "        for agg_func in agg_funcs:\n",
    "            result_df[f\"{target_col}_window_{window}_agg_{agg_func}\"] = grouped[target_col].rolling(window=window, min_periods=0).agg(agg_func).like.astype(np.int16)\n",
    "    \n",
    "    return result_df"
   ]
  },
  {
   "cell_type": "code",
   "execution_count": 15,
   "metadata": {},
   "outputs": [
    {
     "name": "stderr",
     "output_type": "stream",
     "text": [
      "100%|██████████| 4/4 [00:12<00:00,  3.01s/it]\n",
      "100%|██████████| 8/8 [12:36<00:00, 94.55s/it] \n"
     ]
    }
   ],
   "source": [
    "# Compute rolling features for \"like\" with lags 1 and 2\n",
    "lags = list(range(1,5))\n",
    "windows = [2, 5, 10, 20, 50, 100, 200, 500]\n",
    "agg_funcs = [\"sum\",]\n",
    "\n",
    "data_with_rolling_features = compute_rolling_features(user_item_data,\n",
    "                                                      group_col=\"user_id\",\n",
    "                                                      target_col=\"like\",\n",
    "                                                      lags=lags,\n",
    "                                                      windows=windows,\n",
    "                                                      agg_funcs=agg_funcs)"
   ]
  },
  {
   "cell_type": "code",
   "execution_count": 16,
   "metadata": {},
   "outputs": [],
   "source": [
    "columns = ['user_id', 'item_id', 'lightfm_scores', 'source_id', 'duration',\n",
    "       'gender', 'age', 'like_1', 'like_2', 'like_3',\n",
    "       'like_4', 'like_5', 'like_6', 'like_7', 'like_8', 'like_9', 'like_10',\n",
    "       'like_20', 'like_30', 'like_40', 'like_50', 'like_60', 'like_70',\n",
    "       'like_80', 'like_90']\n",
    "target = \"explicit\""
   ]
  },
  {
   "cell_type": "code",
   "execution_count": 17,
   "metadata": {},
   "outputs": [],
   "source": [
    "columns = list(set(data_with_rolling_features.columns) - set(['like', 'dislike', 'explicit', 'bookmarks', 'timespent', 'timespent_rel', 'share']))\n",
    "target = \"explicit\""
   ]
  },
  {
   "cell_type": "code",
   "execution_count": 18,
   "metadata": {},
   "outputs": [],
   "source": [
    "train_df, val_df = train_test_split(data_with_rolling_features[columns+[target]],\n",
    "                                    test_size=0.15,\n",
    "                                    random_state=42,\n",
    "                                    shuffle=False)"
   ]
  },
  {
   "cell_type": "code",
   "execution_count": 18,
   "metadata": {},
   "outputs": [],
   "source": [
    "train_df = data_with_rolling_features[:-len(test_pairs_data)]"
   ]
  },
  {
   "cell_type": "code",
   "execution_count": 19,
   "metadata": {},
   "outputs": [],
   "source": [
    "val_df = data_with_rolling_features[-len(test_pairs_data):]"
   ]
  },
  {
   "cell_type": "markdown",
   "metadata": {},
   "source": [
    "##### catboost"
   ]
  },
  {
   "cell_type": "code",
   "execution_count": 20,
   "metadata": {},
   "outputs": [],
   "source": [
    "model = CatBoostClassifier(verbose=True,\n",
    "                           iterations=100)"
   ]
  },
  {
   "cell_type": "code",
   "execution_count": 21,
   "metadata": {},
   "outputs": [
    {
     "name": "stdout",
     "output_type": "stream",
     "text": [
      "Learning rate set to 0.5\n",
      "0:\tlearn: 0.3698879\ttotal: 958ms\tremaining: 1m 34s\n",
      "1:\tlearn: 0.1972251\ttotal: 1.73s\tremaining: 1m 24s\n",
      "2:\tlearn: 0.1128861\ttotal: 2.53s\tremaining: 1m 21s\n",
      "3:\tlearn: 0.0669209\ttotal: 3.27s\tremaining: 1m 18s\n",
      "4:\tlearn: 0.0406797\ttotal: 4.06s\tremaining: 1m 17s\n",
      "5:\tlearn: 0.0253590\ttotal: 4.85s\tremaining: 1m 15s\n",
      "6:\tlearn: 0.0163223\ttotal: 5.68s\tremaining: 1m 15s\n",
      "7:\tlearn: 0.0109787\ttotal: 6.52s\tremaining: 1m 14s\n",
      "8:\tlearn: 0.0078293\ttotal: 7.38s\tremaining: 1m 14s\n",
      "9:\tlearn: 0.0059903\ttotal: 8.15s\tremaining: 1m 13s\n",
      "10:\tlearn: 0.0049143\ttotal: 8.91s\tremaining: 1m 12s\n",
      "11:\tlearn: 0.0043129\ttotal: 9.68s\tremaining: 1m 10s\n",
      "12:\tlearn: 0.0039805\ttotal: 10.5s\tremaining: 1m 10s\n",
      "13:\tlearn: 0.0038094\ttotal: 11.3s\tremaining: 1m 9s\n",
      "14:\tlearn: 0.0037025\ttotal: 12s\tremaining: 1m 8s\n",
      "15:\tlearn: 0.0036502\ttotal: 12.9s\tremaining: 1m 7s\n",
      "16:\tlearn: 0.0036160\ttotal: 13.7s\tremaining: 1m 6s\n",
      "17:\tlearn: 0.0036015\ttotal: 14.5s\tremaining: 1m 6s\n",
      "18:\tlearn: 0.0035933\ttotal: 15.3s\tremaining: 1m 5s\n",
      "19:\tlearn: 0.0035773\ttotal: 16s\tremaining: 1m 4s\n",
      "20:\tlearn: 0.0035702\ttotal: 17s\tremaining: 1m 3s\n",
      "21:\tlearn: 0.0035682\ttotal: 17.7s\tremaining: 1m 2s\n",
      "22:\tlearn: 0.0035585\ttotal: 18.6s\tremaining: 1m 2s\n",
      "23:\tlearn: 0.0035490\ttotal: 19.4s\tremaining: 1m 1s\n",
      "24:\tlearn: 0.0035457\ttotal: 20.1s\tremaining: 1m\n",
      "25:\tlearn: 0.0035416\ttotal: 21s\tremaining: 59.7s\n",
      "26:\tlearn: 0.0037045\ttotal: 21.9s\tremaining: 59.2s\n",
      "27:\tlearn: 0.0035230\ttotal: 22.8s\tremaining: 58.7s\n",
      "28:\tlearn: 0.0035209\ttotal: 23.7s\tremaining: 58s\n",
      "29:\tlearn: 0.0035148\ttotal: 24.5s\tremaining: 57.1s\n",
      "30:\tlearn: 0.0035105\ttotal: 25.3s\tremaining: 56.4s\n",
      "31:\tlearn: 0.0035049\ttotal: 26.2s\tremaining: 55.7s\n",
      "32:\tlearn: 0.0034981\ttotal: 27.2s\tremaining: 55.2s\n",
      "33:\tlearn: 0.0034958\ttotal: 28s\tremaining: 54.4s\n",
      "34:\tlearn: 0.0034945\ttotal: 28.9s\tremaining: 53.7s\n",
      "35:\tlearn: 0.0034925\ttotal: 29.9s\tremaining: 53.1s\n",
      "36:\tlearn: 0.0034906\ttotal: 30.6s\tremaining: 52.1s\n",
      "37:\tlearn: 0.0034895\ttotal: 31.4s\tremaining: 51.2s\n",
      "38:\tlearn: 0.0034877\ttotal: 32.3s\tremaining: 50.5s\n",
      "39:\tlearn: 0.0034782\ttotal: 33.3s\tremaining: 49.9s\n",
      "40:\tlearn: 0.0034773\ttotal: 33.9s\tremaining: 48.8s\n",
      "41:\tlearn: 0.0034721\ttotal: 34.9s\tremaining: 48.1s\n",
      "42:\tlearn: 0.0034711\ttotal: 35.6s\tremaining: 47.2s\n",
      "43:\tlearn: 0.0034643\ttotal: 36.6s\tremaining: 46.6s\n",
      "44:\tlearn: 0.0034640\ttotal: 37.4s\tremaining: 45.7s\n",
      "45:\tlearn: 0.0034613\ttotal: 38.1s\tremaining: 44.8s\n",
      "46:\tlearn: 0.0034607\ttotal: 38.9s\tremaining: 43.9s\n",
      "47:\tlearn: 0.0034602\ttotal: 39.7s\tremaining: 43s\n",
      "48:\tlearn: 0.0034575\ttotal: 40.7s\tremaining: 42.4s\n",
      "49:\tlearn: 0.0034536\ttotal: 41.8s\tremaining: 41.8s\n",
      "50:\tlearn: 0.0034486\ttotal: 42.8s\tremaining: 41.1s\n",
      "51:\tlearn: 0.0034459\ttotal: 43.8s\tremaining: 40.4s\n",
      "52:\tlearn: 0.0034415\ttotal: 44.7s\tremaining: 39.7s\n",
      "53:\tlearn: 0.0034394\ttotal: 45.4s\tremaining: 38.7s\n",
      "54:\tlearn: 0.0034379\ttotal: 46.4s\tremaining: 38s\n",
      "55:\tlearn: 0.0034373\ttotal: 47.3s\tremaining: 37.1s\n",
      "56:\tlearn: 0.0034349\ttotal: 48.2s\tremaining: 36.4s\n",
      "57:\tlearn: 0.0034491\ttotal: 49.4s\tremaining: 35.8s\n",
      "58:\tlearn: 0.0034313\ttotal: 50.5s\tremaining: 35.1s\n",
      "59:\tlearn: 0.0034238\ttotal: 51.7s\tremaining: 34.4s\n",
      "60:\tlearn: 0.0034214\ttotal: 52.5s\tremaining: 33.6s\n",
      "61:\tlearn: 0.0034210\ttotal: 53.3s\tremaining: 32.6s\n",
      "62:\tlearn: 0.0034202\ttotal: 54.1s\tremaining: 31.8s\n",
      "63:\tlearn: 0.0034183\ttotal: 55.1s\tremaining: 31s\n",
      "64:\tlearn: 0.0034146\ttotal: 56.2s\tremaining: 30.2s\n",
      "65:\tlearn: 0.0034133\ttotal: 57s\tremaining: 29.4s\n",
      "66:\tlearn: 0.0034108\ttotal: 58.1s\tremaining: 28.6s\n",
      "67:\tlearn: 0.0034105\ttotal: 58.8s\tremaining: 27.7s\n",
      "68:\tlearn: 0.0034094\ttotal: 59.8s\tremaining: 26.9s\n",
      "69:\tlearn: 0.0034074\ttotal: 1m\tremaining: 26s\n",
      "70:\tlearn: 0.0034064\ttotal: 1m 1s\tremaining: 25.1s\n",
      "71:\tlearn: 0.0034061\ttotal: 1m 2s\tremaining: 24.2s\n",
      "72:\tlearn: 0.0034055\ttotal: 1m 2s\tremaining: 23.3s\n",
      "73:\tlearn: 0.0034047\ttotal: 1m 3s\tremaining: 22.4s\n",
      "74:\tlearn: 0.0034038\ttotal: 1m 4s\tremaining: 21.6s\n",
      "75:\tlearn: 0.0034027\ttotal: 1m 5s\tremaining: 20.7s\n",
      "76:\tlearn: 0.0034020\ttotal: 1m 6s\tremaining: 19.8s\n",
      "77:\tlearn: 0.0033969\ttotal: 1m 7s\tremaining: 19s\n",
      "78:\tlearn: 0.0033959\ttotal: 1m 8s\tremaining: 18.1s\n",
      "79:\tlearn: 0.0033945\ttotal: 1m 8s\tremaining: 17.2s\n",
      "80:\tlearn: 0.0033940\ttotal: 1m 9s\tremaining: 16.3s\n",
      "81:\tlearn: 0.0033929\ttotal: 1m 10s\tremaining: 15.5s\n",
      "82:\tlearn: 0.0033909\ttotal: 1m 11s\tremaining: 14.6s\n",
      "83:\tlearn: 0.0033902\ttotal: 1m 12s\tremaining: 13.7s\n",
      "84:\tlearn: 0.0033899\ttotal: 1m 12s\tremaining: 12.9s\n",
      "85:\tlearn: 0.0033888\ttotal: 1m 13s\tremaining: 12s\n",
      "86:\tlearn: 0.0033883\ttotal: 1m 14s\tremaining: 11.1s\n",
      "87:\tlearn: 0.0033871\ttotal: 1m 15s\tremaining: 10.3s\n",
      "88:\tlearn: 0.0033865\ttotal: 1m 16s\tremaining: 9.44s\n",
      "89:\tlearn: 0.0033848\ttotal: 1m 17s\tremaining: 8.59s\n",
      "90:\tlearn: 0.0033840\ttotal: 1m 18s\tremaining: 7.75s\n",
      "91:\tlearn: 0.0033834\ttotal: 1m 19s\tremaining: 6.89s\n",
      "92:\tlearn: 0.0033829\ttotal: 1m 20s\tremaining: 6.03s\n",
      "93:\tlearn: 0.0033820\ttotal: 1m 20s\tremaining: 5.16s\n",
      "94:\tlearn: 0.0033803\ttotal: 1m 22s\tremaining: 4.32s\n",
      "95:\tlearn: 0.0033797\ttotal: 1m 22s\tremaining: 3.45s\n",
      "96:\tlearn: 0.0033793\ttotal: 1m 23s\tremaining: 2.58s\n",
      "97:\tlearn: 0.0033781\ttotal: 1m 24s\tremaining: 1.72s\n",
      "98:\tlearn: 0.0033778\ttotal: 1m 25s\tremaining: 861ms\n",
      "99:\tlearn: 0.0033767\ttotal: 1m 26s\tremaining: 0us\n"
     ]
    },
    {
     "data": {
      "text/plain": [
       "<catboost.core.CatBoostClassifier at 0x7f1005fd7f10>"
      ]
     },
     "execution_count": 21,
     "metadata": {},
     "output_type": "execute_result"
    }
   ],
   "source": [
    "model.fit(train_df[-10000000:][columns],\n",
    "          train_df[-10000000:][target])"
   ]
  },
  {
   "cell_type": "code",
   "execution_count": 22,
   "metadata": {},
   "outputs": [],
   "source": [
    "catboost_predict = model.predict(val_df[columns])"
   ]
  },
  {
   "cell_type": "code",
   "execution_count": 23,
   "metadata": {},
   "outputs": [],
   "source": [
    "catboost_proba = model.predict_proba(val_df[columns])"
   ]
  },
  {
   "cell_type": "code",
   "execution_count": 1,
   "metadata": {},
   "outputs": [
    {
     "ename": "NameError",
     "evalue": "name 'catboost_proba' is not defined",
     "output_type": "error",
     "traceback": [
      "\u001b[0;31m---------------------------------------------------------------------------\u001b[0m",
      "\u001b[0;31mNameError\u001b[0m                                 Traceback (most recent call last)",
      "\u001b[1;32m/home/sokolov/workspace/vk_recsys/catboost_clf.ipynb Cell 46\u001b[0m line \u001b[0;36m1\n\u001b[0;32m----> <a href='vscode-notebook-cell:/home/sokolov/workspace/vk_recsys/catboost_clf.ipynb#Y244sZmlsZQ%3D%3D?line=0'>1</a>\u001b[0m catboost_proba\n",
      "\u001b[0;31mNameError\u001b[0m: name 'catboost_proba' is not defined"
     ]
    }
   ],
   "source": [
    "catboost_proba[]"
   ]
  },
  {
   "cell_type": "code",
   "execution_count": 24,
   "metadata": {},
   "outputs": [],
   "source": [
    "test_pairs_data[\"predict\"] = catboost_proba[:,2]\n",
    "test_pairs_data.to_csv(\"./submission.csv\",index=False)"
   ]
  },
  {
   "cell_type": "code",
   "execution_count": 35,
   "metadata": {},
   "outputs": [
    {
     "data": {
      "text/html": [
       "<div>\n",
       "<style scoped>\n",
       "    .dataframe tbody tr th:only-of-type {\n",
       "        vertical-align: middle;\n",
       "    }\n",
       "\n",
       "    .dataframe tbody tr th {\n",
       "        vertical-align: top;\n",
       "    }\n",
       "\n",
       "    .dataframe thead th {\n",
       "        text-align: right;\n",
       "    }\n",
       "</style>\n",
       "<table border=\"1\" class=\"dataframe\">\n",
       "  <thead>\n",
       "    <tr style=\"text-align: right;\">\n",
       "      <th></th>\n",
       "      <th>user_id</th>\n",
       "      <th>item_id</th>\n",
       "    </tr>\n",
       "  </thead>\n",
       "  <tbody>\n",
       "    <tr>\n",
       "      <th>0</th>\n",
       "      <td>1</td>\n",
       "      <td>7363</td>\n",
       "    </tr>\n",
       "    <tr>\n",
       "      <th>1</th>\n",
       "      <td>1</td>\n",
       "      <td>73770</td>\n",
       "    </tr>\n",
       "    <tr>\n",
       "      <th>2</th>\n",
       "      <td>1</td>\n",
       "      <td>75700</td>\n",
       "    </tr>\n",
       "    <tr>\n",
       "      <th>3</th>\n",
       "      <td>1</td>\n",
       "      <td>81204</td>\n",
       "    </tr>\n",
       "    <tr>\n",
       "      <th>4</th>\n",
       "      <td>1</td>\n",
       "      <td>110249</td>\n",
       "    </tr>\n",
       "    <tr>\n",
       "      <th>...</th>\n",
       "      <td>...</td>\n",
       "      <td>...</td>\n",
       "    </tr>\n",
       "    <tr>\n",
       "      <th>1655115</th>\n",
       "      <td>183403</td>\n",
       "      <td>235097</td>\n",
       "    </tr>\n",
       "    <tr>\n",
       "      <th>1655116</th>\n",
       "      <td>183403</td>\n",
       "      <td>267411</td>\n",
       "    </tr>\n",
       "    <tr>\n",
       "      <th>1655117</th>\n",
       "      <td>183403</td>\n",
       "      <td>273646</td>\n",
       "    </tr>\n",
       "    <tr>\n",
       "      <th>1655118</th>\n",
       "      <td>183403</td>\n",
       "      <td>288305</td>\n",
       "    </tr>\n",
       "    <tr>\n",
       "      <th>1655119</th>\n",
       "      <td>183403</td>\n",
       "      <td>322029</td>\n",
       "    </tr>\n",
       "  </tbody>\n",
       "</table>\n",
       "<p>1655120 rows × 2 columns</p>\n",
       "</div>"
      ],
      "text/plain": [
       "         user_id  item_id\n",
       "0              1     7363\n",
       "1              1    73770\n",
       "2              1    75700\n",
       "3              1    81204\n",
       "4              1   110249\n",
       "...          ...      ...\n",
       "1655115   183403   235097\n",
       "1655116   183403   267411\n",
       "1655117   183403   273646\n",
       "1655118   183403   288305\n",
       "1655119   183403   322029\n",
       "\n",
       "[1655120 rows x 2 columns]"
      ]
     },
     "execution_count": 35,
     "metadata": {},
     "output_type": "execute_result"
    }
   ],
   "source": [
    "test_pairs_data"
   ]
  },
  {
   "cell_type": "code",
   "execution_count": 34,
   "metadata": {},
   "outputs": [
    {
     "data": {
      "text/plain": [
       "(1655120,)"
      ]
     },
     "execution_count": 34,
     "metadata": {},
     "output_type": "execute_result"
    }
   ],
   "source": [
    "catboost_predict.flatten().shape"
   ]
  },
  {
   "cell_type": "code",
   "execution_count": 25,
   "metadata": {},
   "outputs": [
    {
     "data": {
      "text/plain": [
       "array([-1,  0,  1])"
      ]
     },
     "execution_count": 25,
     "metadata": {},
     "output_type": "execute_result"
    }
   ],
   "source": [
    "model.classes_"
   ]
  },
  {
   "cell_type": "code",
   "execution_count": 36,
   "metadata": {},
   "outputs": [
    {
     "data": {
      "image/png": "[encoded data removed]",
      "text/plain": [
       "<Figure size 1000x600 with 1 Axes>"
      ]
     },
     "metadata": {},
     "output_type": "display_data"
    }
   ],
   "source": [
    "plot_feature_importances(model, graphic=True)"
   ]
  },
  {
   "cell_type": "code",
   "execution_count": 27,
   "metadata": {},
   "outputs": [
    {
     "name": "stderr",
     "output_type": "stream",
     "text": [
      "100%|██████████| 181721/181721 [00:21<00:00, 8514.17it/s]\n"
     ]
    },
    {
     "data": {
      "text/plain": [
       "0.9842272982076817"
      ]
     },
     "execution_count": 27,
     "metadata": {},
     "output_type": "execute_result"
    }
   ],
   "source": [
    "evaluate(val_df.user_id.values,\n",
    "         val_df[target].values,\n",
    "         catboost_predict.flatten())"
   ]
  },
  {
   "cell_type": "code",
   "execution_count": 36,
   "metadata": {},
   "outputs": [
    {
     "name": "stderr",
     "output_type": "stream",
     "text": [
      "100%|██████████| 181721/181721 [00:52<00:00, 3488.98it/s]\n"
     ]
    },
    {
     "data": {
      "text/plain": [
       "0.015931021937499436"
      ]
     },
     "execution_count": 36,
     "metadata": {},
     "output_type": "execute_result"
    }
   ],
   "source": [
    "evaluate(val_df.user_id.values,\n",
    "         val_df[target].values,\n",
    "         catboost_proba[:,0])"
   ]
  },
  {
   "cell_type": "code",
   "execution_count": 37,
   "metadata": {},
   "outputs": [
    {
     "name": "stderr",
     "output_type": "stream",
     "text": [
      "100%|██████████| 181721/181721 [00:51<00:00, 3496.19it/s]\n"
     ]
    },
    {
     "data": {
      "text/plain": [
       "0.016609268323484652"
      ]
     },
     "execution_count": 37,
     "metadata": {},
     "output_type": "execute_result"
    }
   ],
   "source": [
    "evaluate(val_df.user_id.values,\n",
    "         val_df[target].values,\n",
    "         catboost_proba[:,1])"
   ]
  },
  {
   "cell_type": "code",
   "execution_count": 38,
   "metadata": {},
   "outputs": [
    {
     "name": "stderr",
     "output_type": "stream",
     "text": [
      "100%|██████████| 181721/181721 [00:52<00:00, 3456.46it/s]\n"
     ]
    },
    {
     "data": {
      "text/plain": [
       "0.9833907316765154"
      ]
     },
     "execution_count": 38,
     "metadata": {},
     "output_type": "execute_result"
    }
   ],
   "source": [
    "evaluate(val_df.user_id.values,\n",
    "         val_df[target].values,\n",
    "         -catboost_proba[:,1])"
   ]
  },
  {
   "cell_type": "code",
   "execution_count": 66,
   "metadata": {},
   "outputs": [
    {
     "name": "stderr",
     "output_type": "stream",
     "text": [
      "100%|██████████| 181721/181721 [00:51<00:00, 3519.39it/s]\n"
     ]
    },
    {
     "data": {
      "text/plain": [
       "0.6186407527015462"
      ]
     },
     "execution_count": 66,
     "metadata": {},
     "output_type": "execute_result"
    }
   ],
   "source": [
    "evaluate(val_df.user_id.values,\n",
    "         val_df[target].values,\n",
    "         catboost_proba[:,2])"
   ]
  },
  {
   "cell_type": "code",
   "execution_count": 40,
   "metadata": {},
   "outputs": [
    {
     "name": "stderr",
     "output_type": "stream",
     "text": [
      "100%|██████████| 181721/181721 [00:51<00:00, 3549.42it/s]\n"
     ]
    },
    {
     "data": {
      "text/plain": [
       "0.6206784531327687"
      ]
     },
     "execution_count": 40,
     "metadata": {},
     "output_type": "execute_result"
    }
   ],
   "source": [
    "evaluate(val_df.user_id.values,\n",
    "         val_df[target].values,\n",
    "         val_df.lightfm_scores.values)"
   ]
  },
  {
   "cell_type": "markdown",
   "metadata": {},
   "source": [
    "i want to fucking make it work without leak"
   ]
  }
 ],
 "metadata": {
  "kernelspec": {
   "display_name": "vk_env",
   "language": "python",
   "name": "python3"
  },
  "language_info": {
   "codemirror_mode": {
    "name": "ipython",
    "version": 3
   },
   "file_extension": ".py",
   "mimetype": "text/x-python",
   "name": "python",
   "nbconvert_exporter": "python",
   "pygments_lexer": "ipython3",
   "version": "3.10.12"
  }
 },
 "nbformat": 4,
 "nbformat_minor": 2
}
