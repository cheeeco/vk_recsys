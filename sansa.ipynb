{
 "cells": [
  {
   "cell_type": "code",
   "execution_count": 1,
   "metadata": {},
   "outputs": [],
   "source": [
    "import pandas as pd\n",
    "from sklearn.model_selection import train_test_split\n",
    "from scipy.sparse import csr_matrix, coo_matrix"
   ]
  },
  {
   "cell_type": "code",
   "execution_count": 2,
   "metadata": {},
   "outputs": [],
   "source": [
    "from utils import evaluate, load_data"
   ]
  },
  {
   "cell_type": "code",
   "execution_count": 3,
   "metadata": {},
   "outputs": [],
   "source": [
    "pd.set_option('display.max_rows', 100)"
   ]
  },
  {
   "cell_type": "markdown",
   "metadata": {},
   "source": [
    "##### read data"
   ]
  },
  {
   "cell_type": "code",
   "execution_count": 4,
   "metadata": {},
   "outputs": [],
   "source": [
    "user_item_data, user_meta_data, item_meta_data, test_pairs_data = load_data()"
   ]
  },
  {
   "cell_type": "code",
   "execution_count": 5,
   "metadata": {},
   "outputs": [],
   "source": [
    "user_item_data = user_item_data.merge(\n",
    "    item_meta_data.drop(columns=\"embeddings\"), on=\"item_id\", how=\"left\"\n",
    ")"
   ]
  },
  {
   "cell_type": "code",
   "execution_count": 6,
   "metadata": {},
   "outputs": [],
   "source": [
    "user_item_data[\"timespent_rel\"] = (\n",
    "    user_item_data[\"timespent\"] / user_item_data[\"duration\"]\n",
    ")"
   ]
  },
  {
   "cell_type": "code",
   "execution_count": 7,
   "metadata": {},
   "outputs": [],
   "source": [
    "share_weight = 10\n",
    "bookmarks_weight = 1\n",
    "timespent_rel_weight = 50"
   ]
  },
  {
   "cell_type": "code",
   "execution_count": 8,
   "metadata": {},
   "outputs": [],
   "source": [
    "user_item_data[\"weighted_target\"] = user_item_data[\"like\"]*(\n",
    "    1 + \n",
    "    share_weight*user_item_data.share + \n",
    "    bookmarks_weight*user_item_data.bookmarks + \n",
    "    timespent_rel_weight*user_item_data.timespent_rel)"
   ]
  },
  {
   "cell_type": "markdown",
   "metadata": {},
   "source": [
    "##### split data"
   ]
  },
  {
   "cell_type": "code",
   "execution_count": 9,
   "metadata": {},
   "outputs": [],
   "source": [
    "ui_train, ui_val = train_test_split(user_item_data,\n",
    "                                    test_size=0.15,\n",
    "                                    random_state=42,\n",
    "                                    shuffle=False)"
   ]
  },
  {
   "cell_type": "code",
   "execution_count": 10,
   "metadata": {},
   "outputs": [],
   "source": [
    "u_train = ui_train.user_id\n",
    "i_train = ui_train.item_id\n",
    "likes_train = ui_train.like\n",
    "dislikes_train = ui_train.dislike\n",
    "\n",
    "u_val = ui_val.user_id\n",
    "i_val = ui_val.item_id\n",
    "likes_val = ui_val.like\n",
    "dislikes_val = ui_val.dislike"
   ]
  },
  {
   "cell_type": "code",
   "execution_count": 11,
   "metadata": {},
   "outputs": [],
   "source": [
    "weights = coo_matrix((ui_train.weighted_target, (u_train, i_train)))"
   ]
  },
  {
   "cell_type": "code",
   "execution_count": 18,
   "metadata": {},
   "outputs": [],
   "source": [
    "sparse_train = csr_matrix((likes_train-dislikes_train, (u_train, i_train)))\n",
    "sparse_val = coo_matrix((likes_val-dislikes_val, (u_val, i_val)))"
   ]
  },
  {
   "cell_type": "code",
   "execution_count": 13,
   "metadata": {},
   "outputs": [
    {
     "name": "stderr",
     "output_type": "stream",
     "text": [
      "/home/sokolov/workspace/vk_recsys/vk_env/lib/python3.10/site-packages/numba/core/errors.py:194: UserWarning: Insufficiently recent colorama version found. Numba requires colorama >= 0.3.9\n",
      "  warnings.warn(msg)\n"
     ]
    }
   ],
   "source": [
    "from sansa import ICFGramianFactorizerConfig\n",
    "\n",
    "factorizer_config = ICFGramianFactorizerConfig(\n",
    "    factorization_shift_step = 1e-3,  # initial diagonal shift if incomplete factorization fails\n",
    "    factorization_shift_multiplier = 2.0,  # multiplier for the shift for subsequent attempts\n",
    ")"
   ]
  },
  {
   "cell_type": "code",
   "execution_count": 14,
   "metadata": {},
   "outputs": [],
   "source": [
    "from sansa import UMRUnitLowerTriangleInverterConfig\n",
    "\n",
    "inverter_config = UMRUnitLowerTriangleInverterConfig(\n",
    "    scans=1,  # number of scans through all columns of the matrix\n",
    "    finetune_steps=5,  # number of finetuning steps, targeting worst columns\n",
    ")"
   ]
  },
  {
   "cell_type": "code",
   "execution_count": 15,
   "metadata": {},
   "outputs": [],
   "source": [
    "from sansa import SANSAConfig\n",
    "\n",
    "config = SANSAConfig(\n",
    "    l2 = 20.0,  # regularization strength\n",
    "    weight_matrix_density = 5e-5,  # desired density of weights\n",
    "    gramian_factorizer_config = factorizer_config,  # factorizer configuration\n",
    "    lower_triangle_inverter_config = inverter_config,  # inverter configuration\n",
    ")"
   ]
  },
  {
   "cell_type": "code",
   "execution_count": 16,
   "metadata": {},
   "outputs": [
    {
     "name": "stderr",
     "output_type": "stream",
     "text": [
      "INFO:sansa.model:Computing column norms of X^TX...\n"
     ]
    },
    {
     "ename": "MemoryError",
     "evalue": "Unable to allocate 123. GiB for an array with shape (16572477719,) and data type int64",
     "output_type": "error",
     "traceback": [
      "\u001b[0;31m---------------------------------------------------------------------------\u001b[0m",
      "\u001b[0;31mMemoryError\u001b[0m                               Traceback (most recent call last)",
      "\u001b[1;32m/home/sokolov/workspace/vk_recsys/sansa.ipynb Cell 18\u001b[0m line \u001b[0;36m9\n\u001b[1;32m      <a href='vscode-notebook-cell:/home/sokolov/workspace/vk_recsys/sansa.ipynb#W3sZmlsZQ%3D%3D?line=5'>6</a>\u001b[0m model \u001b[39m=\u001b[39m SANSA(config)\n\u001b[1;32m      <a href='vscode-notebook-cell:/home/sokolov/workspace/vk_recsys/sansa.ipynb#W3sZmlsZQ%3D%3D?line=7'>8</a>\u001b[0m \u001b[39m# Train model on the user-item matrix\u001b[39;00m\n\u001b[0;32m----> <a href='vscode-notebook-cell:/home/sokolov/workspace/vk_recsys/sansa.ipynb#W3sZmlsZQ%3D%3D?line=8'>9</a>\u001b[0m model\u001b[39m.\u001b[39;49mfit(X)\n",
      "File \u001b[0;32m~/workspace/vk_recsys/vk_env/lib/python3.10/site-packages/sansa/model.py:90\u001b[0m, in \u001b[0;36mSANSA.fit\u001b[0;34m(self, training_matrix, compute_gramian)\u001b[0m\n\u001b[1;32m     86\u001b[0m X \u001b[39m=\u001b[39m X\u001b[39m.\u001b[39mastype(np\u001b[39m.\u001b[39mfloat32)\n\u001b[1;32m     88\u001b[0m \u001b[39mif\u001b[39;00m \u001b[39mself\u001b[39m\u001b[39m.\u001b[39mfactorization_method \u001b[39m==\u001b[39m FactorizationMethod\u001b[39m.\u001b[39mICF:\n\u001b[1;32m     89\u001b[0m     \u001b[39m# scale matrix X\u001b[39;00m\n\u001b[0;32m---> 90\u001b[0m     _apply_icf_scaling(X, compute_gramian)\n\u001b[1;32m     92\u001b[0m \u001b[39m# Compute LDL^T decomposition of\u001b[39;00m\n\u001b[1;32m     93\u001b[0m \u001b[39m# - P(X^TX + self.l2 * I)P^T if compute_gramian=True\u001b[39;00m\n\u001b[1;32m     94\u001b[0m \u001b[39m# - P(X + self.l2 * I)P^T if compute_gramian=False\u001b[39;00m\n\u001b[1;32m     95\u001b[0m logger\u001b[39m.\u001b[39minfo(\u001b[39m\"\u001b[39m\u001b[39mComputing LDL^T decomposition of permuted item-item matrix...\u001b[39m\u001b[39m\"\u001b[39m)\n",
      "File \u001b[0;32m~/workspace/vk_recsys/vk_env/lib/python3.10/site-packages/sansa/model.py:32\u001b[0m, in \u001b[0;36m_apply_icf_scaling\u001b[0;34m(X, compute_gramian)\u001b[0m\n\u001b[1;32m     29\u001b[0m \u001b[39mif\u001b[39;00m compute_gramian:\n\u001b[1;32m     30\u001b[0m     \u001b[39m# Inplace scale columns of X by square roots of column norms of X^TX.\u001b[39;00m\n\u001b[1;32m     31\u001b[0m     logger\u001b[39m.\u001b[39minfo(\u001b[39mf\u001b[39m\u001b[39m\"\u001b[39m\u001b[39mComputing column norms of X^TX...\u001b[39m\u001b[39m\"\u001b[39m)\n\u001b[0;32m---> 32\u001b[0m     da \u001b[39m=\u001b[39m np\u001b[39m.\u001b[39msqrt(np\u001b[39m.\u001b[39msqrt(get_squared_norms_along_compressed_axis(matmat(X\u001b[39m.\u001b[39;49mT, X))))\n\u001b[1;32m     33\u001b[0m     \u001b[39m# Divide columns of X by the computed square roots of row norms of X^TX\u001b[39;00m\n\u001b[1;32m     34\u001b[0m     da[da \u001b[39m==\u001b[39m \u001b[39m0\u001b[39m] \u001b[39m=\u001b[39m \u001b[39m1\u001b[39m  \u001b[39m# ignore zero elements\u001b[39;00m\n",
      "File \u001b[0;32m~/workspace/vk_recsys/vk_env/lib/python3.10/site-packages/sansa/utils/matmat.py:25\u001b[0m, in \u001b[0;36mmatmat\u001b[0;34m(A, B)\u001b[0m\n\u001b[1;32m     15\u001b[0m \u001b[39mdef\u001b[39;00m \u001b[39mmatmat\u001b[39m(\n\u001b[1;32m     16\u001b[0m     A: Union[sp\u001b[39m.\u001b[39mcsr_matrix, sp\u001b[39m.\u001b[39mcsc_matrix],\n\u001b[1;32m     17\u001b[0m     B: Union[sp\u001b[39m.\u001b[39mcsr_matrix, sp\u001b[39m.\u001b[39mcsc_matrix],\n\u001b[1;32m     18\u001b[0m ) \u001b[39m-\u001b[39m\u001b[39m>\u001b[39m Union[sp\u001b[39m.\u001b[39mcsr_matrix, sp\u001b[39m.\u001b[39mcsc_matrix]:\n\u001b[1;32m     19\u001b[0m \u001b[39m    \u001b[39m\u001b[39m\"\"\"\u001b[39;00m\n\u001b[1;32m     20\u001b[0m \u001b[39m    Matrix multiplication of two sparse matrices. Fast if they are in the same format.\u001b[39;00m\n\u001b[1;32m     21\u001b[0m \u001b[39m    :param A: sparse matrix\u001b[39;00m\n\u001b[1;32m     22\u001b[0m \u001b[39m    :param B: sparse matrix\u001b[39;00m\n\u001b[1;32m     23\u001b[0m \u001b[39m    :return: product of A and B\u001b[39;00m\n\u001b[1;32m     24\u001b[0m \u001b[39m    \"\"\"\u001b[39;00m\n\u001b[0;32m---> 25\u001b[0m     \u001b[39mreturn\u001b[39;00m A\u001b[39m.\u001b[39;49mdot(B)\n",
      "File \u001b[0;32m~/.local/lib/python3.10/site-packages/scipy/sparse/_base.py:450\u001b[0m, in \u001b[0;36m_spbase.dot\u001b[0;34m(self, other)\u001b[0m\n\u001b[1;32m    448\u001b[0m     \u001b[39mreturn\u001b[39;00m \u001b[39mself\u001b[39m \u001b[39m*\u001b[39m other\n\u001b[1;32m    449\u001b[0m \u001b[39melse\u001b[39;00m:\n\u001b[0;32m--> 450\u001b[0m     \u001b[39mreturn\u001b[39;00m \u001b[39mself\u001b[39;49m \u001b[39m@\u001b[39;49m other\n",
      "File \u001b[0;32m~/.local/lib/python3.10/site-packages/scipy/sparse/_base.py:669\u001b[0m, in \u001b[0;36m_spbase.__matmul__\u001b[0;34m(self, other)\u001b[0m\n\u001b[1;32m    666\u001b[0m \u001b[39mif\u001b[39;00m isscalarlike(other):\n\u001b[1;32m    667\u001b[0m     \u001b[39mraise\u001b[39;00m \u001b[39mValueError\u001b[39;00m(\u001b[39m\"\u001b[39m\u001b[39mScalar operands are not allowed, \u001b[39m\u001b[39m\"\u001b[39m\n\u001b[1;32m    668\u001b[0m                      \u001b[39m\"\u001b[39m\u001b[39muse \u001b[39m\u001b[39m'\u001b[39m\u001b[39m*\u001b[39m\u001b[39m'\u001b[39m\u001b[39m instead\u001b[39m\u001b[39m\"\u001b[39m)\n\u001b[0;32m--> 669\u001b[0m \u001b[39mreturn\u001b[39;00m \u001b[39mself\u001b[39;49m\u001b[39m.\u001b[39;49m_matmul_dispatch(other)\n",
      "File \u001b[0;32m~/.local/lib/python3.10/site-packages/scipy/sparse/_base.py:580\u001b[0m, in \u001b[0;36m_spbase._matmul_dispatch\u001b[0;34m(self, other)\u001b[0m\n\u001b[1;32m    578\u001b[0m     \u001b[39mif\u001b[39;00m \u001b[39mself\u001b[39m\u001b[39m.\u001b[39mshape[\u001b[39m-\u001b[39m\u001b[39m1\u001b[39m] \u001b[39m!=\u001b[39m other\u001b[39m.\u001b[39mshape[\u001b[39m0\u001b[39m]:\n\u001b[1;32m    579\u001b[0m         \u001b[39mraise\u001b[39;00m \u001b[39mValueError\u001b[39;00m(\u001b[39m'\u001b[39m\u001b[39mdimension mismatch\u001b[39m\u001b[39m'\u001b[39m)\n\u001b[0;32m--> 580\u001b[0m     \u001b[39mreturn\u001b[39;00m \u001b[39mself\u001b[39;49m\u001b[39m.\u001b[39;49m_matmul_sparse(other)\n\u001b[1;32m    582\u001b[0m \u001b[39m# If it's a list or whatever, treat it like an array\u001b[39;00m\n\u001b[1;32m    583\u001b[0m other_a \u001b[39m=\u001b[39m np\u001b[39m.\u001b[39masanyarray(other)\n",
      "File \u001b[0;32m~/.local/lib/python3.10/site-packages/scipy/sparse/_base.py:645\u001b[0m, in \u001b[0;36m_spbase._matmul_sparse\u001b[0;34m(self, other)\u001b[0m\n\u001b[1;32m    644\u001b[0m \u001b[39mdef\u001b[39;00m \u001b[39m_matmul_sparse\u001b[39m(\u001b[39mself\u001b[39m, other):\n\u001b[0;32m--> 645\u001b[0m     \u001b[39mreturn\u001b[39;00m \u001b[39mself\u001b[39;49m\u001b[39m.\u001b[39;49mtocsr()\u001b[39m.\u001b[39;49m_matmul_sparse(other)\n",
      "File \u001b[0;32m~/.local/lib/python3.10/site-packages/scipy/sparse/_compressed.py:550\u001b[0m, in \u001b[0;36m_cs_matrix._matmul_sparse\u001b[0;34m(self, other)\u001b[0m\n\u001b[1;32m    545\u001b[0m idx_dtype \u001b[39m=\u001b[39m \u001b[39mself\u001b[39m\u001b[39m.\u001b[39m_get_index_dtype((\u001b[39mself\u001b[39m\u001b[39m.\u001b[39mindptr, \u001b[39mself\u001b[39m\u001b[39m.\u001b[39mindices,\n\u001b[1;32m    546\u001b[0m                              other\u001b[39m.\u001b[39mindptr, other\u001b[39m.\u001b[39mindices),\n\u001b[1;32m    547\u001b[0m                             maxval\u001b[39m=\u001b[39mnnz)\n\u001b[1;32m    549\u001b[0m indptr \u001b[39m=\u001b[39m np\u001b[39m.\u001b[39mempty(major_dim \u001b[39m+\u001b[39m \u001b[39m1\u001b[39m, dtype\u001b[39m=\u001b[39midx_dtype)\n\u001b[0;32m--> 550\u001b[0m indices \u001b[39m=\u001b[39m np\u001b[39m.\u001b[39;49mempty(nnz, dtype\u001b[39m=\u001b[39;49midx_dtype)\n\u001b[1;32m    551\u001b[0m data \u001b[39m=\u001b[39m np\u001b[39m.\u001b[39mempty(nnz, dtype\u001b[39m=\u001b[39mupcast(\u001b[39mself\u001b[39m\u001b[39m.\u001b[39mdtype, other\u001b[39m.\u001b[39mdtype))\n\u001b[1;32m    553\u001b[0m fn \u001b[39m=\u001b[39m \u001b[39mgetattr\u001b[39m(_sparsetools, \u001b[39mself\u001b[39m\u001b[39m.\u001b[39mformat \u001b[39m+\u001b[39m \u001b[39m'\u001b[39m\u001b[39m_matmat\u001b[39m\u001b[39m'\u001b[39m)\n",
      "\u001b[0;31mMemoryError\u001b[0m: Unable to allocate 123. GiB for an array with shape (16572477719,) and data type int64"
     ]
    }
   ],
   "source": [
    "from sansa import SANSA\n",
    "\n",
    "X = sparse_train\n",
    "\n",
    "# Instantiate model with the config\n",
    "model = SANSA(config)\n",
    "\n",
    "# Train model on the user-item matrix\n",
    "model.fit(X)"
   ]
  },
  {
   "cell_type": "code",
   "execution_count": 19,
   "metadata": {},
   "outputs": [
    {
     "name": "stderr",
     "output_type": "stream",
     "text": [
      "INFO:sansa.model:Computing row norms of X...\n"
     ]
    },
    {
     "ename": "AttributeError",
     "evalue": "'coo_matrix' object has no attribute 'indptr'",
     "output_type": "error",
     "traceback": [
      "\u001b[0;31m---------------------------------------------------------------------------\u001b[0m",
      "\u001b[0;31mAttributeError\u001b[0m                            Traceback (most recent call last)",
      "\u001b[1;32m/home/sokolov/workspace/vk_recsys/sansa.ipynb Cell 19\u001b[0m line \u001b[0;36m2\n\u001b[1;32m      <a href='vscode-notebook-cell:/home/sokolov/workspace/vk_recsys/sansa.ipynb#X25sZmlsZQ%3D%3D?line=0'>1</a>\u001b[0m \u001b[39m# or on a precomputed symmetric item-item matrix\u001b[39;00m\n\u001b[0;32m----> <a href='vscode-notebook-cell:/home/sokolov/workspace/vk_recsys/sansa.ipynb#X25sZmlsZQ%3D%3D?line=1'>2</a>\u001b[0m model\u001b[39m.\u001b[39;49mfit(X, compute_gramian\u001b[39m=\u001b[39;49m\u001b[39mFalse\u001b[39;49;00m)\n",
      "File \u001b[0;32m~/workspace/vk_recsys/vk_env/lib/python3.10/site-packages/sansa/model.py:90\u001b[0m, in \u001b[0;36mSANSA.fit\u001b[0;34m(self, training_matrix, compute_gramian)\u001b[0m\n\u001b[1;32m     86\u001b[0m X \u001b[39m=\u001b[39m X\u001b[39m.\u001b[39mastype(np\u001b[39m.\u001b[39mfloat32)\n\u001b[1;32m     88\u001b[0m \u001b[39mif\u001b[39;00m \u001b[39mself\u001b[39m\u001b[39m.\u001b[39mfactorization_method \u001b[39m==\u001b[39m FactorizationMethod\u001b[39m.\u001b[39mICF:\n\u001b[1;32m     89\u001b[0m     \u001b[39m# scale matrix X\u001b[39;00m\n\u001b[0;32m---> 90\u001b[0m     _apply_icf_scaling(X, compute_gramian)\n\u001b[1;32m     92\u001b[0m \u001b[39m# Compute LDL^T decomposition of\u001b[39;00m\n\u001b[1;32m     93\u001b[0m \u001b[39m# - P(X^TX + self.l2 * I)P^T if compute_gramian=True\u001b[39;00m\n\u001b[1;32m     94\u001b[0m \u001b[39m# - P(X + self.l2 * I)P^T if compute_gramian=False\u001b[39;00m\n\u001b[1;32m     95\u001b[0m logger\u001b[39m.\u001b[39minfo(\u001b[39m\"\u001b[39m\u001b[39mComputing LDL^T decomposition of permuted item-item matrix...\u001b[39m\u001b[39m\"\u001b[39m)\n",
      "File \u001b[0;32m~/workspace/vk_recsys/vk_env/lib/python3.10/site-packages/sansa/model.py:41\u001b[0m, in \u001b[0;36m_apply_icf_scaling\u001b[0;34m(X, compute_gramian)\u001b[0m\n\u001b[1;32m     38\u001b[0m \u001b[39melse\u001b[39;00m:\n\u001b[1;32m     39\u001b[0m     \u001b[39m# Inplace scale rows and columns of X by square roots of row norms of X.\u001b[39;00m\n\u001b[1;32m     40\u001b[0m     logger\u001b[39m.\u001b[39minfo(\u001b[39mf\u001b[39m\u001b[39m\"\u001b[39m\u001b[39mComputing row norms of X...\u001b[39m\u001b[39m\"\u001b[39m)\n\u001b[0;32m---> 41\u001b[0m     da \u001b[39m=\u001b[39m np\u001b[39m.\u001b[39msqrt(np\u001b[39m.\u001b[39msqrt(get_squared_norms_along_compressed_axis(X)))\n\u001b[1;32m     42\u001b[0m     \u001b[39m# Divide rows and columns of X by the computed square roots of row norms of X\u001b[39;00m\n\u001b[1;32m     43\u001b[0m     da[da \u001b[39m==\u001b[39m \u001b[39m0\u001b[39m] \u001b[39m=\u001b[39m \u001b[39m1\u001b[39m  \u001b[39m# ignore zero elements\u001b[39;00m\n",
      "File \u001b[0;32m~/workspace/vk_recsys/vk_env/lib/python3.10/site-packages/sansa/utils/norms.py:19\u001b[0m, in \u001b[0;36mget_squared_norms_along_compressed_axis\u001b[0;34m(A)\u001b[0m\n\u001b[1;32m     17\u001b[0m data_copy \u001b[39m=\u001b[39m np\u001b[39m.\u001b[39mzeros(\u001b[39mlen\u001b[39m(A\u001b[39m.\u001b[39mdata) \u001b[39m+\u001b[39m \u001b[39m1\u001b[39m)\n\u001b[1;32m     18\u001b[0m data_copy[:\u001b[39m-\u001b[39m\u001b[39m1\u001b[39m] \u001b[39m=\u001b[39m A\u001b[39m.\u001b[39mdata\u001b[39m*\u001b[39m\u001b[39m*\u001b[39m\u001b[39m2\u001b[39m\n\u001b[0;32m---> 19\u001b[0m squared_norms \u001b[39m=\u001b[39m np\u001b[39m.\u001b[39madd\u001b[39m.\u001b[39mreduceat(data_copy, A\u001b[39m.\u001b[39;49mindptr[:\u001b[39m-\u001b[39m\u001b[39m1\u001b[39m]) \u001b[39m*\u001b[39m (np\u001b[39m.\u001b[39mdiff(A\u001b[39m.\u001b[39mindptr) \u001b[39m>\u001b[39m \u001b[39m0\u001b[39m)\n\u001b[1;32m     20\u001b[0m \u001b[39mdel\u001b[39;00m data_copy\n\u001b[1;32m     21\u001b[0m gc\u001b[39m.\u001b[39mcollect()\n",
      "\u001b[0;31mAttributeError\u001b[0m: 'coo_matrix' object has no attribute 'indptr'"
     ]
    }
   ],
   "source": [
    "# or on a precomputed symmetric item-item matrix\n",
    "model.fit(X, compute_gramian=False)"
   ]
  },
  {
   "cell_type": "code",
   "execution_count": 23,
   "metadata": {},
   "outputs": [
    {
     "ename": "AttributeError",
     "evalue": "'coo_matrix' object has no attribute 'indptr'",
     "output_type": "error",
     "traceback": [
      "\u001b[0;31m---------------------------------------------------------------------------\u001b[0m",
      "\u001b[0;31mAttributeError\u001b[0m                            Traceback (most recent call last)",
      "\u001b[1;32m/home/sokolov/workspace/vk_recsys/sansa.ipynb Cell 20\u001b[0m line \u001b[0;36m1\n\u001b[0;32m----> <a href='vscode-notebook-cell:/home/sokolov/workspace/vk_recsys/sansa.ipynb#X26sZmlsZQ%3D%3D?line=0'>1</a>\u001b[0m sparse_val\u001b[39m.\u001b[39;49mindptr\n",
      "\u001b[0;31mAttributeError\u001b[0m: 'coo_matrix' object has no attribute 'indptr'"
     ]
    }
   ],
   "source": [
    "sparse_val.indptr"
   ]
  }
 ],
 "metadata": {
  "kernelspec": {
   "display_name": "vk_env",
   "language": "python",
   "name": "python3"
  },
  "language_info": {
   "codemirror_mode": {
    "name": "ipython",
    "version": 3
   },
   "file_extension": ".py",
   "mimetype": "text/x-python",
   "name": "python",
   "nbconvert_exporter": "python",
   "pygments_lexer": "ipython3",
   "version": "3.10.12"
  }
 },
 "nbformat": 4,
 "nbformat_minor": 2
}
