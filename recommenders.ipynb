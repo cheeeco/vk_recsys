{
 "cells": [
  {
   "cell_type": "code",
   "execution_count": 1,
   "metadata": {},
   "outputs": [
    {
     "name": "stderr",
     "output_type": "stream",
     "text": [
      "/home/sokolov/.local/lib/python3.10/site-packages/tqdm/auto.py:21: TqdmWarning: IProgress not found. Please update jupyter and ipywidgets. See https://ipywidgets.readthedocs.io/en/stable/user_install.html\n",
      "  from .autonotebook import tqdm as notebook_tqdm\n"
     ]
    },
    {
     "name": "stdout",
     "output_type": "stream",
     "text": [
      "System version: 3.10.12 (main, Jun 11 2023, 05:26:28) [GCC 11.4.0]\n",
      "PyTorch version: 2.5.1+cu124\n",
      "Cornac version: 2.2.2\n"
     ]
    }
   ],
   "source": [
    "import os\n",
    "import sys\n",
    "import torch\n",
    "import cornac\n",
    "\n",
    "from recommenders.datasets import movielens\n",
    "from recommenders.datasets.python_splitters import python_random_split\n",
    "from recommenders.models.cornac.cornac_utils import predict_ranking\n",
    "from recommenders.utils.timer import Timer\n",
    "from recommenders.utils.constants import SEED\n",
    "from recommenders.evaluation.python_evaluation import (\n",
    "    map,\n",
    "    ndcg_at_k,\n",
    "    precision_at_k,\n",
    "    recall_at_k,\n",
    ")\n",
    "from recommenders.utils.notebook_utils import store_metadata\n",
    "\n",
    "print(f\"System version: {sys.version}\")\n",
    "print(f\"PyTorch version: {torch.__version__}\")\n",
    "print(f\"Cornac version: {cornac.__version__}\")"
   ]
  },
  {
   "cell_type": "code",
   "execution_count": 2,
   "metadata": {},
   "outputs": [],
   "source": [
    "\n",
    "# Select MovieLens data size: 100k, 1m, 10m, or 20m\n",
    "MOVIELENS_DATA_SIZE = '100k'\n",
    "\n",
    "# top k items to recommend\n",
    "TOP_K = 10\n",
    "\n",
    "# Model parameters\n",
    "LATENT_DIM = 50\n",
    "ENCODER_DIMS = [100]\n",
    "ACT_FUNC = \"tanh\"\n",
    "LIKELIHOOD = \"pois\"\n",
    "NUM_EPOCHS = 500\n",
    "BATCH_SIZE = 128\n",
    "LEARNING_RATE = 0.001"
   ]
  },
  {
   "cell_type": "code",
   "execution_count": 3,
   "metadata": {},
   "outputs": [],
   "source": [
    "from utils import evaluate, load_data"
   ]
  },
  {
   "cell_type": "code",
   "execution_count": 4,
   "metadata": {},
   "outputs": [],
   "source": [
    "import numpy as np\n",
    "from sklearn.model_selection import train_test_split"
   ]
  },
  {
   "cell_type": "markdown",
   "metadata": {},
   "source": [
    "##### read data"
   ]
  },
  {
   "cell_type": "code",
   "execution_count": 5,
   "metadata": {},
   "outputs": [],
   "source": [
    "user_item_data, user_meta_data, item_meta_data, test_pairs_data = load_data()"
   ]
  },
  {
   "cell_type": "code",
   "execution_count": 6,
   "metadata": {},
   "outputs": [],
   "source": [
    "# np.uint8 -> np.int16 cast to allow subtraction\n",
    "user_item_data[user_item_data.dtypes[user_item_data.dtypes==np.uint8].index] = \\\n",
    "    user_item_data[user_item_data.dtypes[user_item_data.dtypes==np.uint8].index].astype(np.int16)\n",
    "# single column for likes and dislikes\n",
    "user_item_data[\"explicit\"] = user_item_data.like - user_item_data.dislike"
   ]
  },
  {
   "cell_type": "code",
   "execution_count": 7,
   "metadata": {},
   "outputs": [],
   "source": [
    "user_item_data = user_item_data[[\"user_id\", \"item_id\", \"explicit\"]]"
   ]
  },
  {
   "cell_type": "code",
   "execution_count": 8,
   "metadata": {},
   "outputs": [],
   "source": [
    "ui_train, ui_val = train_test_split(user_item_data,\n",
    "                                    test_size=0.15,\n",
    "                                    random_state=42,\n",
    "                                    shuffle=False)"
   ]
  },
  {
   "cell_type": "code",
   "execution_count": 9,
   "metadata": {},
   "outputs": [
    {
     "name": "stdout",
     "output_type": "stream",
     "text": [
      "Number of users: 183404\n",
      "Number of items: 337707\n"
     ]
    }
   ],
   "source": [
    "train_set = cornac.data.Dataset.from_uir(ui_train.values,seed=SEED,)\n",
    "\n",
    "print('Number of users: {}'.format(train_set.num_users))\n",
    "print('Number of items: {}'.format(train_set.num_items))"
   ]
  },
  {
   "cell_type": "code",
   "execution_count": 5,
   "metadata": {},
   "outputs": [
    {
     "name": "stdout",
     "output_type": "stream",
     "text": [
      "\u001b[31mERROR: Could not find a version that satisfies the requirement distutils (from versions: none)\u001b[0m\u001b[31m\n",
      "\u001b[0m\n",
      "\u001b[1m[\u001b[0m\u001b[34;49mnotice\u001b[0m\u001b[1;39;49m]\u001b[0m\u001b[39;49m A new release of pip is available: \u001b[0m\u001b[31;49m24.2\u001b[0m\u001b[39;49m -> \u001b[0m\u001b[32;49m24.3.1\u001b[0m\n",
      "\u001b[1m[\u001b[0m\u001b[34;49mnotice\u001b[0m\u001b[1;39;49m]\u001b[0m\u001b[39;49m To update, run: \u001b[0m\u001b[32;49mpip install --upgrade pip\u001b[0m\n",
      "\u001b[31mERROR: No matching distribution found for distutils\u001b[0m\u001b[31m\n",
      "\u001b[0m"
     ]
    }
   ],
   "source": [
    "!python -m pip install distutils"
   ]
  },
  {
   "cell_type": "code",
   "execution_count": 3,
   "metadata": {},
   "outputs": [
    {
     "name": "stdout",
     "output_type": "stream",
     "text": [
      "Collecting numpy==1.9\n",
      "  Downloading numpy-1.9.0.zip (4.5 MB)\n",
      "\u001b[2K     \u001b[90m━━━━━━━━━━━━━━━━━━━━━━━━━━━━━━━━━━━━━━━━\u001b[0m \u001b[32m4.5/4.5 MB\u001b[0m \u001b[31m8.0 MB/s\u001b[0m eta \u001b[36m0:00:00\u001b[0mta \u001b[36m0:00:01\u001b[0m\n",
      "\u001b[?25h  Preparing metadata (setup.py) ... \u001b[?25ldone\n",
      "\u001b[?25hCollecting scipy==0.13.0\n",
      "  Using cached scipy-0.13.0.zip (11.3 MB)\n",
      "  Preparing metadata (setup.py) ... \u001b[?25ldone\n",
      "\u001b[?25hBuilding wheels for collected packages: numpy, scipy\n",
      "  Building wheel for numpy (setup.py) ... \u001b[?25lerror\n",
      "  \u001b[1;31merror\u001b[0m: \u001b[1msubprocess-exited-with-error\u001b[0m\n",
      "  \n",
      "  \u001b[31m×\u001b[0m \u001b[32mpython setup.py bdist_wheel\u001b[0m did not run successfully.\n",
      "  \u001b[31m│\u001b[0m exit code: \u001b[1;36m1\u001b[0m\n",
      "  \u001b[31m╰─>\u001b[0m \u001b[31m[17 lines of output]\u001b[0m\n",
      "  \u001b[31m   \u001b[0m Running from numpy source directory.\n",
      "  \u001b[31m   \u001b[0m /tmp/pip-install-5jtah43c/numpy_2d538da5c2254aa78c47c3fc0769a0f3/numpy/distutils/misc_util.py:415: SyntaxWarning: \"is\" with a literal. Did you mean \"==\"?\n",
      "  \u001b[31m   \u001b[0m   return is_string(s) and ('*' in s or '?' is s)\n",
      "  \u001b[31m   \u001b[0m Traceback (most recent call last):\n",
      "  \u001b[31m   \u001b[0m   File \"<string>\", line 2, in <module>\n",
      "  \u001b[31m   \u001b[0m   File \"<pip-setuptools-caller>\", line 34, in <module>\n",
      "  \u001b[31m   \u001b[0m   File \"/tmp/pip-install-5jtah43c/numpy_2d538da5c2254aa78c47c3fc0769a0f3/setup.py\", line 251, in <module>\n",
      "  \u001b[31m   \u001b[0m     setup_package()\n",
      "  \u001b[31m   \u001b[0m   File \"/tmp/pip-install-5jtah43c/numpy_2d538da5c2254aa78c47c3fc0769a0f3/setup.py\", line 235, in setup_package\n",
      "  \u001b[31m   \u001b[0m     from numpy.distutils.core import setup\n",
      "  \u001b[31m   \u001b[0m   File \"/tmp/pip-install-5jtah43c/numpy_2d538da5c2254aa78c47c3fc0769a0f3/numpy/distutils/core.py\", line 26, in <module>\n",
      "  \u001b[31m   \u001b[0m     from numpy.distutils.command import config, config_compiler, \\\n",
      "  \u001b[31m   \u001b[0m   File \"/tmp/pip-install-5jtah43c/numpy_2d538da5c2254aa78c47c3fc0769a0f3/numpy/distutils/command/config.py\", line 18, in <module>\n",
      "  \u001b[31m   \u001b[0m     from numpy.distutils.mingw32ccompiler import generate_manifest\n",
      "  \u001b[31m   \u001b[0m   File \"/tmp/pip-install-5jtah43c/numpy_2d538da5c2254aa78c47c3fc0769a0f3/numpy/distutils/mingw32ccompiler.py\", line 36, in <module>\n",
      "  \u001b[31m   \u001b[0m     from distutils.msvccompiler import get_build_version as get_build_msvc_version\n",
      "  \u001b[31m   \u001b[0m ModuleNotFoundError: No module named 'distutils.msvccompiler'\n",
      "  \u001b[31m   \u001b[0m \u001b[31m[end of output]\u001b[0m\n",
      "  \n",
      "  \u001b[1;35mnote\u001b[0m: This error originates from a subprocess, and is likely not a problem with pip.\n",
      "\u001b[31m  ERROR: Failed building wheel for numpy\u001b[0m\u001b[31m\n",
      "\u001b[0m\u001b[?25h  Running setup.py clean for numpy\n",
      "  Building wheel for scipy (setup.py) ... \u001b[?25lerror\n",
      "  \u001b[1;31merror\u001b[0m: \u001b[1msubprocess-exited-with-error\u001b[0m\n",
      "  \n",
      "  \u001b[31m×\u001b[0m \u001b[32mpython setup.py bdist_wheel\u001b[0m did not run successfully.\n",
      "  \u001b[31m│\u001b[0m exit code: \u001b[1;36m1\u001b[0m\n",
      "  \u001b[31m╰─>\u001b[0m \u001b[31m[10 lines of output]\u001b[0m\n",
      "  \u001b[31m   \u001b[0m /tmp/pip-install-5jtah43c/scipy_1dfab1ae91534e609b373082c99d0bae/setup.py:101: DeprecationWarning: the imp module is deprecated in favour of importlib and slated for removal in Python 3.12; see the module's documentation for alternative uses\n",
      "  \u001b[31m   \u001b[0m   import imp\n",
      "  \u001b[31m   \u001b[0m Traceback (most recent call last):\n",
      "  \u001b[31m   \u001b[0m   File \"<string>\", line 2, in <module>\n",
      "  \u001b[31m   \u001b[0m   File \"<pip-setuptools-caller>\", line 34, in <module>\n",
      "  \u001b[31m   \u001b[0m   File \"/tmp/pip-install-5jtah43c/scipy_1dfab1ae91534e609b373082c99d0bae/setup.py\", line 230, in <module>\n",
      "  \u001b[31m   \u001b[0m     setup_package()\n",
      "  \u001b[31m   \u001b[0m   File \"/tmp/pip-install-5jtah43c/scipy_1dfab1ae91534e609b373082c99d0bae/setup.py\", line 218, in setup_package\n",
      "  \u001b[31m   \u001b[0m     from numpy.distutils.core import setup\n",
      "  \u001b[31m   \u001b[0m ModuleNotFoundError: No module named 'numpy'\n",
      "  \u001b[31m   \u001b[0m \u001b[31m[end of output]\u001b[0m\n",
      "  \n",
      "  \u001b[1;35mnote\u001b[0m: This error originates from a subprocess, and is likely not a problem with pip.\n",
      "\u001b[31m  ERROR: Failed building wheel for scipy\u001b[0m\u001b[31m\n",
      "\u001b[0m\u001b[?25h  Running setup.py clean for scipy\n",
      "Failed to build numpy scipy\n",
      "\n",
      "\u001b[1m[\u001b[0m\u001b[34;49mnotice\u001b[0m\u001b[1;39;49m]\u001b[0m\u001b[39;49m A new release of pip is available: \u001b[0m\u001b[31;49m24.2\u001b[0m\u001b[39;49m -> \u001b[0m\u001b[32;49m24.3.1\u001b[0m\n",
      "\u001b[1m[\u001b[0m\u001b[34;49mnotice\u001b[0m\u001b[1;39;49m]\u001b[0m\u001b[39;49m To update, run: \u001b[0m\u001b[32;49mpip install --upgrade pip\u001b[0m\n",
      "\u001b[31mERROR: ERROR: Failed to build installable wheels for some pyproject.toml based projects (numpy, scipy)\u001b[0m\u001b[31m\n",
      "\u001b[0m"
     ]
    }
   ],
   "source": [
    "!python -m pip install numpy==1.9 scipy==0.13.0"
   ]
  },
  {
   "cell_type": "code",
   "execution_count": 5,
   "metadata": {},
   "outputs": [
    {
     "ename": "AttributeError",
     "evalue": "module 'scipy' has no attribute '__version__'",
     "output_type": "error",
     "traceback": [
      "\u001b[0;31m---------------------------------------------------------------------------\u001b[0m",
      "\u001b[0;31mAttributeError\u001b[0m                            Traceback (most recent call last)",
      "\u001b[1;32m/home/sokolov/workspace/vk_recsys/recommenders.ipynb Cell 12\u001b[0m line \u001b[0;36m1\n\u001b[0;32m----> <a href='vscode-notebook-cell:/home/sokolov/workspace/vk_recsys/recommenders.ipynb#X34sZmlsZQ%3D%3D?line=0'>1</a>\u001b[0m scipy\u001b[39m.\u001b[39;49m__version__\n",
      "\u001b[0;31mAttributeError\u001b[0m: module 'scipy' has no attribute '__version__'"
     ]
    }
   ],
   "source": [
    "scipy.__version__"
   ]
  },
  {
   "cell_type": "code",
   "execution_count": null,
   "metadata": {},
   "outputs": [],
   "source": [
    "!"
   ]
  },
  {
   "cell_type": "code",
   "execution_count": 10,
   "metadata": {},
   "outputs": [
    {
     "name": "stderr",
     "output_type": "stream",
     "text": [
      "  0%|          | 0/500 [00:11<?, ?it/s]\n"
     ]
    },
    {
     "ename": "AttributeError",
     "evalue": "'csc_matrix' object has no attribute 'A'",
     "output_type": "error",
     "traceback": [
      "\u001b[0;31m---------------------------------------------------------------------------\u001b[0m",
      "\u001b[0;31mAttributeError\u001b[0m                            Traceback (most recent call last)",
      "\u001b[1;32m/home/sokolov/workspace/vk_recsys/recommenders.ipynb Cell 11\u001b[0m line \u001b[0;36m1\n\u001b[1;32m      <a href='vscode-notebook-cell:/home/sokolov/workspace/vk_recsys/recommenders.ipynb#X26sZmlsZQ%3D%3D?line=0'>1</a>\u001b[0m bivae \u001b[39m=\u001b[39m cornac\u001b[39m.\u001b[39mmodels\u001b[39m.\u001b[39mBiVAECF(\n\u001b[1;32m      <a href='vscode-notebook-cell:/home/sokolov/workspace/vk_recsys/recommenders.ipynb#X26sZmlsZQ%3D%3D?line=1'>2</a>\u001b[0m     k\u001b[39m=\u001b[39mLATENT_DIM,\n\u001b[1;32m      <a href='vscode-notebook-cell:/home/sokolov/workspace/vk_recsys/recommenders.ipynb#X26sZmlsZQ%3D%3D?line=2'>3</a>\u001b[0m     encoder_structure\u001b[39m=\u001b[39mENCODER_DIMS,\n\u001b[0;32m   (...)\u001b[0m\n\u001b[1;32m     <a href='vscode-notebook-cell:/home/sokolov/workspace/vk_recsys/recommenders.ipynb#X26sZmlsZQ%3D%3D?line=10'>11</a>\u001b[0m     verbose\u001b[39m=\u001b[39m\u001b[39mTrue\u001b[39;00m\n\u001b[1;32m     <a href='vscode-notebook-cell:/home/sokolov/workspace/vk_recsys/recommenders.ipynb#X26sZmlsZQ%3D%3D?line=11'>12</a>\u001b[0m )\n\u001b[1;32m     <a href='vscode-notebook-cell:/home/sokolov/workspace/vk_recsys/recommenders.ipynb#X26sZmlsZQ%3D%3D?line=13'>14</a>\u001b[0m \u001b[39mwith\u001b[39;00m Timer() \u001b[39mas\u001b[39;00m t:\n\u001b[0;32m---> <a href='vscode-notebook-cell:/home/sokolov/workspace/vk_recsys/recommenders.ipynb#X26sZmlsZQ%3D%3D?line=14'>15</a>\u001b[0m     bivae\u001b[39m.\u001b[39;49mfit(train_set)\n\u001b[1;32m     <a href='vscode-notebook-cell:/home/sokolov/workspace/vk_recsys/recommenders.ipynb#X26sZmlsZQ%3D%3D?line=15'>16</a>\u001b[0m \u001b[39mprint\u001b[39m(\u001b[39m\"\u001b[39m\u001b[39mTook \u001b[39m\u001b[39m{}\u001b[39;00m\u001b[39m seconds for training.\u001b[39m\u001b[39m\"\u001b[39m\u001b[39m.\u001b[39mformat(t))\n",
      "File \u001b[0;32m~/workspace/vk_recsys/vk_env/lib/python3.10/site-packages/cornac/models/bivaecf/recom_bivaecf.py:178\u001b[0m, in \u001b[0;36mBiVAECF.fit\u001b[0;34m(self, train_set, val_set)\u001b[0m\n\u001b[1;32m    166\u001b[0m         num_users \u001b[39m=\u001b[39m train_set\u001b[39m.\u001b[39mmatrix\u001b[39m.\u001b[39mshape[\u001b[39m0\u001b[39m]\n\u001b[1;32m    167\u001b[0m         \u001b[39mself\u001b[39m\u001b[39m.\u001b[39mbivae \u001b[39m=\u001b[39m BiVAE(\n\u001b[1;32m    168\u001b[0m             k\u001b[39m=\u001b[39m\u001b[39mself\u001b[39m\u001b[39m.\u001b[39mk,\n\u001b[1;32m    169\u001b[0m             user_encoder_structure\u001b[39m=\u001b[39m[num_items] \u001b[39m+\u001b[39m \u001b[39mself\u001b[39m\u001b[39m.\u001b[39mencoder_structure,\n\u001b[0;32m   (...)\u001b[0m\n\u001b[1;32m    175\u001b[0m             batch_size\u001b[39m=\u001b[39m\u001b[39mself\u001b[39m\u001b[39m.\u001b[39mbatch_size,\n\u001b[1;32m    176\u001b[0m         )\u001b[39m.\u001b[39mto(\u001b[39mself\u001b[39m\u001b[39m.\u001b[39mdevice)\n\u001b[0;32m--> 178\u001b[0m     learn(\n\u001b[1;32m    179\u001b[0m         \u001b[39mself\u001b[39;49m\u001b[39m.\u001b[39;49mbivae,\n\u001b[1;32m    180\u001b[0m         train_set,\n\u001b[1;32m    181\u001b[0m         n_epochs\u001b[39m=\u001b[39;49m\u001b[39mself\u001b[39;49m\u001b[39m.\u001b[39;49mn_epochs,\n\u001b[1;32m    182\u001b[0m         batch_size\u001b[39m=\u001b[39;49m\u001b[39mself\u001b[39;49m\u001b[39m.\u001b[39;49mbatch_size,\n\u001b[1;32m    183\u001b[0m         learn_rate\u001b[39m=\u001b[39;49m\u001b[39mself\u001b[39;49m\u001b[39m.\u001b[39;49mlearning_rate,\n\u001b[1;32m    184\u001b[0m         beta_kl\u001b[39m=\u001b[39;49m\u001b[39mself\u001b[39;49m\u001b[39m.\u001b[39;49mbeta_kl,\n\u001b[1;32m    185\u001b[0m         verbose\u001b[39m=\u001b[39;49m\u001b[39mself\u001b[39;49m\u001b[39m.\u001b[39;49mverbose,\n\u001b[1;32m    186\u001b[0m         device\u001b[39m=\u001b[39;49m\u001b[39mself\u001b[39;49m\u001b[39m.\u001b[39;49mdevice,\n\u001b[1;32m    187\u001b[0m     )\n\u001b[1;32m    188\u001b[0m \u001b[39melif\u001b[39;00m \u001b[39mself\u001b[39m\u001b[39m.\u001b[39mverbose:\n\u001b[1;32m    189\u001b[0m     \u001b[39mprint\u001b[39m(\u001b[39m\"\u001b[39m\u001b[39m%s\u001b[39;00m\u001b[39m is trained already (trainable = False)\u001b[39m\u001b[39m\"\u001b[39m \u001b[39m%\u001b[39m (\u001b[39mself\u001b[39m\u001b[39m.\u001b[39mname))\n",
      "File \u001b[0;32m~/workspace/vk_recsys/vk_env/lib/python3.10/site-packages/cornac/models/bivaecf/bivae.py:201\u001b[0m, in \u001b[0;36mlearn\u001b[0;34m(bivae, train_set, n_epochs, batch_size, learn_rate, beta_kl, verbose, device, dtype)\u001b[0m\n\u001b[1;32m    199\u001b[0m \u001b[39mfor\u001b[39;00m i_ids \u001b[39min\u001b[39;00m train_set\u001b[39m.\u001b[39mitem_iter(batch_size, shuffle\u001b[39m=\u001b[39m\u001b[39mFalse\u001b[39;00m):\n\u001b[1;32m    200\u001b[0m     i_batch \u001b[39m=\u001b[39m tx[i_ids, :]\n\u001b[0;32m--> 201\u001b[0m     i_batch \u001b[39m=\u001b[39m i_batch\u001b[39m.\u001b[39;49mA\n\u001b[1;32m    202\u001b[0m     i_batch \u001b[39m=\u001b[39m torch\u001b[39m.\u001b[39mtensor(i_batch, dtype\u001b[39m=\u001b[39mdtype, device\u001b[39m=\u001b[39mdevice)\n\u001b[1;32m    204\u001b[0m     \u001b[39m# Reconstructed batch\u001b[39;00m\n",
      "\u001b[0;31mAttributeError\u001b[0m: 'csc_matrix' object has no attribute 'A'"
     ]
    }
   ],
   "source": [
    "bivae = cornac.models.BiVAECF(\n",
    "    k=LATENT_DIM,\n",
    "    encoder_structure=ENCODER_DIMS,\n",
    "    act_fn=ACT_FUNC,\n",
    "    likelihood=LIKELIHOOD,\n",
    "    n_epochs=NUM_EPOCHS,\n",
    "    batch_size=BATCH_SIZE,\n",
    "    learning_rate=LEARNING_RATE,\n",
    "    seed=SEED,\n",
    "    use_gpu=torch.cuda.is_available(),\n",
    "    verbose=True\n",
    ")\n",
    "\n",
    "with Timer() as t:\n",
    "    bivae.fit(train_set)\n",
    "print(\"Took {} seconds for training.\".format(t))"
   ]
  }
 ],
 "metadata": {
  "kernelspec": {
   "display_name": "vk_env",
   "language": "python",
   "name": "python3"
  },
  "language_info": {
   "codemirror_mode": {
    "name": "ipython",
    "version": 3
   },
   "file_extension": ".py",
   "mimetype": "text/x-python",
   "name": "python",
   "nbconvert_exporter": "python",
   "pygments_lexer": "ipython3",
   "version": "3.10.12"
  }
 },
 "nbformat": 4,
 "nbformat_minor": 2
}
